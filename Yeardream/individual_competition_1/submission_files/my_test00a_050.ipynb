{
  "cells": [
    {
      "cell_type": "code",
      "execution_count": null,
      "metadata": {
        "colab": {
          "base_uri": "https://localhost:8080/"
        },
        "id": "89YysxjHlM-w",
        "outputId": "d7dad0db-f077-4b99-db50-093ae252a001"
      },
      "outputs": [
        {
          "output_type": "stream",
          "name": "stdout",
          "text": [
            "Mounted at /content/drive\n"
          ]
        }
      ],
      "source": [
        "# 라이브러리 임포트\n",
        "import pandas as pd\n",
        "import numpy as np\n",
        "\n",
        "import seaborn as sns\n",
        "import matplotlib\n",
        "import matplotlib.pyplot as plt\n",
        "%matplotlib inline\n",
        "\n",
        "import xgboost\n",
        "from xgboost import XGBClassifier\n",
        "from lightgbm import LGBMClassifier\n",
        "\n",
        "from sklearn.svm import SVC, LinearSVC\n",
        "from sklearn.tree import DecisionTreeClassifier\n",
        "from sklearn.neighbors import KNeighborsClassifier\n",
        "from sklearn.ensemble import RandomForestClassifier, AdaBoostClassifier, ExtraTreesClassifier, BaggingClassifier, GradientBoostingClassifier, VotingClassifier, StackingClassifier\n",
        "from sklearn.linear_model import LogisticRegression, LinearRegression, Ridge, RidgeCV, RidgeClassifier, SGDClassifier\n",
        "from sklearn.model_selection import train_test_split, RepeatedStratifiedKFold, GridSearchCV, StratifiedKFold\n",
        "import sklearn.metrics as metrics\n",
        "from sklearn.metrics import accuracy_score, precision_score, recall_score, f1_score, roc_auc_score, roc_curve, auc, confusion_matrix, classification_report\n",
        "from sklearn.preprocessing import StandardScaler\n",
        "from sklearn.feature_selection import RFECV\n",
        "\n",
        "from torch import Tensor\n",
        "import torch\n",
        "import torch.nn as nn\n",
        "from torch.utils.data import Dataset\n",
        "from torch.utils.data import DataLoader\n",
        "\n",
        "import warnings\n",
        "warnings.filterwarnings('ignore')\n",
        "\n",
        "from google.colab import drive\n",
        "drive.mount('/content/drive')\n",
        "DEVICE = torch.device('cuda' if torch.cuda.is_available() else 'cpu')"
      ]
    },
    {
      "cell_type": "markdown",
      "source": [
        "## Pre-processing Data"
      ],
      "metadata": {
        "id": "C3gyLZ8JlNOQ"
      }
    },
    {
      "cell_type": "code",
      "source": [
        "df = pd.read_csv('/content/drive/MyDrive/competition_1st/train.csv')"
      ],
      "metadata": {
        "id": "uQms3IYcZpid"
      },
      "execution_count": null,
      "outputs": []
    },
    {
      "cell_type": "code",
      "source": [
        "# 완전 불필요한 컬럼 제일 먼저 삭제\n",
        "# out_prncp와 완전 동일함, purpose4 값 없음, funded_amnt_inv는 funded_amnt와 유의미한 차이가 안보임, \n",
        "# fico_range_high는 low와 유사하고 채무불이행에는 low가 논리적으로 더 중요해보임 ft_imp에서도 high는 중요하다고 안나옴.\n",
        "# home ownership1,3,4는 셋다 feature importance 0이나옴\n",
        "df=df.drop(['out_prncp_inv', 'funded_amnt_inv', 'purpose4', 'fico_range_high'], axis=1)"
      ],
      "metadata": {
        "id": "q_VsSA9Tdih5"
      },
      "execution_count": null,
      "outputs": []
    },
    {
      "cell_type": "code",
      "source": [
        "# 새로운 컬럼 생성\n",
        "df['my_ft1'] = df['int_rate']*df['dti']\n",
        "df['my_ft2'] = np.log(df['annual_inc']*df['fico_range_low'])\n",
        "df['my_ft4'] = df['int_rate']*df['funded_amnt']\n",
        "df['my_ft5'] = df['int_rate']*df['dti']/np.log(df['tot_cur_bal']*df['fico_range_low'])\n",
        "df['my_ft6'] = df['revol_util']/(df['revol_bal']+0.0000001)\n",
        "df['my_ft7'] = df['int_rate']*df['funded_amnt']/np.log(df['tot_cur_bal']*df['fico_range_low']+2)\n",
        "df['my_ft9'] = np.log(df['int_rate']*df['funded_amnt'])*df['dti']\n",
        "df['my_ft11'] = df['installment']/ df['annual_inc']\n",
        "df['my_ft14'] = df['total_rec_int']/df['installment']\n",
        "df['my_ft15'] = df['delinq_2yrs']+2*df['pub_rec']+3*df['inq_last_6mths']\n",
        "df['my_ft17'] = (2-(1+np.sqrt(np.log(1+df['term1'])+0.0001))*np.log(1+df['term1'])/(np.log(1+df['term1'])+0.0001)\n",
        "                 +2*((1+np.sqrt(np.log(1+df['total_rec_late_fee']+0.0001)))*np.log(1+df['total_rec_late_fee'])/(np.log(1+df['total_rec_late_fee'])+0.0001))\n",
        "                 +(1+1/5*(np.log(1+df['collections_12_mths_ex_med'])))*np.log(1+df['collections_12_mths_ex_med'])/(np.log(1+df['collections_12_mths_ex_med'])+0.0001)\n",
        "                )"
      ],
      "metadata": {
        "id": "f9eIMq4_dlI_"
      },
      "execution_count": null,
      "outputs": []
    },
    {
      "cell_type": "code",
      "source": [
        "# 범주형 컬럼 생성\n",
        "col_list = list(df.columns)\n",
        "emp_list = col_list[15:27]\n",
        "home_list = col_list[27:33]\n",
        "verif_list = col_list[33:36]\n",
        "purpose_list = col_list[36:49]\n",
        "initial_list = col_list[49:51]\n",
        "\n",
        "emp_proba = list()\n",
        "df['my_ft22'] = float(0)\n",
        "for col in emp_list:\n",
        "    a, b = df[(df[col]>0) & (df['depvar']==0)].shape[0], df[(df[col]>0) & (df['depvar']==1)].shape[0]\n",
        "    emp_proba.append(1+b/(a+b))\n",
        "for i, col in enumerate(emp_list):\n",
        "    df['my_ft22'] += emp_proba[i]*df[col]\n",
        "\n",
        "home_proba = list()\n",
        "df['my_ft23'] = float(0)\n",
        "for col in home_list:\n",
        "    a, b = df[(df[col]>0) & (df['depvar']==0)].shape[0], df[(df[col]>0) & (df['depvar']==1)].shape[0]\n",
        "    home_proba.append(1+b/(a+b))\n",
        "for i, col in enumerate(home_list):\n",
        "    df['my_ft23'] += home_proba[i]*df[col]\n",
        "\n",
        "verif_proba = list()\n",
        "df['my_ft24'] = float(0)\n",
        "for col in verif_list:\n",
        "    a, b = df[(df[col]>0) & (df['depvar']==0)].shape[0], df[(df[col]>0) & (df['depvar']==1)].shape[0]\n",
        "    verif_proba.append(1+b/(a+b))\n",
        "for i, col in enumerate(verif_list):\n",
        "    df['my_ft24'] += verif_proba[i]*df[col]\n",
        "\n",
        "purpose_proba = list()\n",
        "df['my_ft25'] = float(0)\n",
        "for col in purpose_list:\n",
        "    a, b = df[(df[col]>0) & (df['depvar']==0)].shape[0], df[(df[col]>0) & (df['depvar']==1)].shape[0]\n",
        "    purpose_proba.append(1+b/(a+b))\n",
        "for i, col in enumerate(purpose_list):\n",
        "    df['my_ft25'] += purpose_proba[i]*df[col]\n",
        "\n",
        "initial_proba = list()\n",
        "df['my_ft26'] = float(0)\n",
        "for col in initial_list:\n",
        "    a, b = df[(df[col]>0) & (df['depvar']==0)].shape[0], df[(df[col]>0) & (df['depvar']==1)].shape[0]\n",
        "    initial_proba.append(1+b/(a+b))  \n",
        "for i, col in enumerate(initial_list): \n",
        "    df['my_ft26'] += initial_proba[i]*df[col]  \n",
        "\n",
        "df['my_ft27'] = df['my_ft22']+df['my_ft23']+df['my_ft24']+df['my_ft25']+df['my_ft26']\n",
        "df['my_ft28'] = df['my_ft22']+df['my_ft23']+df['my_ft24']"
      ],
      "metadata": {
        "id": "fOheHXF6dr8D"
      },
      "execution_count": null,
      "outputs": []
    },
    {
      "cell_type": "code",
      "source": [
        "\n",
        "# 다음 불필요한 컬럼 삭제. feature는 현재 과포화 상태임. 유의미한 feature만들어내고 불필요한 column없애야함 그다음 feature importance 낮은 값들 삭제\n",
        "# chargeoff 는 1:2비율에 숫자도 10만개중 850개정도. purpose6,11,14는 ft_imp = 0일정도로 고려안함. \n",
        "# acc_now_delinq는 유의미 데이터가 10개단위임\n",
        "# total_acc는 정확히 모든 구간이 1:2 비율임. 자체로는 의미가 없음.논리적으로도 의미없음\n",
        "df=df.drop(['chargeoff_within_12_mths', 'acc_now_delinq', 'total_acc'], axis=1)\n",
        "# 데이터 추가삭제 (사실상 feature의 안개같은 역할, mths_since_last_delinq항목의 경우 정확히 1:2비율. 모두 삭제\n",
        "df=df.drop(['mths_since_last_delinq1',  'mths_since_last_delinq2', 'mths_since_last_delinq3',\n",
        "            'mths_since_last_delinq4', 'mths_since_last_delinq5', 'mths_since_last_delinq6',\n",
        "            'mths_since_last_delinq7', 'mths_since_last_delinq8', 'mths_since_last_delinq9',\n",
        "            'mths_since_last_delinq10', 'mths_since_last_delinq11'], axis=1)\n",
        "#####--------- 만들어준 home_ownership, emp_length, purpose, verification_status, initial_list_status 항목 삭제---------######\n",
        "# emp_length의 경우 분명 test data가 이 train 데이터로 만들어졌다는 의심이 듦(각 emp1~12의 비율이 train.csv와 test.csv가 동일함)\n",
        "# df=df.drop(['home_ownership1', 'home_ownership2', 'home_ownership3', 'home_ownership4',\n",
        "#             'home_ownership5', 'home_ownership6'], axis=1)\n",
        "# df=df.drop(['emp_length1', 'emp_length2', 'emp_length3', 'emp_length4',\n",
        "#             'emp_length5', 'emp_length6', 'emp_length7', 'emp_length8',\n",
        "#             'emp_length9', 'emp_length10', 'emp_length11', 'emp_length12'], axis=1)\n",
        "# df=df.drop(['purpose1', 'purpose2', 'purpose3', 'purpose5', 'purpose6', 'purpose7','purpose8',\n",
        "#             'purpose9', 'purpose10', 'purpose11', 'purpose12', 'purpose13', 'purpose14'], axis=1)\n",
        "# df=df.drop(['initial_list_status1', 'initial_list_status2'], axis=1)\n",
        "# df=df.drop(['verification_status1', 'verification_status2', 'verification_status3'], axis=1)\n",
        "###############################################################################################################################\n"
      ],
      "metadata": {
        "id": "ySxuq9Y0xJzU"
      },
      "execution_count": null,
      "outputs": []
    },
    {
      "cell_type": "code",
      "source": [
        "df.info()"
      ],
      "metadata": {
        "id": "QlOnlyIDnetU",
        "colab": {
          "base_uri": "https://localhost:8080/"
        },
        "outputId": "77cd5090-306a-4677-efae-66d45656a18f"
      },
      "execution_count": null,
      "outputs": [
        {
          "output_type": "stream",
          "name": "stdout",
          "text": [
            "<class 'pandas.core.frame.DataFrame'>\n",
            "RangeIndex: 100000 entries, 0 to 99999\n",
            "Data columns (total 76 columns):\n",
            " #   Column                      Non-Null Count   Dtype  \n",
            "---  ------                      --------------   -----  \n",
            " 0   int_rate                    100000 non-null  float64\n",
            " 1   annual_inc                  100000 non-null  float64\n",
            " 2   dti                         100000 non-null  float64\n",
            " 3   delinq_2yrs                 100000 non-null  int64  \n",
            " 4   inq_last_6mths              100000 non-null  int64  \n",
            " 5   pub_rec                     100000 non-null  int64  \n",
            " 6   revol_bal                   100000 non-null  int64  \n",
            " 7   collections_12_mths_ex_med  100000 non-null  int64  \n",
            " 8   tot_coll_amt                100000 non-null  int64  \n",
            " 9   tot_cur_bal                 100000 non-null  int64  \n",
            " 10  delinq_amnt                 100000 non-null  int64  \n",
            " 11  tax_liens                   100000 non-null  int64  \n",
            " 12  emp_length1                 100000 non-null  int64  \n",
            " 13  emp_length2                 100000 non-null  int64  \n",
            " 14  emp_length3                 100000 non-null  int64  \n",
            " 15  emp_length4                 100000 non-null  int64  \n",
            " 16  emp_length5                 100000 non-null  int64  \n",
            " 17  emp_length6                 100000 non-null  int64  \n",
            " 18  emp_length7                 100000 non-null  int64  \n",
            " 19  emp_length8                 100000 non-null  int64  \n",
            " 20  emp_length9                 100000 non-null  int64  \n",
            " 21  emp_length10                100000 non-null  int64  \n",
            " 22  emp_length11                100000 non-null  int64  \n",
            " 23  emp_length12                100000 non-null  int64  \n",
            " 24  home_ownership1             100000 non-null  int64  \n",
            " 25  home_ownership2             100000 non-null  int64  \n",
            " 26  home_ownership3             100000 non-null  int64  \n",
            " 27  home_ownership4             100000 non-null  int64  \n",
            " 28  home_ownership5             100000 non-null  int64  \n",
            " 29  home_ownership6             100000 non-null  int64  \n",
            " 30  verification_status1        100000 non-null  int64  \n",
            " 31  verification_status2        100000 non-null  int64  \n",
            " 32  verification_status3        100000 non-null  int64  \n",
            " 33  purpose1                    100000 non-null  int64  \n",
            " 34  purpose2                    100000 non-null  int64  \n",
            " 35  purpose3                    100000 non-null  int64  \n",
            " 36  purpose5                    100000 non-null  int64  \n",
            " 37  purpose6                    100000 non-null  int64  \n",
            " 38  purpose7                    100000 non-null  int64  \n",
            " 39  purpose8                    100000 non-null  int64  \n",
            " 40  purpose9                    100000 non-null  int64  \n",
            " 41  purpose10                   100000 non-null  int64  \n",
            " 42  purpose11                   100000 non-null  int64  \n",
            " 43  purpose12                   100000 non-null  int64  \n",
            " 44  purpose13                   100000 non-null  int64  \n",
            " 45  purpose14                   100000 non-null  int64  \n",
            " 46  initial_list_status1        100000 non-null  int64  \n",
            " 47  initial_list_status2        100000 non-null  int64  \n",
            " 48  funded_amnt                 100000 non-null  int64  \n",
            " 49  total_rec_late_fee          100000 non-null  float64\n",
            " 50  term1                       100000 non-null  int64  \n",
            " 51  open_acc                    100000 non-null  int64  \n",
            " 52  installment                 100000 non-null  float64\n",
            " 53  revol_util                  100000 non-null  float64\n",
            " 54  out_prncp                   100000 non-null  float64\n",
            " 55  total_rec_int               100000 non-null  float64\n",
            " 56  fico_range_low              100000 non-null  int64  \n",
            " 57  depvar                      100000 non-null  int64  \n",
            " 58  my_ft1                      100000 non-null  float64\n",
            " 59  my_ft2                      100000 non-null  float64\n",
            " 60  my_ft4                      100000 non-null  float64\n",
            " 61  my_ft5                      100000 non-null  float64\n",
            " 62  my_ft6                      100000 non-null  float64\n",
            " 63  my_ft7                      100000 non-null  float64\n",
            " 64  my_ft9                      100000 non-null  float64\n",
            " 65  my_ft11                     100000 non-null  float64\n",
            " 66  my_ft14                     100000 non-null  float64\n",
            " 67  my_ft15                     100000 non-null  int64  \n",
            " 68  my_ft17                     100000 non-null  float64\n",
            " 69  my_ft22                     100000 non-null  float64\n",
            " 70  my_ft23                     100000 non-null  float64\n",
            " 71  my_ft24                     100000 non-null  float64\n",
            " 72  my_ft25                     100000 non-null  float64\n",
            " 73  my_ft26                     100000 non-null  float64\n",
            " 74  my_ft27                     100000 non-null  float64\n",
            " 75  my_ft28                     100000 non-null  float64\n",
            "dtypes: float64(25), int64(51)\n",
            "memory usage: 58.0 MB\n"
          ]
        }
      ]
    },
    {
      "cell_type": "markdown",
      "source": [
        "## Train - Valid set 분리 ( 비율 상황에 맞게 조절 )"
      ],
      "metadata": {
        "id": "CbeuYrDO7RsX"
      }
    },
    {
      "cell_type": "code",
      "source": [
        "X = df.drop('depvar', axis=1)\n",
        "y = df['depvar']\n",
        "\n",
        "# data를 training set과 validation set으로 나누기\n",
        "X_train, X_valid, y_train, y_valid = train_test_split(X, y, test_size=0.001, random_state=42)"
      ],
      "metadata": {
        "id": "zIzbCw5zlv2q"
      },
      "execution_count": null,
      "outputs": []
    },
    {
      "cell_type": "code",
      "source": [
        "X = df.drop('depvar', axis=1)\n",
        "y = df['depvar']\n",
        "\n",
        "# data를 training set과 validation set으로 나누기\n",
        "X_train, X_valid, y_train, y_valid = train_test_split(X, y, test_size=0.36, random_state=42)"
      ],
      "metadata": {
        "id": "hP9oemTEZaep"
      },
      "execution_count": null,
      "outputs": []
    },
    {
      "cell_type": "markdown",
      "source": [
        "## 정규화 \n",
        "tree기반 deep learning에서는 의미없음"
      ],
      "metadata": {
        "id": "mR9HEpxiUlFb"
      }
    },
    {
      "cell_type": "code",
      "source": [
        "# 정규화 // 오히려 정규화하고 점수 더 안좋아지는 경향\n",
        "\n",
        "X_train_sc = StandardScaler().fit_transform(X_train)\n",
        "X_valid_sc = StandardScaler().fit_transform(X_valid)"
      ],
      "metadata": {
        "id": "p848PEKjlvsq"
      },
      "execution_count": null,
      "outputs": []
    },
    {
      "cell_type": "markdown",
      "source": [
        "## SMOTE\n",
        "데이터 증강"
      ],
      "metadata": {
        "id": "u57GyZB1EpaJ"
      }
    },
    {
      "cell_type": "code",
      "source": [
        "# Data 증축 전, 결과 값 비율\n",
        "print(\"Before OverSampling, counts of label '0': {}\".format(sum(y_train==0)))\n",
        "print(\"Before OverSampling, counts of label '1': {}\".format(sum(y_train==1)))"
      ],
      "metadata": {
        "colab": {
          "base_uri": "https://localhost:8080/"
        },
        "id": "BG1tBc6qK-iT",
        "outputId": "c81e7cd9-7122-499a-9bef-79ba64574aa1"
      },
      "execution_count": null,
      "outputs": [
        {
          "output_type": "stream",
          "name": "stdout",
          "text": [
            "Before OverSampling, counts of label '0': 67368\n",
            "Before OverSampling, counts of label '1': 32532\n"
          ]
        }
      ]
    },
    {
      "cell_type": "code",
      "source": [
        "from imblearn.over_sampling import SMOTE\n",
        "\n",
        "sm = SMOTE(random_state=42) \n",
        "X_train, y_train = sm.fit_resample(X_train, y_train)"
      ],
      "metadata": {
        "id": "KEo0IgiIEr7V"
      },
      "execution_count": null,
      "outputs": []
    },
    {
      "cell_type": "code",
      "source": [
        "print(\"After OverSampling, counts of label '0': {}\".format(sum(y_train==0)))\n",
        "print(\"After OverSampling, counts of label '1': {}\".format(sum(y_train==1)))"
      ],
      "metadata": {
        "id": "ubdTUKwjE9oa",
        "colab": {
          "base_uri": "https://localhost:8080/"
        },
        "outputId": "2c513ba5-f6e4-40c3-ccb5-6d9c0a9ca20a"
      },
      "execution_count": null,
      "outputs": [
        {
          "output_type": "stream",
          "name": "stdout",
          "text": [
            "After OverSampling, counts of label '0': 67368\n",
            "After OverSampling, counts of label '1': 67368\n"
          ]
        }
      ]
    },
    {
      "cell_type": "markdown",
      "source": [
        "## 사용할 평가 함수 정의"
      ],
      "metadata": {
        "id": "pbGLf1wWUnh5"
      }
    },
    {
      "cell_type": "code",
      "source": [
        "def get_clf_eval(y_actual, y_pred):\n",
        "    accuracy = accuracy_score(y_actual, y_pred)\n",
        "    precision = precision_score(y_actual, y_pred)\n",
        "    recall = recall_score(y_actual, y_pred)\n",
        "    AUC = roc_auc_score(y_actual, y_pred)\n",
        "    F1 = f1_score(y_actual, y_pred)\n",
        "    print('\\n정확도: {:.4f}'.format(accuracy))\n",
        "    print('정밀도: {:.4f}'.format(precision))\n",
        "    print('재현율: {:.4f}'.format(recall))\n",
        "    print('AUC: {:.4f}'.format(AUC))\n",
        "    print('F1: {:.4f}'.format(F1))\n",
        "    \n",
        "    # sns.heatmap(confusion_matrix(y_actual, y_pred), annot=True, fmt='d', cmap='YlGnBu')"
      ],
      "metadata": {
        "id": "xv9cNFBZpe9T"
      },
      "execution_count": null,
      "outputs": []
    },
    {
      "cell_type": "code",
      "source": [
        "def get_clf_eval2(y_actual, y_pred):    \n",
        "    sns.heatmap(confusion_matrix(y_actual, y_pred), annot=True, fmt='d', cmap='YlGnBu')"
      ],
      "metadata": {
        "id": "_aEv1WVky8_A"
      },
      "execution_count": null,
      "outputs": []
    },
    {
      "cell_type": "markdown",
      "source": [
        "## 하이퍼 파라미터 최적화// 데이터 80%로 grid search진행"
      ],
      "metadata": {
        "id": "YbIX8n5YT7jA"
      }
    },
    {
      "cell_type": "code",
      "source": [
        "# 1. Random Forest  (1차 12, 8, 8, 150)\n",
        "rnd_clf = RandomForestClassifier(random_state=42)\n",
        "\n",
        "param_grid = { 'n_estimators' : [250],\n",
        "           'max_depth' : [10, 13, 16], #[10~16] #\n",
        "           'min_samples_leaf' : [6,8,10],   # [6~10] \n",
        "           'min_samples_split' : [8, 16, 20, 25]  # [8~25]\n",
        "            }\n",
        "\n",
        "cv=RepeatedStratifiedKFold(n_splits=5, n_repeats=2)\n",
        "\n",
        "grid_search = GridSearchCV(estimator=rnd_clf,\n",
        "                           param_grid=param_grid, \n",
        "                           n_jobs=-1,\n",
        "                           cv=cv) \n",
        "\n",
        "results_rnd=grid_search.fit(X_train, y_train)\n",
        "\n",
        "results_rnd.best_params_"
      ],
      "metadata": {
        "id": "1PbhPqBNWYcD"
      },
      "execution_count": null,
      "outputs": []
    },
    {
      "cell_type": "code",
      "source": [
        "# Random Forest best parameter를 사용하여 prediction 수행\n",
        "rdn_clf = RandomForestClassifier(max_depth = results_rnd.best_params_['max_depth'],\n",
        "                                n_estimators = 250,\n",
        "                                min_samples_leaf=results_rnd.best_params_['min_samples_leaf'],\n",
        "                                min_samples_split=results_rnd.best_params_['min_samples_split']\n",
        "                                ) \n",
        "\n",
        "rdn_clf.fit(X_train, y_train)"
      ],
      "metadata": {
        "id": "lDvOY8BLroq7"
      },
      "execution_count": null,
      "outputs": []
    },
    {
      "cell_type": "code",
      "source": [
        "# Random Forest 평가점수\n",
        "threshold_list = [0.3, 0.31, 0.32, 0.33, 0.34, 0.35, 0.36, 0.37, 0.38, 0.39, 0.40]\n",
        "for i in threshold_list:\n",
        "    get_clf_eval(y_valid, rdn_clf.predict_proba(X_valid)[:,1]> i)"
      ],
      "metadata": {
        "id": "j6RBWJPeroon"
      },
      "execution_count": null,
      "outputs": []
    },
    {
      "cell_type": "code",
      "source": [
        "# 2. XGBoost\n",
        "xgb_clf = XGBClassifier(tree_method='gpu_hist', predictor='gpu_predictor',\n",
        "                        objective='binary:logistic', nthread=-1,\n",
        "                        random_state=42)\n",
        "# GPU사용시ㅡ tree_method='gpu_hist' \n",
        "# Do not use this for test/validation tasks as some information may be lost in quantisation. \n",
        "# This DMatrix is primarily designed to save memory in training from device memory inputs by avoiding intermediate storage. \n",
        "\n",
        "param_grid = {'max_depth':[6,8,10,12],     # [6~12] -> 6\n",
        "              'n_estimators':[200]         # [150~350]-> 200\n",
        "              }\n",
        "\n",
        "cv=RepeatedStratifiedKFold(n_splits=5, n_repeats=2)\n",
        "\n",
        "grid_search = GridSearchCV(estimator=xgb_clf,\n",
        "                           param_grid=param_grid, \n",
        "                          #  n_jobs=-1,\n",
        "                           cv=cv,\n",
        "                           scoring='accuracy', \n",
        "                           error_score=0) \n",
        "\n",
        "results_xgb=grid_search.fit(X_train, y_train)\n",
        "\n",
        "results_xgb.best_params_"
      ],
      "metadata": {
        "id": "OuN3m0FMWX6h",
        "colab": {
          "base_uri": "https://localhost:8080/"
        },
        "outputId": "5d76e2be-cefd-4b2d-d73b-6cf97f3f37ba"
      },
      "execution_count": null,
      "outputs": [
        {
          "output_type": "execute_result",
          "data": {
            "text/plain": [
              "{'max_depth': 6, 'n_estimators': 200}"
            ]
          },
          "metadata": {},
          "execution_count": 11
        }
      ]
    },
    {
      "cell_type": "code",
      "source": [
        "# XGB best parameter를 사용하여 prediction 수행\n",
        "xgb_clf = XGBClassifier(max_depth = results_xgb.best_params_['max_depth'],\n",
        "                        n_estimators = 200,\n",
        "                        eval_metric='logloss', predictor='gpu_predictor',\n",
        "                        objective='binary:logistic', nthread=-1,\n",
        "                        random_state=42) \n",
        "\n",
        "xgb_clf.fit(X_train, y_train)"
      ],
      "metadata": {
        "id": "_XBL0BlvreoJ",
        "colab": {
          "base_uri": "https://localhost:8080/"
        },
        "outputId": "50c45971-4029-45e2-8e6c-332d7637ffb1"
      },
      "execution_count": null,
      "outputs": [
        {
          "output_type": "execute_result",
          "data": {
            "text/plain": [
              "XGBClassifier(eval_metric='logloss', max_depth=6, n_estimators=200, nthread=-1,\n",
              "              predictor='gpu_predictor', random_state=42)"
            ]
          },
          "metadata": {},
          "execution_count": 12
        }
      ]
    },
    {
      "cell_type": "code",
      "source": [
        "# XGB 평가점수\n",
        "threshold_list = [0.3, 0.31, 0.32, 0.33, 0.34, 0.35, 0.36, 0.37, 0.38, 0.39, 0.40]\n",
        "for i in threshold_list:\n",
        "    get_clf_eval(y_valid, xgb_clf.predict_proba(X_valid)[:,1]> i)"
      ],
      "metadata": {
        "id": "8d-xUkdXremC",
        "colab": {
          "base_uri": "https://localhost:8080/"
        },
        "outputId": "32af0b12-3f52-4c3b-e64b-05a9f93361b0"
      },
      "execution_count": null,
      "outputs": [
        {
          "output_type": "stream",
          "name": "stdout",
          "text": [
            "\n",
            "정확도: 0.7800\n",
            "정밀도: 0.6531\n",
            "재현율: 0.8649\n",
            "AUC: 0.7975\n",
            "F1: 0.7442\n",
            "\n",
            "정확도: 0.8100\n",
            "정밀도: 0.6957\n",
            "재현율: 0.8649\n",
            "AUC: 0.8213\n",
            "F1: 0.7711\n",
            "\n",
            "정확도: 0.8000\n",
            "정밀도: 0.6889\n",
            "재현율: 0.8378\n",
            "AUC: 0.8078\n",
            "F1: 0.7561\n",
            "\n",
            "정확도: 0.8200\n",
            "정밀도: 0.7209\n",
            "재현율: 0.8378\n",
            "AUC: 0.8237\n",
            "F1: 0.7750\n",
            "\n",
            "정확도: 0.8200\n",
            "정밀도: 0.7209\n",
            "재현율: 0.8378\n",
            "AUC: 0.8237\n",
            "F1: 0.7750\n",
            "\n",
            "정확도: 0.8100\n",
            "정밀도: 0.7143\n",
            "재현율: 0.8108\n",
            "AUC: 0.8102\n",
            "F1: 0.7595\n",
            "\n",
            "정확도: 0.8100\n",
            "정밀도: 0.7143\n",
            "재현율: 0.8108\n",
            "AUC: 0.8102\n",
            "F1: 0.7595\n",
            "\n",
            "정확도: 0.8200\n",
            "정밀도: 0.7317\n",
            "재현율: 0.8108\n",
            "AUC: 0.8181\n",
            "F1: 0.7692\n",
            "\n",
            "정확도: 0.8200\n",
            "정밀도: 0.7317\n",
            "재현율: 0.8108\n",
            "AUC: 0.8181\n",
            "F1: 0.7692\n",
            "\n",
            "정확도: 0.8200\n",
            "정밀도: 0.7436\n",
            "재현율: 0.7838\n",
            "AUC: 0.8125\n",
            "F1: 0.7632\n",
            "\n",
            "정확도: 0.8200\n",
            "정밀도: 0.7436\n",
            "재현율: 0.7838\n",
            "AUC: 0.8125\n",
            "F1: 0.7632\n"
          ]
        }
      ]
    },
    {
      "cell_type": "code",
      "source": [
        "# 3. Light GBM\n",
        "lgbm_clf = LGBMClassifier()\n",
        "\n",
        "param_grid = {'max_depth':[6, 7,10,13],    #[6~13] \n",
        "              'n_estimators':[200, 250, 280]  #[200~300]\n",
        "              }\n",
        "\n",
        "cv=RepeatedStratifiedKFold(n_splits=5, n_repeats=2)\n",
        "\n",
        "grid_search = GridSearchCV(estimator=lgbm_clf,\n",
        "                           param_grid=param_grid, \n",
        "                           n_jobs=-1,\n",
        "                           cv=cv,\n",
        "                           scoring='accuracy', \n",
        "                           error_score=0) \n",
        "\n",
        "results_lgbm = grid_search.fit(X_train, y_train)\n",
        "\n",
        "results_lgbm.best_params_"
      ],
      "metadata": {
        "id": "GNYHf5mGX66c",
        "colab": {
          "base_uri": "https://localhost:8080/"
        },
        "outputId": "8ce42479-da72-4ac3-95cc-b09059e65678"
      },
      "execution_count": null,
      "outputs": [
        {
          "output_type": "execute_result",
          "data": {
            "text/plain": [
              "{'max_depth': 6, 'n_estimators': 280}"
            ]
          },
          "metadata": {},
          "execution_count": 14
        }
      ]
    },
    {
      "cell_type": "code",
      "source": [
        "# LGBM best parameter를 사용하여 prediction 수행\n",
        "lgbm_clf = LGBMClassifier(max_depth = results_lgbm.best_params_['max_depth'],\n",
        "                                n_estimators = results_lgbm.best_params_['n_estimators'],\n",
        "                                eval_metric='logloss', random_state=42)\n",
        "\n",
        "lgbm_clf.fit(X_train, y_train)"
      ],
      "metadata": {
        "id": "fJOMiJVirJuG",
        "colab": {
          "base_uri": "https://localhost:8080/"
        },
        "outputId": "e007604b-f7d1-49c5-8fd8-77ca2bb383a3"
      },
      "execution_count": null,
      "outputs": [
        {
          "output_type": "execute_result",
          "data": {
            "text/plain": [
              "LGBMClassifier(eval_metric='logloss', max_depth=6, n_estimators=280,\n",
              "               random_state=42)"
            ]
          },
          "metadata": {},
          "execution_count": 15
        }
      ]
    },
    {
      "cell_type": "code",
      "source": [
        "# LGBM 평가점수\n",
        "threshold_list = [0.3, 0.31, 0.32, 0.33, 0.34, 0.35, 0.36, 0.37, 0.38, 0.39, 0.40]\n",
        "for i in threshold_list:\n",
        "    get_clf_eval(y_valid, lgbm_clf.predict_proba(X_valid)[:,1]> i) #0.32:0.6345"
      ],
      "metadata": {
        "id": "vepE1y18rJr9",
        "colab": {
          "base_uri": "https://localhost:8080/"
        },
        "outputId": "9c267c33-7d23-486a-bb17-17157a2fce49"
      },
      "execution_count": null,
      "outputs": [
        {
          "output_type": "stream",
          "name": "stdout",
          "text": [
            "\n",
            "정확도: 0.8000\n",
            "정밀도: 0.6809\n",
            "재현율: 0.8649\n",
            "AUC: 0.8134\n",
            "F1: 0.7619\n",
            "\n",
            "정확도: 0.7900\n",
            "정밀도: 0.6739\n",
            "재현율: 0.8378\n",
            "AUC: 0.7999\n",
            "F1: 0.7470\n",
            "\n",
            "정확도: 0.8000\n",
            "정밀도: 0.6977\n",
            "재현율: 0.8108\n",
            "AUC: 0.8022\n",
            "F1: 0.7500\n",
            "\n",
            "정확도: 0.8100\n",
            "정밀도: 0.7143\n",
            "재현율: 0.8108\n",
            "AUC: 0.8102\n",
            "F1: 0.7595\n",
            "\n",
            "정확도: 0.8200\n",
            "정밀도: 0.7317\n",
            "재현율: 0.8108\n",
            "AUC: 0.8181\n",
            "F1: 0.7692\n",
            "\n",
            "정확도: 0.8200\n",
            "정밀도: 0.7317\n",
            "재현율: 0.8108\n",
            "AUC: 0.8181\n",
            "F1: 0.7692\n",
            "\n",
            "정확도: 0.8300\n",
            "정밀도: 0.7500\n",
            "재현율: 0.8108\n",
            "AUC: 0.8260\n",
            "F1: 0.7792\n",
            "\n",
            "정확도: 0.8200\n",
            "정밀도: 0.7436\n",
            "재현율: 0.7838\n",
            "AUC: 0.8125\n",
            "F1: 0.7632\n",
            "\n",
            "정확도: 0.8200\n",
            "정밀도: 0.7436\n",
            "재현율: 0.7838\n",
            "AUC: 0.8125\n",
            "F1: 0.7632\n",
            "\n",
            "정확도: 0.8100\n",
            "정밀도: 0.7368\n",
            "재현율: 0.7568\n",
            "AUC: 0.7990\n",
            "F1: 0.7467\n",
            "\n",
            "정확도: 0.8100\n",
            "정밀도: 0.7368\n",
            "재현율: 0.7568\n",
            "AUC: 0.7990\n",
            "F1: 0.7467\n"
          ]
        }
      ]
    },
    {
      "cell_type": "markdown",
      "source": [
        "## 각 classifier의 feature 중요도"
      ],
      "metadata": {
        "id": "74RD4h3bOXtJ"
      }
    },
    {
      "cell_type": "code",
      "source": [
        "# Feature 중요도 구하기\n",
        "def feat_importance(model, df):\n",
        "    return pd.DataFrame({'cols':df.columns, 'imp':model.feature_importances_}).sort_values('imp', ascending=False)\n",
        "#총 data 최대한 많이해서 구하는게 의미 있음 (99%)\n",
        "X_train, X_valid, y_train, y_valid = train_test_split(X, y, test_size=0.001, random_state=42)"
      ],
      "metadata": {
        "id": "s_1Xdh1WK_v2"
      },
      "execution_count": null,
      "outputs": []
    },
    {
      "cell_type": "code",
      "source": [
        "rnd_clf = RandomForestClassifier(max_depth=16, n_estimators=250, random_state=42, n_jobs=-1)\n",
        "rnd_clf.fit(X_train, y_train)"
      ],
      "metadata": {
        "colab": {
          "base_uri": "https://localhost:8080/"
        },
        "id": "8Vu61ZClKkFH",
        "outputId": "dd463ef2-8fa4-4d03-f6d0-d2856c68f0a0"
      },
      "execution_count": null,
      "outputs": [
        {
          "output_type": "execute_result",
          "data": {
            "text/plain": [
              "RandomForestClassifier(max_depth=16, n_estimators=250, n_jobs=-1,\n",
              "                       random_state=42)"
            ]
          },
          "metadata": {},
          "execution_count": 82
        }
      ]
    },
    {
      "cell_type": "code",
      "source": [
        "rnd_fi = feat_importance(rnd_clf, df.drop(columns=['depvar']))\n",
        "# Feature importance 시각화\n",
        "idx = np.arange(len(rnd_fi.cols))\n",
        "plt.figure(figsize=(12, 22))\n",
        "plt.barh(idx, rnd_fi.imp, align='center')\n",
        "plt.yticks(idx, rnd_fi.cols)\n",
        "plt.xlabel('feature importance', size=15)\n",
        "plt.ylabel('feature', size=15)\n",
        "plt.show()"
      ],
      "metadata": {
        "colab": {
          "base_uri": "https://localhost:8080/",
          "height": 1000
        },
        "id": "fx8ieovrJV96",
        "outputId": "9c83bda7-4825-4573-a5f0-b830480c7cb6"
      },
      "execution_count": null,
      "outputs": [
        {
          "output_type": "display_data",
          "data": {
            "image/png": "[encoded data removed]",
            "text/plain": [
              "<Figure size 864x1584 with 1 Axes>"
            ]
          },
          "metadata": {
            "needs_background": "light"
          }
        }
      ]
    },
    {
      "cell_type": "code",
      "source": [
        "get_clf_eval(y_valid, rnd_clf.predict_proba(X_valid)[:,1]>0.35)"
      ],
      "metadata": {
        "id": "eyEf_neFWhVf"
      },
      "execution_count": null,
      "outputs": []
    },
    {
      "cell_type": "code",
      "source": [
        "lgbm_clf = LGBMClassifier(max_depth=6, n_estimators=200, random_state=42)\n",
        "lgbm_clf.fit(X_train, y_train)"
      ],
      "metadata": {
        "colab": {
          "base_uri": "https://localhost:8080/"
        },
        "id": "D0LnWV3vKx0b",
        "outputId": "702fb683-e7de-45d6-93c8-742a2a82c04c"
      },
      "execution_count": null,
      "outputs": [
        {
          "output_type": "execute_result",
          "data": {
            "text/plain": [
              "LGBMClassifier(max_depth=6, n_estimators=200, random_state=42)"
            ]
          },
          "metadata": {},
          "execution_count": 41
        }
      ]
    },
    {
      "cell_type": "code",
      "source": [
        "lgbm_fi = feat_importance(lgbm_clf, df.drop(columns=['depvar']))\n",
        "# Feature importance 시각화\n",
        "idx = np.arange(len(lgbm_fi.cols))\n",
        "plt.figure(figsize=(12, 22))\n",
        "plt.barh(idx, lgbm_fi.imp, align='center')\n",
        "plt.yticks(idx, lgbm_fi.cols)\n",
        "plt.xlabel('feature importance', size=15)\n",
        "plt.ylabel('feature', size=15)\n",
        "plt.show()"
      ],
      "metadata": {
        "colab": {
          "base_uri": "https://localhost:8080/",
          "height": 1000
        },
        "id": "HmPooV00LjfQ",
        "outputId": "635c4fc2-c0cb-49d7-d090-eb883ebaa27f"
      },
      "execution_count": null,
      "outputs": [
        {
          "output_type": "display_data",
          "data": {
            "image/png": "[encoded data removed]",
            "text/plain": [
              "<Figure size 864x1584 with 1 Axes>"
            ]
          },
          "metadata": {
            "needs_background": "light"
          }
        }
      ]
    },
    {
      "cell_type": "code",
      "source": [
        "get_clf_eval(y_valid, lgbm_clf.predict_proba(X_valid)[:,1]>0.35)"
      ],
      "metadata": {
        "colab": {
          "base_uri": "https://localhost:8080/"
        },
        "id": "uCsBe5ZaDaso",
        "outputId": "36486c69-f5a0-42b1-ebfa-578682fae625"
      },
      "execution_count": null,
      "outputs": [
        {
          "output_type": "stream",
          "name": "stdout",
          "text": [
            "\n",
            "정확도: 0.8200\n",
            "정밀도: 0.7209\n",
            "재현율: 0.8378\n",
            "AUC: 0.8237\n",
            "F1: 0.7750\n"
          ]
        },
        {
          "output_type": "display_data",
          "data": {
            "image/png": "[encoded data removed]",
            "text/plain": [
              "<Figure size 432x288 with 2 Axes>"
            ]
          },
          "metadata": {
            "needs_background": "light"
          }
        }
      ]
    },
    {
      "cell_type": "code",
      "source": [
        "xgb_clf = XGBClassifier(max_depth=7, n_estimators=250, \n",
        "                        objective='binary:logistic', nthread=-1,\n",
        "                        random_state=42, tree_method='gpu_hist', predictor='gpu_predictor')\n",
        "xgb_clf.fit(X_train, y_train, eval_metric='logloss')"
      ],
      "metadata": {
        "colab": {
          "base_uri": "https://localhost:8080/"
        },
        "id": "a1yUee0HK31j",
        "outputId": "9a1d9dc5-2879-4449-a2dd-55836a976a16"
      },
      "execution_count": null,
      "outputs": [
        {
          "output_type": "execute_result",
          "data": {
            "text/plain": [
              "XGBClassifier(max_depth=7, n_estimators=250, nthread=-1,\n",
              "              predictor='gpu_predictor', random_state=42,\n",
              "              tree_method='gpu_hist')"
            ]
          },
          "metadata": {},
          "execution_count": 87
        }
      ]
    },
    {
      "cell_type": "code",
      "source": [
        "xgb_fi = feat_importance(xgb_clf, df.drop(columns=['depvar']))\n",
        "# Feature importance 시각화\n",
        "idx = np.arange(len(xgb_fi.cols))\n",
        "plt.figure(figsize=(12, 22))\n",
        "plt.barh(idx, xgb_fi.imp, align='center')\n",
        "plt.yticks(idx, xgb_fi.cols)\n",
        "plt.xlabel('feature importance', size=15)\n",
        "plt.ylabel('feature', size=15)\n",
        "plt.show()"
      ],
      "metadata": {
        "colab": {
          "base_uri": "https://localhost:8080/"
        },
        "id": "AnOP-tbDLyxD",
        "outputId": "b5b3f3a3-2584-4ae4-f3dc-1a2f4b8999e6"
      },
      "execution_count": null,
      "outputs": [
        {
          "output_type": "display_data",
          "data": {
            "image/png": "[encoded data removed]",
            "text/plain": [
              "<Figure size 864x1584 with 1 Axes>"
            ]
          },
          "metadata": {
            "needs_background": "light"
          }
        }
      ]
    },
    {
      "cell_type": "code",
      "source": [
        "get_clf_eval(y_valid, xgb_clf.predict_proba(X_valid)[:,1]>0.35)"
      ],
      "metadata": {
        "colab": {
          "base_uri": "https://localhost:8080/"
        },
        "id": "fiBeN3mtwYpO",
        "outputId": "fd1c8e56-34a6-4edb-e8ea-17c751bb92b6"
      },
      "execution_count": null,
      "outputs": [
        {
          "output_type": "stream",
          "name": "stdout",
          "text": [
            "\n",
            "정확도: 0.8300\n",
            "정밀도: 0.7500\n",
            "재현율: 0.8108\n",
            "AUC: 0.8260\n",
            "F1: 0.7792\n"
          ]
        },
        {
          "output_type": "display_data",
          "data": {
            "image/png": "[encoded data removed]",
            "text/plain": [
              "<Figure size 432x288 with 2 Axes>"
            ]
          },
          "metadata": {
            "needs_background": "light"
          }
        }
      ]
    },
    {
      "cell_type": "code",
      "source": [
        "min_features_to_select = 20  # Minimum number of features to consider\n",
        "rfecv = RFECV(\n",
        "    estimator=xgb_clf,\n",
        "    step=1,\n",
        "    cv=StratifiedKFold(2),\n",
        "    scoring='accuracy',\n",
        "    min_features_to_select=min_features_to_select,\n",
        ")\n",
        "rfecv.fit(X_train, y_train)\n",
        "\n",
        "print(\"Optimal number of features : %d\" % rfecv.n_features_)\n",
        "\n",
        "# Plot number of features VS. cross-validation scores\n",
        "plt.figure()\n",
        "plt.xlabel(\"Number of features selected\")\n",
        "plt.ylabel(\"Cross validation score (accuracy)\")\n",
        "plt.plot(\n",
        "    range(min_features_to_select, len(rfecv.grid_scores_) + min_features_to_select),\n",
        "    rfecv.grid_scores_,\n",
        ")\n",
        "plt.show()"
      ],
      "metadata": {
        "id": "YIu_Jey_XxpY"
      },
      "execution_count": null,
      "outputs": []
    },
    {
      "cell_type": "code",
      "source": [
        "min_features_to_select = 20  # Minimum number of features to consider\n",
        "rfecv = RFECV(\n",
        "    estimator=lgbm_clf,\n",
        "    step=1,\n",
        "    cv=StratifiedKFold(2),\n",
        "    scoring='accuracy',\n",
        "    min_features_to_select=min_features_to_select,\n",
        ")\n",
        "rfecv.fit(X_train, y_train)\n",
        "\n",
        "print(\"Optimal number of features : %d\" % rfecv.n_features_)\n",
        "\n",
        "# Plot number of features VS. cross-validation scores\n",
        "plt.figure()\n",
        "plt.xlabel(\"Number of features selected\")\n",
        "plt.ylabel(\"Cross validation score (accuracy)\")\n",
        "plt.plot(\n",
        "    range(min_features_to_select, len(rfecv.grid_scores_) + min_features_to_select),\n",
        "    rfecv.grid_scores_,\n",
        ")\n",
        "plt.show()"
      ],
      "metadata": {
        "id": "nChoegrKcl_o"
      },
      "execution_count": null,
      "outputs": []
    },
    {
      "cell_type": "markdown",
      "source": [
        "## SVM(Linear Classifier) 과 SGDClassifier(linear classifier with stochastic gradient descnet) 고찰.. \n",
        "다 형편없음. 파라미터 설정을 잘못해준건지 ㅠ  \n",
        "catboost만 괜찮음"
      ],
      "metadata": {
        "id": "0hgQot646u2G"
      }
    },
    {
      "cell_type": "code",
      "source": [
        "# 우선 linear 타입의 classifier보다는 비선형적인 모델이 성능이 좋을 것이기 때문에 kernel='rbf'를 사용\n",
        "# 학습시간 1시간 넘어서 제외\n",
        "\n",
        "rbfsvc_clf = SVC(kernel='rbf', probability=True, random_state=42)  #default가 rbf네\n",
        "rbfsvc_clf.fit(X_train, y_train)"
      ],
      "metadata": {
        "id": "DZyTnx_O7E4c"
      },
      "execution_count": null,
      "outputs": []
    },
    {
      "cell_type": "code",
      "source": [
        "get_clf_eval(y_valid, rbfsvc_clf.predict_proba(X_valid)[:,1]>0.33)"
      ],
      "metadata": {
        "id": "lggWdRFJ7E0S"
      },
      "execution_count": null,
      "outputs": []
    },
    {
      "cell_type": "code",
      "source": [
        "# K-neighbor\n",
        "knbr_clf = KNeighborsClassifier(100)\n",
        "knbr_clf.fit(X_train, y_train)"
      ],
      "metadata": {
        "colab": {
          "base_uri": "https://localhost:8080/"
        },
        "id": "GS-7m1D47EyS",
        "outputId": "491032d1-af5a-4797-ce1d-b0d7ff627719"
      },
      "execution_count": null,
      "outputs": [
        {
          "output_type": "execute_result",
          "data": {
            "text/plain": [
              "KNeighborsClassifier(n_neighbors=100)"
            ]
          },
          "metadata": {},
          "execution_count": 17
        }
      ]
    },
    {
      "cell_type": "code",
      "source": [
        "get_clf_eval(y_valid, knbr_clf.predict_proba(X_valid)[:,1]>0.33)"
      ],
      "metadata": {
        "id": "DOFZ0UJSSQU4"
      },
      "execution_count": null,
      "outputs": []
    },
    {
      "cell_type": "code",
      "source": [
        "# 일반적으로 데이터가 10만개이상 끝이없는 데이터가 있을 때는 SGD classifier 를 추천함\n",
        "\n",
        "sgd_clf = SGDClassifier(loss='modified_huber', n_jobs=-1, random_state=42, warm_start=True)\n",
        "sgd_clf.partial_fit(X_train, y_train, classes=np.unique(y_train))"
      ],
      "metadata": {
        "colab": {
          "base_uri": "https://localhost:8080/"
        },
        "id": "wblecjyK7EwD",
        "outputId": "aaa31ef8-6d79-4525-a6c4-66a507b44255"
      },
      "execution_count": null,
      "outputs": [
        {
          "output_type": "execute_result",
          "data": {
            "text/plain": [
              "SGDClassifier(loss='modified_huber', n_jobs=-1, random_state=42,\n",
              "              warm_start=True)"
            ]
          },
          "metadata": {},
          "execution_count": 26
        }
      ]
    },
    {
      "cell_type": "code",
      "source": [
        "get_clf_eval(y_valid, sgd_clf.predict_proba(X_valid)[:,1]>0.33)"
      ],
      "metadata": {
        "colab": {
          "base_uri": "https://localhost:8080/",
          "height": 378
        },
        "id": "HC77-7cD7Ety",
        "outputId": "3d20da66-b02c-4c4e-bd8c-16d1453b8165"
      },
      "execution_count": null,
      "outputs": [
        {
          "output_type": "stream",
          "name": "stdout",
          "text": [
            "\n",
            "정확도: 0.5907\n",
            "정밀도: 0.3814\n",
            "재현율: 0.4323\n",
            "AUC: 0.5492\n",
            "F1: 0.4053\n"
          ]
        },
        {
          "output_type": "display_data",
          "data": {
            "image/png": "[encoded data removed]",
            "text/plain": [
              "<Figure size 432x288 with 2 Axes>"
            ]
          },
          "metadata": {
            "needs_background": "light"
          }
        }
      ]
    },
    {
      "cell_type": "code",
      "source": [
        "sgd_clf = SGDClassifier(loss='modified_huber', n_jobs=-1, random_state=42, warm_start=True)\n",
        "sgd_clf.partial_fit(X_train, y_train, classes=np.unique(y_train))"
      ],
      "metadata": {
        "id": "_ZgZzlKgIChG"
      },
      "execution_count": null,
      "outputs": []
    },
    {
      "cell_type": "code",
      "source": [
        "cat_clf = catboost.CatBoostClassifier(one_hot_max_size=4, iterations=200, random_seed=42, verbose=False)\n",
        "cat_clf.fit(X_train, y_train)"
      ],
      "metadata": {
        "colab": {
          "base_uri": "https://localhost:8080/"
        },
        "id": "yuGn09i6IZpI",
        "outputId": "fc898688-692b-4898-aedb-049c09180f2b"
      },
      "execution_count": null,
      "outputs": [
        {
          "output_type": "execute_result",
          "data": {
            "text/plain": [
              "<catboost.core.CatBoostClassifier at 0x7ff224cb8690>"
            ]
          },
          "metadata": {},
          "execution_count": 34
        }
      ]
    },
    {
      "cell_type": "code",
      "source": [
        "get_clf_eval(y_valid, cat_clf.predict_proba(X_valid)[:,1]>0.33)"
      ],
      "metadata": {
        "colab": {
          "base_uri": "https://localhost:8080/",
          "height": 375
        },
        "id": "_J3feMBSIZm9",
        "outputId": "643f1d27-8109-4703-ebed-b9a994cc7902"
      },
      "execution_count": null,
      "outputs": [
        {
          "output_type": "stream",
          "name": "stdout",
          "text": [
            "\n",
            "정확도: 0.7284\n",
            "정밀도: 0.5588\n",
            "재현율: 0.7507\n",
            "AUC: 0.7343\n",
            "F1: 0.6407\n"
          ]
        },
        {
          "output_type": "display_data",
          "data": {
            "image/png": "[encoded data removed]",
            "text/plain": [
              "<Figure size 432x288 with 2 Axes>"
            ]
          },
          "metadata": {
            "needs_background": "light"
          }
        }
      ]
    },
    {
      "cell_type": "markdown",
      "source": [
        "## 앙상블 fitting"
      ],
      "metadata": {
        "id": "EG-1bRP4O9mZ"
      }
    },
    {
      "cell_type": "code",
      "source": [
        "# 최적화 한걸로 ensemble 진행\n",
        "rnd_clf = RandomForestClassifier(max_depth = 12,\n",
        "                                n_estimators = 250,\n",
        "                                min_samples_leaf=8,\n",
        "                                min_samples_split=20)\n",
        "\n",
        "# rnd_clf2 = RandomForestClassifier()\n",
        "\n",
        "lgbm_clf =  LGBMClassifier(max_depth=6, num_leaves = int(0.7*2**(15)), n_estimators=280, objective='binary', random_state=42)\n",
        "lgbm_clf2 =  LGBMClassifier(max_depth=10, objective='binary', random_state=42)\n",
        "\n",
        "xgb_clf = XGBClassifier(max_depth=6, n_estimators=200, random_state=42,\n",
        "                        objective='binary:logistic',\n",
        "                        tree_method='gpu_hist', predictor='gpu_predictor')\n",
        "\n",
        "xgb_clf2 = XGBClassifier(nax_depth=10,\n",
        "                        objective='binary:logistic',\n",
        "                        tree_method='gpu_hist', predictor='gpu_predictor', random_state=42)\n",
        "\n",
        "# cat_clf = catboost.CatBoostClassifier(one_hot_max_size=4, iterations=200, random_seed=42, verbose=False)\n",
        "\n",
        "stacking_clf = StackingClassifier(estimators = [ ('lgbm', lgbm_clf), ('xgb', xgb_clf)\n",
        "                                                ,('rnd', rnd_clf)\n",
        "                                                ,('xgb2', xgb_clf2)\n",
        "                                                ,('lgbm2', lgbm_clf2)\n",
        "                                                # ,('rnd2', rnd_clf2)\n",
        "                                                ],       #('cat', cat_clf)\n",
        "                                  # stack_method='predict_proba',\n",
        "                                  final_estimator = LGBMClassifier(objective='binary', random_state=42))\n",
        "\n",
        "stacking_clf.fit(X_train, y_train)"
      ],
      "metadata": {
        "id": "IKl0vBvkO8lG",
        "colab": {
          "base_uri": "https://localhost:8080/"
        },
        "outputId": "92fc2b8a-6d70-410c-daba-fb5323bfddf2"
      },
      "execution_count": null,
      "outputs": [
        {
          "output_type": "execute_result",
          "data": {
            "text/plain": [
              "StackingClassifier(estimators=[('lgbm',\n",
              "                                LGBMClassifier(max_depth=6, n_estimators=280,\n",
              "                                               num_leaves=22937,\n",
              "                                               objective='binary',\n",
              "                                               random_state=42)),\n",
              "                               ('xgb',\n",
              "                                XGBClassifier(max_depth=6, n_estimators=200,\n",
              "                                              predictor='gpu_predictor',\n",
              "                                              random_state=42,\n",
              "                                              tree_method='gpu_hist')),\n",
              "                               ('rnd',\n",
              "                                RandomForestClassifier(max_depth=12,\n",
              "                                                       min_samples_leaf=8,\n",
              "                                                       min_samples_split=20,\n",
              "                                                       n_estimators=250)),\n",
              "                               ('xgb2',\n",
              "                                XGBClassifier(nax_depth=10,\n",
              "                                              predictor='gpu_predictor',\n",
              "                                              random_state=42,\n",
              "                                              tree_method='gpu_hist')),\n",
              "                               ('lgbm2',\n",
              "                                LGBMClassifier(max_depth=10, objective='binary',\n",
              "                                               random_state=42))],\n",
              "                   final_estimator=LGBMClassifier(objective='binary',\n",
              "                                                  random_state=42))"
            ]
          },
          "metadata": {},
          "execution_count": 49
        }
      ]
    },
    {
      "cell_type": "markdown",
      "source": [
        "## validation 진행"
      ],
      "metadata": {
        "id": "Zha5R9V6OcZH"
      }
    },
    {
      "cell_type": "code",
      "source": [
        "# 0.7727 (0.30 최대) ver03\n",
        "# 0.7692 (0.36 최대) ver03 + ft16,17,18\n",
        "# 0.7805 (0.36 최대) ver04 = ver03 + ft17, 18\n",
        "# 0.7654 (0.34-0.36 최대) ver04 - 하위ft들 삭제 + 앙상블 증가(rnd, xgb)\n",
        "# 0.7805 (0.35 최대) ver04 - 하위ft들 삭제 + 앙상블 증가(xgb)\n",
        "# 0.7848 (0.37 최대) ver04 - 하위ft들 삭제                                                        #36% valid set 검사 0.7007 (0.34 최대)\n",
        "# 0.7750 (0.36-0.37 최대) ver04 - 하위ft들 삭제 + ft20\n",
        "# 0.7711 (0.34 최대) ver04 - 하위ft들 삭제 + 앙상블 증가(xgb_maxdepth최대화, lgbm_maxdepth최대화) #36% valid set 검사 0.7430 (0.37 최대) 현재 test 제일 잘나옴 (0.72122)\n",
        "#                            하위ft들 삭제 + 앙상블 증가(xgb_maxdepth최대화, lgbm_maxdepth최대화)  + ft21 #36% valid set 검사 0.7489(0.37 최대) test낮아짐 0.719\n",
        "#                            하위ft들 삭제 + 앙상블 증가(xgb_maxdepth최대화, lgbm_maxdepth최대화)  + ft20  #36% valid set 검사 0.7493(0.39 최대) test낮아짐 0.717\n",
        "# 0.7654 (0.36최대) ver03 - 하위ft삭제 + 앙상블 증가(xgb, rnd, lgbm)                              # 36% 0.7340 (0.40 최대)\n",
        "# 0.7750 (0.37-0.38 최대) ver04=ver03+ft17,18/ xgb, lgbm 최적화                                   # 36% 0.7395 (0.40 최대)\n",
        "# 0.7781 ver04 + (xgb, lgbm 최적화)  + predict_proba # 36% 0.7384 (0.40)\n",
        "# 0.7750 ver04 + (xgb, lgbm 최적화) + final estimator= lr # 36% 0.7384 (0.40)     # 36% 0.7173 (0.40 최대)\n",
        "# 0.7792 (0.40 최대) ver04 + (xgb, lgbm 최적화) + final estimator=lgbm(최적화) # 36% 0.7324(0.40 최대) 과적합 되는것을 보임\n",
        "# 0.7901(0.32-0.36) ver04 + (xgb, lgbm 최적화) + passthrough=True #36% 0.7151 (0.40) 뭔가 f1스코어에는 안맞는가봄.. 학습한 data로도 점수가 낮네, passthrough는 버림\n",
        "# 0.7595(0.39-0.40) ver04 + (xgb, lgbm 최적화) + ft추가 삭제  #36% 0.7285 (0.37 최대) 정보삭제로 오히려 점수가 떨어지는 경향\n",
        "# 0.7711 (0.37) ver04 + (xgb, lgbm 최적화) + LGBM(num_leaves = 0.6*2**(max_depth)) + ft추가 삭제 #36% 0.7706(0.40 최대) 까지 올라가는데, test점수 낮음 overfitting\n",
        "# 0.7692 ver04 + (xgb, lgbm 최적화) + LGBM(num_leaves = 0.6*2**(max_depth))+ feature삭제하나도 안함 #36% 0.8483 (0.40 최대)\n",
        "# 0.7792~0.7805 제출37 상태에서 feature 대대적으로 개편\n",
        "threshold_list = [0.3, 0.31, 0.32, 0.33, 0.34, 0.35, 0.36, 0.37, 0.38, 0.39, 0.40]\n",
        "for i in threshold_list:\n",
        "    get_clf_eval(y_valid, stacking_clf.predict_proba(X_valid)[:,1]> i)\n",
        "\n",
        "\n",
        "heatmap_list = [0.40]\n",
        "for i in heatmap_list:\n",
        "    get_clf_eval2(y_valid, stacking_clf.predict_proba(X_valid)[:,1]> i)\n"
      ],
      "metadata": {
        "id": "wLXDYcsD0G_0",
        "colab": {
          "base_uri": "https://localhost:8080/",
          "height": 1000
        },
        "outputId": "c1a838b7-74e7-4873-c8af-e3e8bec50609"
      },
      "execution_count": null,
      "outputs": [
        {
          "output_type": "stream",
          "name": "stdout",
          "text": [
            "\n",
            "정확도: 0.7382\n",
            "정밀도: 0.5608\n",
            "재현율: 0.8658\n",
            "AUC: 0.7717\n",
            "F1: 0.6807\n",
            "\n",
            "정확도: 0.7459\n",
            "정밀도: 0.5705\n",
            "재현율: 0.8564\n",
            "AUC: 0.7749\n",
            "F1: 0.6848\n",
            "\n",
            "정확도: 0.7514\n",
            "정밀도: 0.5778\n",
            "재현율: 0.8495\n",
            "AUC: 0.7771\n",
            "F1: 0.6878\n",
            "\n",
            "정확도: 0.7556\n",
            "정밀도: 0.5843\n",
            "재현율: 0.8381\n",
            "AUC: 0.7773\n",
            "F1: 0.6886\n",
            "\n",
            "정확도: 0.7587\n",
            "정밀도: 0.5896\n",
            "재현율: 0.8270\n",
            "AUC: 0.7766\n",
            "F1: 0.6884\n",
            "\n",
            "정확도: 0.7619\n",
            "정밀도: 0.5950\n",
            "재현율: 0.8180\n",
            "AUC: 0.7766\n",
            "F1: 0.6889\n",
            "\n",
            "정확도: 0.7651\n",
            "정밀도: 0.6012\n",
            "재현율: 0.8055\n",
            "AUC: 0.7757\n",
            "F1: 0.6885\n",
            "\n",
            "정확도: 0.7692\n",
            "정밀도: 0.6088\n",
            "재현율: 0.7949\n",
            "AUC: 0.7760\n",
            "F1: 0.6895\n",
            "\n",
            "정확도: 0.7740\n",
            "정밀도: 0.6180\n",
            "재현율: 0.7821\n",
            "AUC: 0.7761\n",
            "F1: 0.6905\n",
            "\n",
            "정확도: 0.7773\n",
            "정밀도: 0.6273\n",
            "재현율: 0.7619\n",
            "AUC: 0.7733\n",
            "F1: 0.6881\n",
            "\n",
            "정확도: 0.7785\n",
            "정밀도: 0.6333\n",
            "재현율: 0.7429\n",
            "AUC: 0.7692\n",
            "F1: 0.6837\n"
          ]
        },
        {
          "output_type": "display_data",
          "data": {
            "image/png": "[encoded data removed]",
            "text/plain": [
              "<Figure size 432x288 with 2 Axes>"
            ]
          },
          "metadata": {
            "needs_background": "light"
          }
        }
      ]
    },
    {
      "cell_type": "markdown",
      "source": [
        "## 제출"
      ],
      "metadata": {
        "id": "atMIP9SjXzV_"
      }
    },
    {
      "cell_type": "code",
      "source": [
        "# 제출 양식 다운로드\n",
        "df_test = pd.read_csv('/content/drive/MyDrive/competition_1st/test.csv')\n",
        "submit = pd.read_csv('/content/drive/MyDrive/competition_1st/sample_submission.csv')\n",
        "\n",
        "# test파일에도 위에서 했던 전처리 진행\n",
        "df_test['my_ft1'] = df_test['int_rate']*df_test['dti']\n",
        "df_test['my_ft2'] = np.log(df_test['annual_inc']*df_test['fico_range_low'])\n",
        "df_test['my_ft4'] = df_test['int_rate']*df_test['funded_amnt']\n",
        "df_test['my_ft5'] = df_test['int_rate']*df_test['dti']/np.log(df_test['tot_cur_bal']*df_test['fico_range_low'])\n",
        "df_test['my_ft6'] = df_test['revol_util']/(df_test['revol_bal']+0.0000001)\n",
        "df_test['my_ft7'] = df_test['int_rate']*df_test['funded_amnt']/np.log(df_test['tot_cur_bal']*df_test['fico_range_low']+2)\n",
        "df_test['my_ft9'] = np.log(df_test['int_rate']*df_test['funded_amnt'])*df_test['dti']\n",
        "df_test['my_ft11'] = df_test['installment']/ df_test['annual_inc']\n",
        "df_test['my_ft14'] = df_test['total_rec_int']/df_test['installment']\n",
        "df_test['my_ft15'] = df_test['delinq_2yrs']+2*df_test['pub_rec']+3*df_test['inq_last_6mths']\n",
        "df_test['my_ft17'] = (2-(1+np.sqrt(np.log(1+df_test['term1'])+0.0001))*np.log(1+df_test['term1'])/(np.log(1+df_test['term1'])+0.0001)\n",
        "                          +2*((1+np.sqrt(np.log(1+df_test['total_rec_late_fee']+0.0001)))*np.log(1+df_test['total_rec_late_fee'])/(np.log(1+df_test['total_rec_late_fee'])+0.0001))\n",
        "                          +(1+1/5*(np.log(1+df_test['collections_12_mths_ex_med'])))*np.log(1+df_test['collections_12_mths_ex_med'])/(np.log(1+df_test['collections_12_mths_ex_med'])+0.0001)\n",
        "                          )\n",
        "df_test['my_ft18'] = (0.9*(1+np.sqrt(np.log(1+df_test['home_ownership6'])))*np.log(1+df_test['home_ownership6'])/(np.log(1+df_test['home_ownership6'])+0.0001)\n",
        "                          +(1+np.log(1+df_test['verification_status3']))*np.log(1+df_test['verification_status3'])/(np.log(1+df_test['verification_status3'])+0.0001)\n",
        "                          +0.5*(1+np.log(1+df_test['initial_list_status1']))*np.log(1+df_test['initial_list_status1'])/(np.log(1+df_test['initial_list_status1'])+0.0001))\n",
        "\n",
        "\n",
        "# 컬럼삭제\n",
        "df_test = df_test.drop(['out_prncp_inv', 'funded_amnt_inv', 'purpose4', 'fico_range_high', 'home_ownership1', 'home_ownership3', 'home_ownership4'], axis=1)\n",
        "df_test = df_test.drop(['chargeoff_within_12_mths','purpose6', 'purpose11', 'purpose14', 'acc_now_delinq'], axis=1)\n",
        "df_test = df_test.drop(['total_acc', 'initial_list_status2'], axis=1)\n",
        "df_test = df_test.drop(['mths_since_last_delinq1',  'mths_since_last_delinq2', 'mths_since_last_delinq3',\n",
        "                        'mths_since_last_delinq4', 'mths_since_last_delinq5', 'mths_since_last_delinq6',\n",
        "                        'mths_since_last_delinq7', 'mths_since_last_delinq8', 'mths_since_last_delinq9',\n",
        "                        'mths_since_last_delinq10', 'mths_since_last_delinq11'], axis=1)\n",
        "\n",
        "# df_test=df_test.drop(['purpose1', 'purpose7', 'purpose8',\n",
        "#                       'purpose9', 'purpose10', 'purpose13'\n",
        "#                       ], axis=1)\n",
        "\n",
        "submit['answer'] = stacking_clf.predict_proba(df_test.drop(columns=['ID']))[:,1]>0.40\n",
        "change = {True:1, False:0}\n",
        "submit.answer = submit.answer.map(change)\n",
        "# 제출 파일 저장\n",
        "submit.to_csv('/content/drive/MyDrive/competition_1st/submission_49.csv', index=False)"
      ],
      "metadata": {
        "id": "n_F9QaP6c3pX"
      },
      "execution_count": null,
      "outputs": []
    },
    {
      "cell_type": "code",
      "source": [
        ""
      ],
      "metadata": {
        "id": "ci_nd_lHdaRa"
      },
      "execution_count": null,
      "outputs": []
    }
  ],
  "metadata": {
    "colab": {
      "name": "미제출_050_A.ipynb",
      "provenance": [],
      "collapsed_sections": [
        "mR9HEpxiUlFb",
        "u57GyZB1EpaJ",
        "74RD4h3bOXtJ",
        "0hgQot646u2G"
      ]
    },
    "kernelspec": {
      "display_name": "Python 3 (ipykernel)",
      "language": "python",
      "name": "python3"
    },
    "language_info": {
      "codemirror_mode": {
        "name": "ipython",
        "version": 3
      },
      "file_extension": ".py",
      "mimetype": "text/x-python",
      "name": "python",
      "nbconvert_exporter": "python",
      "pygments_lexer": "ipython3",
      "version": "3.8.5"
    },
    "accelerator": "GPU"
  },
  "nbformat": 4,
  "nbformat_minor": 0
}