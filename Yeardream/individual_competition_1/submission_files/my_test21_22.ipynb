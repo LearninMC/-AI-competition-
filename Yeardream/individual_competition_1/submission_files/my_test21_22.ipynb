{
  "cells": [
    {
      "cell_type": "code",
      "execution_count": 1,
      "metadata": {
        "colab": {
          "base_uri": "https://localhost:8080/"
        },
        "id": "89YysxjHlM-w",
        "outputId": "f10e8b83-6b69-41c1-cd70-1510ac2c22b5"
      },
      "outputs": [
        {
          "output_type": "stream",
          "name": "stdout",
          "text": [
            "Drive already mounted at /content/drive; to attempt to forcibly remount, call drive.mount(\"/content/drive\", force_remount=True).\n"
          ]
        }
      ],
      "source": [
        "# 라이브러리 임포트\n",
        "import pandas as pd\n",
        "import numpy as np\n",
        "\n",
        "import seaborn as sns\n",
        "import matplotlib\n",
        "import matplotlib.pyplot as plt\n",
        "%matplotlib inline\n",
        "\n",
        "import xgboost\n",
        "from xgboost import XGBClassifier\n",
        "from lightgbm import LGBMClassifier\n",
        "\n",
        "from sklearn.svm import SVC\n",
        "from sklearn.tree import DecisionTreeClassifier\n",
        "from sklearn.neighbors import KNeighborsClassifier\n",
        "from sklearn.ensemble import RandomForestClassifier, AdaBoostClassifier, ExtraTreesClassifier, BaggingClassifier, GradientBoostingClassifier, VotingClassifier, StackingClassifier\n",
        "from sklearn.linear_model import LogisticRegression, LinearRegression, Ridge, RidgeCV, RidgeClassifier, Lasso, ElasticNet\n",
        "from sklearn.model_selection import train_test_split, RepeatedStratifiedKFold, GridSearchCV\n",
        "import sklearn.metrics as metrics\n",
        "from sklearn.metrics import accuracy_score, precision_score, recall_score, f1_score, roc_auc_score, roc_curve, auc, confusion_matrix, classification_report\n",
        "from sklearn.preprocessing import StandardScaler,  LabelEncoder, OneHotEncoder\n",
        "\n",
        "from torch import Tensor\n",
        "import torch\n",
        "import torch.nn as nn\n",
        "from torch.utils.data import Dataset, DataLoader\n",
        "import torch.optim as optim\n",
        "\n",
        "import warnings\n",
        "warnings.filterwarnings('ignore')\n",
        "\n",
        "from google.colab import drive\n",
        "drive.mount('/content/drive')\n",
        "device = torch.device('cuda' if torch.cuda.is_available() else 'cpu')"
      ]
    },
    {
      "cell_type": "markdown",
      "source": [
        "## Pre-processing Data"
      ],
      "metadata": {
        "id": "C3gyLZ8JlNOQ"
      }
    },
    {
      "cell_type": "code",
      "source": [
        "df = pd.read_csv('/content/drive/MyDrive/competition_1st/train.csv')"
      ],
      "metadata": {
        "id": "ySxuq9Y0xJzU"
      },
      "execution_count": 86,
      "outputs": []
    },
    {
      "cell_type": "code",
      "source": [
        "df['acc_ratio'] = df['acc_now_delinq'] / df['open_acc']"
      ],
      "metadata": {
        "id": "yksEUYzQhh7T"
      },
      "execution_count": 87,
      "outputs": []
    },
    {
      "cell_type": "code",
      "source": [
        "df = df.drop(columns=['delinq_amnt', 'out_prncp_inv', 'acc_now_delinq', 'funded_amnt_inv'])"
      ],
      "metadata": {
        "id": "WbhDGSFmhke7"
      },
      "execution_count": 88,
      "outputs": []
    },
    {
      "cell_type": "code",
      "source": [
        "df['my_multiple'] = df['int_rate']*df['dti']\n",
        "df['my_multiple2'] = np.log(df['annual_inc']*df['fico_range_low'])\n",
        "df['my_multiple4'] = df['int_rate']*df['funded_amnt']\n",
        "df['my_multiple5'] = df['int_rate']*df['dti']/np.log(df['tot_cur_bal']*df['fico_range_low'])\n",
        "df['my_multiple6'] = df['revol_util']/(df['revol_bal']+0.0000001)\n",
        "df['my_multiple7'] = df['int_rate']*df['funded_amnt']/np.log(df['tot_cur_bal']*df['fico_range_low']+2)\n",
        "df['my_multiple9'] = np.log(df['int_rate']*df['funded_amnt'])*df['dti']\n",
        "df['my_multiple11'] = df['installment']/ df['annual_inc']\n",
        "df.loc[df['collections_12_mths_ex_med'] <= 0.1, 'collections_12_mths_ex_med'] = 0   # 0번 추심 발생횟수\n",
        "df.loc[df['collections_12_mths_ex_med']  > 0.1, 'collections_12_mths_ex_med'] = 1   # 1번 이상 추심 발생횟수\n",
        "df['my_clf2'] = df.groupby([df.term1, df.emp_length12, df.home_ownership6, df.verification_status3, df.initial_list_status1, df.collections_12_mths_ex_med, df.initial_list_status2])['depvar'].transform('mean')"
      ],
      "metadata": {
        "id": "JKp3ZK-VEcV1"
      },
      "execution_count": 89,
      "outputs": []
    },
    {
      "cell_type": "code",
      "source": [
        "df_proc = df.copy()"
      ],
      "metadata": {
        "id": "C0gNPQuKlRs4"
      },
      "execution_count": 90,
      "outputs": []
    },
    {
      "cell_type": "code",
      "source": [
        "df_proc.loc[df_proc['tot_cur_bal']>1200000, 'tot_cur_bal'] = 1200000\n",
        "df_proc.loc[df_proc['annual_inc']>480000, 'annual_inc'] = 480000\n",
        "df_proc.loc[df_proc['revol_bal']>290000, 'revol_bal'] = 290000\n",
        "df_proc.loc[df_proc['revol_util']>1.785, 'revol_util'] = 1.785\n",
        "df_proc.loc[df_proc['total_rec_late_fee']>53, 'total_rec_late_fee'] = 53\n",
        "df_proc.loc[df_proc['total_acc']>89, 'total_acc'] = 89\n",
        "df_proc.loc[df_proc['open_acc']>41, 'open_acc'] = 41\n",
        "df_proc.loc[df_proc['tot_coll_amt']>0.00008, 'tot_coll_amt'] = 0.00008"
      ],
      "metadata": {
        "id": "YWLqHEJsinxx"
      },
      "execution_count": 91,
      "outputs": []
    },
    {
      "cell_type": "code",
      "source": [
        "# 구간으로 축약하기 (13개) // aux(auxiliary) = 보조의\n",
        "auxtotal_rec_int = pd.cut(df_proc['total_rec_int'], 6) \n",
        "auxint_rate = pd.cut(df_proc['int_rate'], 15)      # 뒤쪽일수록 1비율 큼. 의미O\n",
        "auxinstallment = pd.cut(df_proc['installment'], 15)  #특징 X\n",
        "auxtot_cur_bal = pd.cut(df_proc['tot_cur_bal'], 10)  #뒤쪽으로 갈수록 1비율 낮음\n",
        "auxdti = pd.cut(df_proc['dti'], 10)                # 뒤쪽으로 갈수록 0비율 높음 의미O\n",
        "auxannual_inc = pd.cut(df_proc['annual_inc'], 10)  # 처음 1구간에 몰려있음\n",
        "auxrevol_bal = pd.cut(df_proc['revol_bal'], 10)    # 처음 2구간에 몰려있음\n",
        "auxrevol_util = pd.cut(df_proc['revol_util'], 10)  # 처음 2구간에 몰려있음\n",
        "auxtotal_acc = pd.cut(df_proc['total_acc'], 10)    #특징 X\n",
        "auxopen_acc = pd.cut(df_proc['open_acc'], 10)      #특징 X\n",
        "auxfico_range_low = pd.cut(df_proc['fico_range_low'], 10)  #앞쪽일수록 1비율 큼. 의미O\n",
        "auxfico_range_high = pd.cut(df_proc['fico_range_high'], 10)  #앞쪽일수록 1비율 큼. 의미O\n",
        "auxfunded_amnt = pd.cut(df_proc['funded_amnt'], 10)  #앞쪽일 수록 0이 살짝 큰것같은데 미미함.\n",
        "\n",
        "# aux_list 13개\n",
        "aux_dict = {'total_rec_int':auxtotal_rec_int, 'int_rate':auxint_rate, 'installment':auxinstallment, \n",
        "            'tot_cur_bal':auxtot_cur_bal, 'dti':auxdti, 'annual_inc':auxannual_inc, 'revol_bal':auxrevol_bal, 'revol_util':auxrevol_util,\n",
        "            'total_acc':auxtotal_acc, 'open_acc': auxopen_acc, 'fico_range_low':auxfico_range_low,\n",
        "            'fico_range_high':auxfico_range_high, 'funded_amnt':auxfunded_amnt}"
      ],
      "metadata": {
        "id": "pkGsmBPbh0n-"
      },
      "execution_count": 8,
      "outputs": []
    },
    {
      "cell_type": "code",
      "source": [
        "# df_proc_2 부터는 구간 라벨링 시작\n",
        "df_proc_2 = df_proc.copy()"
      ],
      "metadata": {
        "id": "RBW5aUlLh0l7"
      },
      "execution_count": 9,
      "outputs": []
    },
    {
      "cell_type": "code",
      "source": [
        "# Label넣어줄 리스트 생성\n",
        "col_for_label = ['total_rec_int', 'int_rate',  'installment', 'tot_cur_bal',\n",
        "                 'dti', 'annual_inc', 'revol_bal', 'revol_util', 'total_acc', 'open_acc', 'fico_range_low', 'fico_range_high', 'funded_amnt']\n",
        "\n",
        "# name이 string타입이라 그냥 넣어주면 됨\n",
        "for name in col_for_label:\n",
        "    df_proc_2[name] = LabelEncoder().fit_transform(aux_dict[name])"
      ],
      "metadata": {
        "id": "egvqYzmSh0h1"
      },
      "execution_count": 10,
      "outputs": []
    },
    {
      "cell_type": "code",
      "source": [
        "#수동으로 구간 작업한 것 넣어주기\n",
        "\n",
        "# 코드 순서주의!!!!\n",
        "df_proc_2.loc[(df_proc_2['total_rec_late_fee'] > 1.7) & (df_proc_2['total_rec_late_fee'] <= 12), 'total_rec_late_fee'] = 4\n",
        "df_proc_2.loc[df_proc_2['total_rec_late_fee']  > 12, 'total_rec_late_fee'] = 5\n",
        "df_proc_2.loc[(df_proc_2['total_rec_late_fee'] > 0.06) & (df_proc_2['total_rec_late_fee'] <= 1.7), 'total_rec_late_fee'] = 3\n",
        "df_proc_2.loc[(df_proc_2['total_rec_late_fee'] > 0.002) & (df_proc_2['total_rec_late_fee'] <= 0.06), 'total_rec_late_fee'] = 2\n",
        "df_proc_2.loc[(df_proc_2['total_rec_late_fee'] > 0.000001) & (df_proc_2['total_rec_late_fee'] <= 0.002), 'total_rec_late_fee'] = 1\n",
        "df_proc_2.loc[ df_proc_2['total_rec_late_fee'] <= 0.000001, 'total_rec_late_fee'] = 0\n",
        "\n",
        "df_proc_2.loc[df_proc_2['tot_coll_amt']  > 0.02, 'tot_coll_amt'] = 2\n",
        "df_proc_2.loc[(df_proc_2['tot_coll_amt'] > 0.00001) & (df_proc_2['tot_coll_amt'] <= 0.02), 'tot_coll_amt'] = 1\n",
        "df_proc_2.loc[df_proc_2['tot_coll_amt'] <= 0.00001, 'tot_coll_amt'] = 0\n",
        "\n",
        "df_proc_2.loc[df_proc_2['delinq_2yrs'] <= 4, 'delinq_2yrs'] = 0                                     #4년이하 2:1 비율\n",
        "df_proc_2.loc[(df_proc_2['delinq_2yrs'] > 4) & (df_proc_2['delinq_2yrs'] <= 10), 'delinq_2yrs'] = 1 #5~8년 채무불이행비율 증가\n",
        "df_proc_2.loc[df_proc_2['delinq_2yrs']  > 10, 'delinq_2yrs'] = 2                                    #9년 이상\n",
        "\n",
        "df_proc_2.loc[df_proc_2['collections_12_mths_ex_med'] <= 0.1, 'collections_12_mths_ex_med'] = 0     # 0번 추심 발생횟수\n",
        "df_proc_2.loc[df_proc_2['collections_12_mths_ex_med']  > 0.1, 'collections_12_mths_ex_med'] = 1     # 1번 이상\n",
        "\n",
        "df_proc_2.loc[df_proc_2['tax_liens'] <= 0.1, 'tax_liens'] = 0                                   #0번 세금 저당권 2:1 비율\n",
        "df_proc_2.loc[(df_proc_2['tax_liens'] > 0.1) & (df_proc_2['tax_liens'] <= 1.5), 'tax_liens'] = 1 #1번 채무불이행비율 증가\n",
        "df_proc_2.loc[df_proc_2['tax_liens']  > 1.5, 'tax_liens'] = 2 \n",
        "\n",
        "df_proc_2.loc[df_proc_2['pub_rec'] <= 0.1, 'pub_rec'] = 0                                   #파산 횟수 0번\n",
        "df_proc_2.loc[(df_proc_2['pub_rec'] > 0.1) & (df_proc_2['pub_rec'] <= 4.2), 'pub_rec'] = 1  #1~4번\n",
        "df_proc_2.loc[df_proc_2['pub_rec']  > 4.2, 'pub_rec'] = 2                                   #5회 이상\n",
        "\n",
        "# 코드 넣는 순서 중요!! 거꾸로 하면 0.35 이상은 다 5로 바꿔버림\n",
        "df_proc_2.loc[df_proc_2['acc_ratio']  > 0.35, 'acc_ratio'] = 5\n",
        "df_proc_2.loc[(df_proc_2['acc_ratio'] > 0.15) & (df_proc_2['acc_ratio'] <= 0.35), 'acc_ratio'] = 4\n",
        "df_proc_2.loc[(df_proc_2['acc_ratio'] > 0.05) & (df_proc_2['acc_ratio'] <= 0.15), 'acc_ratio'] = 3\n",
        "df_proc_2.loc[(df_proc_2['acc_ratio'] > 0.035) & (df_proc_2['acc_ratio'] <= 0.05), 'acc_ratio'] = 2\n",
        "df_proc_2.loc[(df_proc_2['acc_ratio'] > 0.0001) & (df_proc_2['acc_ratio'] <= 0.035), 'acc_ratio'] = 1\n",
        "df_proc_2.loc[df_proc_2['acc_ratio'] <= 0.0001, 'acc_ratio'] = 0 "
      ],
      "metadata": {
        "id": "QLvY6Brth0fn"
      },
      "execution_count": 11,
      "outputs": []
    },
    {
      "cell_type": "code",
      "source": [
        "col_for_dummies = list(df_proc_2.columns)\n",
        "col_for_dummies.remove('my_multiple')\n",
        "col_for_dummies.remove('my_multiple2')\n",
        "col_for_dummies.remove('my_multiple4')\n",
        "col_for_dummies.remove('my_multiple5')\n",
        "col_for_dummies.remove('my_multiple6')\n",
        "col_for_dummies.remove('my_multiple7')\n",
        "col_for_dummies.remove('my_multiple9')\n",
        "col_for_dummies.remove('my_multiple11')\n",
        "col_for_dummies.remove('my_clf2')\n",
        "col_for_dummies.remove('out_prncp')\n",
        "col_for_dummies.remove('depvar')\n",
        "\n",
        "\n",
        "col_for_dummies"
      ],
      "metadata": {
        "id": "zqN9ypaFh0do"
      },
      "execution_count": null,
      "outputs": []
    },
    {
      "cell_type": "code",
      "source": [
        "df_proc_2.nunique()"
      ],
      "metadata": {
        "colab": {
          "base_uri": "https://localhost:8080/"
        },
        "id": "iLxEhlVIPl0n",
        "outputId": "3dbdba71-f428-4c8b-fec8-93bae33ac2ca"
      },
      "execution_count": 13,
      "outputs": [
        {
          "output_type": "execute_result",
          "data": {
            "text/plain": [
              "int_rate              15\n",
              "annual_inc            10\n",
              "dti                   10\n",
              "delinq_2yrs            3\n",
              "inq_last_6mths         7\n",
              "                   ...  \n",
              "my_multiple6       98923\n",
              "my_multiple7      100000\n",
              "my_multiple9       99395\n",
              "my_multiple11      80017\n",
              "my_clf2               55\n",
              "Length: 82, dtype: int64"
            ]
          },
          "metadata": {},
          "execution_count": 13
        }
      ]
    },
    {
      "cell_type": "code",
      "source": [
        "# df_proc_3 = 원핫인코딩으로 바꿔줌\n",
        "df_proc_3 = pd.get_dummies(df_proc_2, columns=col_for_dummies)"
      ],
      "metadata": {
        "id": "0q-0FR6wh0bM"
      },
      "execution_count": 15,
      "outputs": []
    },
    {
      "cell_type": "code",
      "source": [
        "df_proc_3['depvar'] = df_proc_2['depvar']"
      ],
      "metadata": {
        "id": "zP8QqXbdGEKr"
      },
      "execution_count": 16,
      "outputs": []
    },
    {
      "cell_type": "code",
      "source": [
        "# 원핫인코딩안한거\n",
        "# Train, Valid split\n",
        "X = df_proc.drop('depvar', axis=1)\n",
        "y = df_proc['depvar']\n",
        "X_train, X_valid, y_train, y_valid = train_test_split(X, y, test_size=0.001)\n",
        "X_train_names = X_train.columns"
      ],
      "metadata": {
        "id": "_Ozrr0-uV-Pi"
      },
      "execution_count": 150,
      "outputs": []
    },
    {
      "cell_type": "code",
      "source": [
        "# Train, Valid split\n",
        "X = df_proc_3.drop('depvar', axis=1)\n",
        "y = df_proc_3['depvar']\n",
        "X_train, X_valid, y_train, y_valid = train_test_split(X, y, test_size=0.2)\n",
        "X_train_names = X_train.columns"
      ],
      "metadata": {
        "id": "3fKLbWqah0ZH"
      },
      "execution_count": 58,
      "outputs": []
    },
    {
      "cell_type": "code",
      "source": [
        "X.shape"
      ],
      "metadata": {
        "colab": {
          "base_uri": "https://localhost:8080/"
        },
        "id": "zR3iGmLCjJQ7",
        "outputId": "f6320301-e3c1-4fcc-ae82-9778492d001b"
      },
      "execution_count": 93,
      "outputs": [
        {
          "output_type": "execute_result",
          "data": {
            "text/plain": [
              "(100000, 81)"
            ]
          },
          "metadata": {},
          "execution_count": 93
        }
      ]
    },
    {
      "cell_type": "code",
      "source": [
        "X_train_sc = StandardScaler().fit_transform(X_train)\n",
        "X_valid_sc = StandardScaler().fit_transform(X_valid)"
      ],
      "metadata": {
        "id": "I6OxXG4Gh0XC"
      },
      "execution_count": 151,
      "outputs": []
    },
    {
      "cell_type": "code",
      "source": [
        "def get_clf_eval(y_actual, y_pred):\n",
        "    accuracy = accuracy_score(y_actual, y_pred)\n",
        "    precision = precision_score(y_actual, y_pred)\n",
        "    recall = recall_score(y_actual, y_pred)\n",
        "    AUC = roc_auc_score(y_actual, y_pred)\n",
        "    F1 = f1_score(y_actual, y_pred)\n",
        "    print('\\n정확도: {:.4f}'.format(accuracy))\n",
        "    print('정밀도: {:.4f}'.format(precision))\n",
        "    print('재현율: {:.4f}'.format(recall))\n",
        "    print('AUC: {:.4f}'.format(AUC))\n",
        "    print('F1: {:.4f}'.format(F1))\n",
        "    \n",
        "    sns.heatmap(confusion_matrix(y_actual, y_pred), annot=True, fmt='d', cmap='YlGnBu')"
      ],
      "metadata": {
        "id": "S3b5i63zh0Uj"
      },
      "execution_count": 152,
      "outputs": []
    },
    {
      "cell_type": "code",
      "source": [
        "class TrainData(Dataset):\n",
        "    \n",
        "    def __init__(self, X_data, y_data):\n",
        "        self.X_data = X_data\n",
        "        self.y_data = y_data\n",
        "        \n",
        "    def __getitem__(self, index):\n",
        "        return self.X_data[index], self.y_data[index]\n",
        "        \n",
        "    def __len__ (self):\n",
        "        return len(self.X_data)\n",
        "\n",
        "\n",
        "class ValidData(Dataset):\n",
        "    \n",
        "    def __init__(self, X_data, y_data):\n",
        "        self.X_data = X_data\n",
        "        self.y_data = y_data\n",
        "        \n",
        "    def __getitem__(self, index):\n",
        "        return self.X_data[index], self.y_data[index]\n",
        "        \n",
        "    def __len__ (self):\n",
        "        return len(self.X_data)\n",
        "\n",
        "\n",
        "class TestData(Dataset):\n",
        "    \n",
        "    def __init__(self, X_data):\n",
        "        self.X_data = X_data\n",
        "        \n",
        "    def __getitem__(self, index):\n",
        "        return self.X_data[index]\n",
        "        \n",
        "    def __len__ (self):\n",
        "        return len(self.X_data)\n",
        "    \n",
        "\n",
        "train_data = TrainData(torch.FloatTensor(X_train_sc), torch.FloatTensor(y_train.to_numpy()))\n",
        "valid_data = ValidData(torch.FloatTensor(X_valid_sc), torch.FloatTensor(y_valid.to_numpy()))\n",
        "# X_test_sc = StandardScaler().fit_transform(X_test)\n",
        "# test_data = TestData(torch.FloatTensor(X_test_sc))\n",
        "# y_train과 y_valid는 pandas.Series타입이라서 그대로 Tensor에 넣으면 에러발생함. numpy로 바꿔주고 진행"
      ],
      "metadata": {
        "id": "tfq61kIGh0SK"
      },
      "execution_count": 153,
      "outputs": []
    },
    {
      "cell_type": "markdown",
      "source": [
        ""
      ],
      "metadata": {
        "id": "WF2IrS48eIOs"
      }
    },
    {
      "cell_type": "code",
      "source": [
        "EPOCHS = 100\n",
        "BATCH_SIZE = 1012\n",
        "LEARNING_RATE = 0.001\n",
        "\n",
        "# data loader 세팅\n",
        "train_loader = DataLoader(dataset=train_data, batch_size=BATCH_SIZE, shuffle=True)\n",
        "valid_loader = DataLoader(dataset=valid_data, batch_size=1)"
      ],
      "metadata": {
        "id": "p848PEKjlvsq"
      },
      "execution_count": 211,
      "outputs": []
    },
    {
      "cell_type": "code",
      "source": [
        "X.shape"
      ],
      "metadata": {
        "colab": {
          "base_uri": "https://localhost:8080/"
        },
        "id": "TtTMStVcijpt",
        "outputId": "b92fe21e-8998-4563-8a78-a42b8da3d4bd"
      },
      "execution_count": 212,
      "outputs": [
        {
          "output_type": "execute_result",
          "data": {
            "text/plain": [
              "(100000, 81)"
            ]
          },
          "metadata": {},
          "execution_count": 212
        }
      ]
    },
    {
      "cell_type": "code",
      "source": [
        "# class BinaryClassification(nn.Module):\n",
        "#     def __init__(self):\n",
        "#         super(BinaryClassification, self).__init__()\n",
        "#         self.conv0 = nn.Conv1d(in_channels = 1,\n",
        "#                                out_channels = 20,\n",
        "#                                kernel_size = 5,\n",
        "#                                stride = (1,))\n",
        "#         self.conv0_bn = nn.LayerNorm([20,1,77])\n",
        "#         self.conv1 = nn.Conv1d(in_channels = 20,\n",
        "#                                out_channels = 50,\n",
        "#                                kernel_size = (1,10),\n",
        "#                                stride = (1,)) # Layer 2\n",
        "#         self.conv1_bn = nn.LayerNorm([50,1,68])\n",
        "#         self.fc1 = nn.Linear(68*50, 200)\n",
        "#         self.dropout = nn.Dropout(0.5)\n",
        "#         self.fc2 = nn.Linear(200, 10)\n",
        "\n",
        "# def forward(self, x):\n",
        "#         x = self.conv0(x)\n",
        "#         x = self.conv0_bn(x)\n",
        "#         x = nn.ReLU(x)\n",
        "\n",
        "#         x = self.conv1(x)\n",
        "#         x = self.conv1_bn(x)\n",
        "#         x = nn.ReLU(x)\n",
        "\n",
        "#         x = x.view(x.shape[0], -1)\n",
        "#         x = self.fc1(x)\n",
        "\n",
        "#         x = self.dropout(x)\n",
        "#         x = self.fc2(x)\n",
        "#         return x"
      ],
      "metadata": {
        "id": "nr6dwF9UdmzM"
      },
      "execution_count": null,
      "outputs": []
    },
    {
      "cell_type": "code",
      "source": [
        "class BinaryClassification(nn.Module):\n",
        "    def __init__(self):\n",
        "        super(BinaryClassification, self).__init__()\n",
        "        # Number of input features is 16\n",
        "        self.layer_1 = nn.Linear(81, 60) \n",
        "        self.layer_2 = nn.Linear(60, 40)\n",
        "        self.Layer_3 = nn.Sequential(\n",
        "                                nn.Linear(40, 10),\n",
        "                                nn.ReLU()\n",
        "                            )\n",
        "        self.layer_out = nn.Linear(10, 1) \n",
        "        \n",
        "        self.relu = nn.ReLU()\n",
        "        self.dropout = nn.Dropout(p=0.3)\n",
        "        self.batchnorm1 = nn.BatchNorm1d(60)\n",
        "        self.batchnorm2 = nn.BatchNorm1d(40)\n",
        "        self.batchnorm3 = nn.BatchNorm1d(10)\n",
        "\n",
        "        \n",
        "    def forward(self, inputs):\n",
        "        x = self.relu(self.layer_1(inputs))\n",
        "        x = self.batchnorm1(x)\n",
        "        x = self.relu(self.layer_2(x))\n",
        "        x = self.batchnorm2(x)\n",
        "        x = self.Layer_3(x)\n",
        "        x = self.batchnorm3(x)\n",
        "        x = self.dropout(x)\n",
        "        x = self.layer_out(x)\n",
        "        \n",
        "        return x"
      ],
      "metadata": {
        "id": "3Yq6oc37ko5d"
      },
      "execution_count": 213,
      "outputs": []
    },
    {
      "cell_type": "code",
      "source": [
        "class BinaryClassification(nn.Module):\n",
        "    def __init__(self):\n",
        "        super(BinaryClassification, self).__init__()\n",
        "        # Number of input features is 16\n",
        "        self.conv1 = nn.Conv1d(1, 128, kernel_size=3)   # b, 128, 79\n",
        "        self.conv1_bn = nn.LayerNorm([128,1,79])\n",
        "\n",
        "        self.conv2 = nn.Conv1d(128, 50, kernel_size=5, stride=3) # b, 50, 75\n",
        "        self.conv2_bn = nn.LayerNorm([50,1,26])\n",
        "\n",
        "        self.fc1 = nn.Linear(50*26, 100)\n",
        "        self.dropout = nn.Dropout(p=0.3)\n",
        "        self.fc2 = nn.Linear(100, 2)\n",
        "        self.batchnorm1 = nn.BatchNorm1d(81)\n",
        "        self.relu = nn.ReLU()\n",
        "        \n",
        "    def forward(self, inputs):\n",
        "        x = inputs.unsqueeze(1)\n",
        "        print('통과 squeeze')\n",
        "        x = self.conv1(inputs)\n",
        "        print('conv1통과')\n",
        "        x = self.conv1_bn(x)\n",
        "        x = nn.ReLU(x)\n",
        "        print('통과conv1')\n",
        "        x = self.conv2(x)\n",
        "        x = self.conv2_bn(x)\n",
        "        x = nn.ReLU(x)\n",
        "        print('통과conv2')\n",
        "        x = x.view(x.shape[0], -1)\n",
        "        x = self.fc1(x)\n",
        "        print('통과 fc1')\n",
        "        x = self.dropout(x)\n",
        "        x = self.fc2(x)\n",
        "        print('통과 fc2')\n",
        "        return x"
      ],
      "metadata": {
        "id": "3rjYIzUVhmRu"
      },
      "execution_count": 204,
      "outputs": []
    },
    {
      "cell_type": "code",
      "source": [
        ""
      ],
      "metadata": {
        "id": "AqNGLCEqm8OI"
      },
      "execution_count": 161,
      "outputs": []
    },
    {
      "cell_type": "code",
      "source": [
        "# torch.cuda.device_count() #gpu 갯수\n",
        "print(device) #cuda 만 있을 때 default로 0번 gpu 배정됨. cuda:0 이랑 같은 것"
      ],
      "metadata": {
        "colab": {
          "base_uri": "https://localhost:8080/"
        },
        "id": "4OisVc0Hm8JS",
        "outputId": "b2e12195-d7bd-4d4d-f98a-8724ab0f7a68"
      },
      "execution_count": 178,
      "outputs": [
        {
          "output_type": "stream",
          "name": "stdout",
          "text": [
            "cuda\n"
          ]
        }
      ]
    },
    {
      "cell_type": "code",
      "source": [
        "# 모델 객체 생성\n",
        "model = BinaryClassification()\n",
        "model.to(device)\n",
        "print(model)\n",
        "criterion = nn.BCEWithLogitsLoss()\n",
        "optimizer = optim.Adam(model.parameters(), lr=LEARNING_RATE)"
      ],
      "metadata": {
        "colab": {
          "base_uri": "https://localhost:8080/"
        },
        "id": "-9dXRsr4m8HI",
        "outputId": "bdbb3568-bc63-4783-ff03-e30ffd060107"
      },
      "execution_count": 214,
      "outputs": [
        {
          "output_type": "stream",
          "name": "stdout",
          "text": [
            "BinaryClassification(\n",
            "  (layer_1): Linear(in_features=81, out_features=60, bias=True)\n",
            "  (layer_2): Linear(in_features=60, out_features=40, bias=True)\n",
            "  (Layer_3): Sequential(\n",
            "    (0): Linear(in_features=40, out_features=10, bias=True)\n",
            "    (1): ReLU()\n",
            "  )\n",
            "  (layer_out): Linear(in_features=10, out_features=1, bias=True)\n",
            "  (relu): ReLU()\n",
            "  (dropout): Dropout(p=0.3, inplace=False)\n",
            "  (batchnorm1): BatchNorm1d(60, eps=1e-05, momentum=0.1, affine=True, track_running_stats=True)\n",
            "  (batchnorm2): BatchNorm1d(40, eps=1e-05, momentum=0.1, affine=True, track_running_stats=True)\n",
            "  (batchnorm3): BatchNorm1d(10, eps=1e-05, momentum=0.1, affine=True, track_running_stats=True)\n",
            ")\n"
          ]
        }
      ]
    },
    {
      "cell_type": "code",
      "source": [
        "def binary_acc(y_pred, y_test):\n",
        "    y_pred_tag = torch.round(torch.sigmoid(y_pred))\n",
        "\n",
        "    correct_results_sum = (y_pred_tag == y_test).sum().float()\n",
        "    acc = correct_results_sum/y_test.shape[0]\n",
        "    acc = torch.round(acc * 100)\n",
        "    \n",
        "    return acc"
      ],
      "metadata": {
        "id": "ByYUrF_Ym70i"
      },
      "execution_count": 215,
      "outputs": []
    },
    {
      "cell_type": "code",
      "source": [
        "# Training\n",
        "model.train()\n",
        "for e in range(1, EPOCHS+1):\n",
        "    epoch_loss = 0\n",
        "    epoch_acc = 0\n",
        "    for X_batch, y_batch in train_loader:\n",
        "        X_batch, y_batch = X_batch.to(device), y_batch.to(device)\n",
        "\n",
        "        y_pred = model(X_batch)\n",
        "        \n",
        "        loss = criterion(y_pred, y_batch.unsqueeze(1))\n",
        "        acc = binary_acc(y_pred, y_batch.unsqueeze(1))\n",
        "\n",
        "        optimizer.zero_grad()\n",
        "        loss.backward()\n",
        "        optimizer.step()\n",
        "        \n",
        "        epoch_loss += loss.item()\n",
        "        epoch_acc += acc.item()\n",
        "        \n",
        "    if e % 10 == 0:\n",
        "      print(f'Epoch {e+0:03}: | Loss: {epoch_loss/len(train_loader):.5f} | Acc: {epoch_acc/len(train_loader):.3f}')"
      ],
      "metadata": {
        "colab": {
          "base_uri": "https://localhost:8080/"
        },
        "id": "RF3bsJcfpWwd",
        "outputId": "bf9623a1-6c48-4a42-fdf1-77c884d1133e"
      },
      "execution_count": 216,
      "outputs": [
        {
          "output_type": "stream",
          "name": "stdout",
          "text": [
            "Epoch 010: | Loss: 0.49237 | Acc: 75.929\n",
            "Epoch 020: | Loss: 0.47433 | Acc: 76.717\n",
            "Epoch 030: | Loss: 0.46537 | Acc: 77.323\n",
            "Epoch 040: | Loss: 0.45753 | Acc: 77.626\n",
            "Epoch 050: | Loss: 0.45287 | Acc: 77.909\n",
            "Epoch 060: | Loss: 0.44808 | Acc: 78.172\n",
            "Epoch 070: | Loss: 0.44542 | Acc: 78.232\n",
            "Epoch 080: | Loss: 0.44276 | Acc: 78.444\n",
            "Epoch 090: | Loss: 0.44087 | Acc: 78.495\n",
            "Epoch 100: | Loss: 0.43879 | Acc: 78.596\n"
          ]
        }
      ]
    },
    {
      "cell_type": "code",
      "source": [
        "# Validation \n",
        "y_pred_array = np.array([])\n",
        "# y_pred_list = []\n",
        "model.eval()\n",
        "with torch.no_grad():\n",
        "    for X_batch, _ in valid_loader:\n",
        "        X_batch = X_batch.to(device)\n",
        "        y_valid_pred = model(X_batch)\n",
        "        y_valid_pred = torch.sigmoid(y_valid_pred)\n",
        "        # y_pred_tag = torch.round(y_valid_pred)\n",
        "        # y_pred_array.append(y_valid_pred.cpu().numpy())\n",
        "        y_pred_array = np.append(y_pred_array, y_valid_pred.cpu().numpy())\n",
        "\n",
        "# y_pred_list = [a.squeeze().tolist() for a in y_pred_list]"
      ],
      "metadata": {
        "id": "McEc9UJ2pWuf"
      },
      "execution_count": 217,
      "outputs": []
    },
    {
      "cell_type": "code",
      "source": [
        "get_clf_eval(y_valid, y_pred_array>0.5)"
      ],
      "metadata": {
        "colab": {
          "base_uri": "https://localhost:8080/",
          "height": 379
        },
        "id": "ML1L_e-xpWsj",
        "outputId": "bfa18364-b9d8-40d6-deb2-e24b1408ce6f"
      },
      "execution_count": 220,
      "outputs": [
        {
          "output_type": "stream",
          "name": "stdout",
          "text": [
            "\n",
            "정확도: 0.8000\n",
            "정밀도: 0.6250\n",
            "재현율: 0.7143\n",
            "AUC: 0.7738\n",
            "F1: 0.6667\n"
          ]
        },
        {
          "output_type": "display_data",
          "data": {
            "image/png": "[encoded data removed]",
            "text/plain": [
              "<Figure size 432x288 with 2 Axes>"
            ]
          },
          "metadata": {
            "needs_background": "light"
          }
        }
      ]
    },
    {
      "cell_type": "code",
      "source": [
        "# 필요한 train test코드를 다 작성하세요\n",
        "##################################################################################################\n",
        "# 필요한 라이브러리 불러오기\n",
        "import torch \n",
        "import torch.nn as nn #\n",
        "import torch.nn.functional as F # 각종 activation 함수\n",
        "import torchvision # 이미지 관련 처리, Pretrained Model 관련된 Package 입니다. \n",
        "import torchvision.datasets as vision_dsets\n",
        "import torchvision.transforms as T # 이미지 처리 (Vison) 관련된 transformation이 정의 되어 있습니다.\n",
        "import torch.optim as optim # pytorch 에서 정의한 수 많은 optimization function 들이 들어 있습니다.\n",
        "from torch.utils import data\n",
        "\n",
        "import os\n",
        "os.environ['CUDA_VISIBLE_DEVICES'] = '0'\n",
        "##################################################################################################\n",
        "# # Data loader 불러오기\n",
        "# def MNIST_DATA(root='./data',train =True,transforms=None ,download =True,batch_size = 32,num_worker = 1):\n",
        "#     mnist_train = vision_dsets.MNIST(root = root,\n",
        "#                                     train = True,\n",
        "#                                     transform = T.ToTensor(),\n",
        "#                                     download = True)\n",
        "#     mnist_test = vision_dsets.MNIST(root = root,\n",
        "#                                     train = False,\n",
        "#                                     transform = T.ToTensor(),\n",
        "#                                     download = True)\n",
        "#     trainDataLoader = data.DataLoader(dataset = mnist_train, \n",
        "#                                       batch_size = batch_size, \n",
        "#                                       shuffle =True,\n",
        "#                                       num_workers = 1) \n",
        "#     testDataLoader = data.DataLoader(dataset = mnist_test, \n",
        "#                                     batch_size = batch_size, \n",
        "#                                     shuffle = False, \n",
        "#                                     num_workers = 1) \n",
        "#     return mnist_train,mnist_test,trainDataLoader,testDataLoader\n",
        "\n",
        "# trainDset,testDset,trainDataLoader,testDataLoader= MNIST_DATA(batch_size = 32)\n",
        "##################################################################################################\n",
        "# Trainaer 정의하기\n",
        "class Trainer():\n",
        "    def __init__(self, trainloader, testloader, net, optimizer, criterion):\n",
        "        self.trainloader = trainloader\n",
        "        self.testloader = testloader\n",
        "        self.net = net  #학습시킬 모델\n",
        "        self.optimizer = optimizer\n",
        "        self.criterion = criterion\n",
        "        \n",
        "    def train(self, epoch = 1):\n",
        "        self.net.train()\n",
        "        for e in range(epoch):\n",
        "            running_loss = 0.0\n",
        "            for i, data in enumerate(self.trainloader, 0): \n",
        "                inputs, labels = data\n",
        "                self.optimizer.zero_grad()\n",
        "                outputs = self.net(inputs)\n",
        "                loss = self.criterion(outputs, labels)\n",
        "                loss.backward()\n",
        "                self.optimizer.step()\n",
        "                running_loss += loss.item()\n",
        "                if (i+1) % 500 == 0:\n",
        "                    print('[%d, %5d] loss: %.3f' % (e + 1, i + 1, running_loss / 500))\n",
        "                    running_loss = 0.0\n",
        "        print('Finished Training')\n",
        "        \n",
        "    def test(self):\n",
        "        self.net.eval()\n",
        "        test_loss = 0\n",
        "        correct = 0\n",
        "        for inputs, labels in self.testloader:\n",
        "            output = self.net(inputs) \n",
        "            pred = output.max(1, keepdim=True)[1]\n",
        "            correct += pred.eq(labels.view_as(pred)).sum().item()\n",
        "            test_loss /= len(self.testloader.dataset)\n",
        "        print('\\nTest set:  Accuracy: {}/{} ({:.0f}%)\\n'.\n",
        "                format(correct, len(self.testloader.dataset),\n",
        "                100.* correct / len(self.testloader.dataset)))\n",
        "##################################################################################################\n",
        "# Network 만들어보기\n",
        "# 가장 성능 좋고 학습 빨랐던 3-Layer Network (Conv+Pool+Fc) + ReLU + Adam + Grouph-Norm 기반으로 값 수정하며 진행\n",
        "# channels / stride  / batch_size / epoch 변경 등 \n",
        "class MNIST_Net(nn.Module):\n",
        "    def __init__(self):\n",
        "        super(MNIST_Net, self).__init__()\n",
        "        self.conv0 = nn.Conv2d(in_channels = 1,\n",
        "                               out_channels = 8,\n",
        "                               kernel_size = 6,\n",
        "                               stride = 2)\n",
        "        self.conv0_bn = nn.GroupNorm(num_groups = 4, num_channels = 8) \n",
        "        self.pool0 = nn.MaxPool2d(2)\n",
        "        self.fc0 = nn.Linear(8*6*6, 40)\n",
        "        self.fc1 = nn.Linear(40, 10)\n",
        "\n",
        "    def forward(self, x):\n",
        "        x = self.conv0(x)\n",
        "        x = self.conv0_bn(x)\n",
        "        x = F.relu(x)\n",
        "        x = self.pool0(x)\n",
        "        x = x.view(x.shape[0], -1)\n",
        "        x = self.fc0(x)\n",
        "        x = F.relu(x)\n",
        "        x = self.fc1(x)\n",
        "        return x\n",
        "        \n",
        "def count_parameters(model):\n",
        "    return sum(p.numel() for p in model.parameters() if p.requires_grad)\n",
        "    \n",
        "mnist_net = MNIST_Net()\n",
        "criterion = nn.CrossEntropyLoss()\n",
        "optimizer = optim.Adam(mnist_net.parameters(), lr=0.001)\n",
        "\n",
        "trainer = Trainer(trainloader = trainDataLoader,\n",
        "                  testloader = testDataLoader,\n",
        "                  net = mnist_net,\n",
        "                  criterion = criterion,\n",
        "                  optimizer = optimizer)"
      ],
      "metadata": {
        "colab": {
          "base_uri": "https://localhost:8080/",
          "height": 248
        },
        "id": "6eiGrSJRXOp9",
        "outputId": "84fad201-9418-49ed-db44-1d8716b38e29"
      },
      "execution_count": 210,
      "outputs": [
        {
          "output_type": "error",
          "ename": "NameError",
          "evalue": "ignored",
          "traceback": [
            "\u001b[0;31m---------------------------------------------------------------------------\u001b[0m",
            "\u001b[0;31mNameError\u001b[0m                                 Traceback (most recent call last)",
            "\u001b[0;32m<ipython-input-210-018477dcf3d1>\u001b[0m in \u001b[0;36m<module>\u001b[0;34m()\u001b[0m\n\u001b[1;32m    108\u001b[0m \u001b[0moptimizer\u001b[0m \u001b[0;34m=\u001b[0m \u001b[0moptim\u001b[0m\u001b[0;34m.\u001b[0m\u001b[0mAdam\u001b[0m\u001b[0;34m(\u001b[0m\u001b[0mmnist_net\u001b[0m\u001b[0;34m.\u001b[0m\u001b[0mparameters\u001b[0m\u001b[0;34m(\u001b[0m\u001b[0;34m)\u001b[0m\u001b[0;34m,\u001b[0m \u001b[0mlr\u001b[0m\u001b[0;34m=\u001b[0m\u001b[0;36m0.001\u001b[0m\u001b[0;34m)\u001b[0m\u001b[0;34m\u001b[0m\u001b[0;34m\u001b[0m\u001b[0m\n\u001b[1;32m    109\u001b[0m \u001b[0;34m\u001b[0m\u001b[0m\n\u001b[0;32m--> 110\u001b[0;31m trainer = Trainer(trainloader = trainDataLoader,\n\u001b[0m\u001b[1;32m    111\u001b[0m                   \u001b[0mtestloader\u001b[0m \u001b[0;34m=\u001b[0m \u001b[0mtestDataLoader\u001b[0m\u001b[0;34m,\u001b[0m\u001b[0;34m\u001b[0m\u001b[0;34m\u001b[0m\u001b[0m\n\u001b[1;32m    112\u001b[0m                   \u001b[0mnet\u001b[0m \u001b[0;34m=\u001b[0m \u001b[0mmnist_net\u001b[0m\u001b[0;34m,\u001b[0m\u001b[0;34m\u001b[0m\u001b[0;34m\u001b[0m\u001b[0m\n",
            "\u001b[0;31mNameError\u001b[0m: name 'trainDataLoader' is not defined"
          ]
        }
      ]
    },
    {
      "cell_type": "markdown",
      "source": [
        "## 제출"
      ],
      "metadata": {
        "id": "S8w58R1uuaCZ"
      }
    },
    {
      "cell_type": "code",
      "source": [
        "df_test = pd.read_csv('/content/drive/MyDrive/competition_1st/test.csv')"
      ],
      "metadata": {
        "id": "7XvXxQ8xqJsq"
      },
      "execution_count": 231,
      "outputs": []
    },
    {
      "cell_type": "markdown",
      "source": [
        "test파일 전처리"
      ],
      "metadata": {
        "id": "hIMDbYQKIk-r"
      }
    },
    {
      "cell_type": "code",
      "source": [
        "# step1 컬럼 생성 및 삭제\n",
        "\n",
        "df_test = pd.read_csv('/content/drive/MyDrive/competition_1st/test.csv')\n",
        "\n",
        "df_test['acc_ratio'] = df_test['acc_now_delinq'] / df_test['open_acc']\n",
        "df_test = df_test.drop(columns=['delinq_amnt', 'out_prncp_inv', 'acc_now_delinq', 'funded_amnt_inv'])\n",
        "df_test['my_multiple'] = df_test['int_rate']*df_test['dti']\n",
        "df_test['my_multiple2'] = np.log(df_test['annual_inc']*df_test['fico_range_low'])\n",
        "df_test['my_multiple4'] = df_test['int_rate']*df_test['funded_amnt']\n",
        "df_test['my_multiple5'] = df_test['int_rate']*df_test['dti']/np.log(df_test['tot_cur_bal']*df_test['fico_range_low'])\n",
        "df_test['my_multiple6'] = df_test['revol_util']/(df_test['revol_bal']+0.0000001)\n",
        "df_test['my_multiple7'] = df_test['int_rate']*df_test['funded_amnt']/np.log(df_test['tot_cur_bal']*df_test['fico_range_low']+2)\n",
        "df_test['my_multiple9'] = np.log(df_test['int_rate']*df_test['funded_amnt'])*df_test['dti']\n",
        "df_test['my_multiple11'] = df_test['installment']/ df_test['annual_inc']\n",
        "df_test.loc[df_test['collections_12_mths_ex_med'] <= 0.1, 'collections_12_mths_ex_med'] = 0   # 0번 추심 발생횟수\n",
        "df_test.loc[df_test['collections_12_mths_ex_med']  > 0.1, 'collections_12_mths_ex_med'] = 1   # 1번 이상 추심 발생횟수\n",
        "df_test['my_clf2'] = df.groupby([df.term1, df.emp_length12, df.home_ownership6, df.verification_status3, df.initial_list_status1, df.collections_12_mths_ex_med, df.initial_list_status2])['depvar'].transform('mean')\n",
        "\n",
        "df_test.shape"
      ],
      "metadata": {
        "colab": {
          "base_uri": "https://localhost:8080/"
        },
        "id": "u3IpFJW8H_Ov",
        "outputId": "74cfade0-65b7-4c9e-b14c-04e343cee2a5"
      },
      "execution_count": 236,
      "outputs": [
        {
          "output_type": "execute_result",
          "data": {
            "text/plain": [
              "(35816, 82)"
            ]
          },
          "metadata": {},
          "execution_count": 236
        }
      ]
    },
    {
      "cell_type": "code",
      "source": [
        "# step2 상한선 설정\n",
        "\n",
        "df_test2 = df_test.copy()\n",
        "df_test2.loc[df_test2['tot_cur_bal']>1200000, 'tot_cur_bal'] = 1200000\n",
        "df_test2.loc[df_test2['annual_inc']>480000, 'annual_inc'] = 480000\n",
        "df_test2.loc[df_test2['revol_bal']>290000, 'revol_bal'] = 290000\n",
        "df_test2.loc[df_test2['revol_util']>1.785, 'revol_util'] = 1.785\n",
        "df_test2.loc[df_test2['total_rec_late_fee']>53, 'total_rec_late_fee'] = 53\n",
        "df_test2.loc[df_test2['total_acc']>89, 'total_acc'] = 89\n",
        "df_test2.loc[df_test2['open_acc']>41, 'open_acc'] = 41\n",
        "df_test2.loc[df_test2['tot_coll_amt']>0.00008, 'tot_coll_amt'] = 0.00008"
      ],
      "metadata": {
        "id": "rdxvS_31Ij72"
      },
      "execution_count": 237,
      "outputs": []
    },
    {
      "cell_type": "code",
      "source": [
        "# step3 구간 나눠주기 (13개) // aux(auxiliary) = 보조의\n",
        "\n",
        "test_auxtotal_rec_int = pd.cut(df_test2['total_rec_int'], 6) \n",
        "test_auxint_rate = pd.cut(df_test2['int_rate'], 15)      \n",
        "test_auxinstallment = pd.cut(df_test2['installment'], 15)  \n",
        "test_auxtot_cur_bal = pd.cut(df_test2['tot_cur_bal'], 10)  \n",
        "test_auxdti = pd.cut(df_test2['dti'], 10)               \n",
        "test_auxannual_inc = pd.cut(df_test2['annual_inc'], 10) \n",
        "test_auxrevol_bal = pd.cut(df_test2['revol_bal'], 10)    \n",
        "test_auxrevol_util = pd.cut(df_test2['revol_util'], 10)  \n",
        "test_auxtotal_acc = pd.cut(df_test2['total_acc'], 10)  \n",
        "test_auxopen_acc = pd.cut(df_test2['open_acc'], 10)    \n",
        "test_auxfico_range_low = pd.cut(df_test2['fico_range_low'], 10) \n",
        "test_auxfico_range_high = pd.cut(df_test2['fico_range_high'], 10) \n",
        "test_auxfunded_amnt = pd.cut(df_test2['funded_amnt'], 10)\n",
        "\n",
        "# aux_list 13개\n",
        "test_aux_dict = {'total_rec_int':test_auxtotal_rec_int, 'int_rate':test_auxint_rate, 'installment':test_auxinstallment, \n",
        "            'tot_cur_bal':test_auxtot_cur_bal, 'dti':test_auxdti, 'annual_inc':test_auxannual_inc, 'revol_bal':test_auxrevol_bal, 'revol_util':test_auxrevol_util,\n",
        "            'total_acc':test_auxtotal_acc, 'open_acc': test_auxopen_acc, 'fico_range_low':test_auxfico_range_low,\n",
        "            'fico_range_high':test_auxfico_range_high, 'funded_amnt':test_auxfunded_amnt}"
      ],
      "metadata": {
        "id": "KoL--ncUIj5v"
      },
      "execution_count": 81,
      "outputs": []
    },
    {
      "cell_type": "code",
      "source": [
        "# step4 컬럼에 구간 나눈대로 라벨링 해주기\n",
        "\n",
        "df_test3 = df_test2.copy()\n",
        "\n",
        "# Label넣어줄 리스트 생성\n",
        "test_col_for_label = ['total_rec_int', 'int_rate',  'installment', 'tot_cur_bal','dti', 'annual_inc', 'revol_bal', \n",
        "                       'revol_util', 'total_acc', 'open_acc', 'fico_range_low', 'fico_range_high', 'funded_amnt']\n",
        "\n",
        "# 라벨화 작업 진행\n",
        "for name in test_col_for_label:\n",
        "    df_test3[name] = LabelEncoder().fit_transform(test_aux_dict[name])"
      ],
      "metadata": {
        "id": "PlMNK_DdIj3z"
      },
      "execution_count": 82,
      "outputs": []
    },
    {
      "cell_type": "code",
      "source": [
        "# step5 수동으로 구간 작업한 것 넣어주기\n",
        "\n",
        "# 코드 순서주의!!!!\n",
        "df_test3.loc[(df_test3['total_rec_late_fee'] > 1.7) & (df_test3['total_rec_late_fee'] <= 12), 'total_rec_late_fee'] = 4\n",
        "df_test3.loc[df_test3['total_rec_late_fee']  > 12, 'total_rec_late_fee'] = 5\n",
        "df_test3.loc[(df_test3['total_rec_late_fee'] > 0.06) & (df_test3['total_rec_late_fee'] <= 1.7), 'total_rec_late_fee'] = 3\n",
        "df_test3.loc[(df_test3['total_rec_late_fee'] > 0.002) & (df_test3['total_rec_late_fee'] <= 0.06), 'total_rec_late_fee'] = 2\n",
        "df_test3.loc[(df_test3['total_rec_late_fee'] > 0.000001) & (df_test3['total_rec_late_fee'] <= 0.002), 'total_rec_late_fee'] = 1\n",
        "df_test3.loc[ df_test3['total_rec_late_fee'] <= 0.000001, 'total_rec_late_fee'] = 0\n",
        "\n",
        "df_test3.loc[df_test3['tot_coll_amt']  > 0.02, 'tot_coll_amt'] = 2\n",
        "df_test3.loc[(df_test3['tot_coll_amt'] > 0.00001) & (df_proc_2['tot_coll_amt'] <= 0.02), 'tot_coll_amt'] = 1\n",
        "df_test3.loc[df_test3['tot_coll_amt'] <= 0.00001, 'tot_coll_amt'] = 0\n",
        "\n",
        "df_test3.loc[df_test3['delinq_2yrs'] <= 4, 'delinq_2yrs'] = 0                                     #4년이하 2:1 비율\n",
        "df_test3.loc[(df_test3['delinq_2yrs'] > 4) & (df_proc_2['delinq_2yrs'] <= 10), 'delinq_2yrs'] = 1 #5~8년 채무불이행비율 증가\n",
        "df_test3.loc[df_test3['delinq_2yrs']  > 10, 'delinq_2yrs'] = 2                                    #9년 이상\n",
        "\n",
        "df_test3.loc[df_test3['collections_12_mths_ex_med'] <= 0.1, 'collections_12_mths_ex_med'] = 0     # 0번 추심 발생횟수\n",
        "df_test3.loc[df_test3['collections_12_mths_ex_med']  > 0.1, 'collections_12_mths_ex_med'] = 1     # 1번 이상\n",
        "\n",
        "df_test3.loc[df_test3['tax_liens'] <= 0.1, 'tax_liens'] = 0                                   #0번 세금 저당권 2:1 비율\n",
        "df_test3.loc[(df_test3['tax_liens'] > 0.1) & (df_proc_2['tax_liens'] <= 1.5), 'tax_liens'] = 1 #1번 채무불이행비율 증가\n",
        "df_test3.loc[df_test3['tax_liens']  > 1.5, 'tax_liens'] = 2 \n",
        "\n",
        "df_test3.loc[df_test3['pub_rec'] <= 0.1, 'pub_rec'] = 0                                   #파산 횟수 0번\n",
        "df_test3.loc[(df_test3['pub_rec'] > 0.1) & (df_proc_2['pub_rec'] <= 4.2), 'pub_rec'] = 1  #1~4번\n",
        "df_test3.loc[df_test3['pub_rec']  > 4.2, 'pub_rec'] = 2                                   #5회 이상\n",
        "\n",
        "# 코드 넣는 순서 중요!! 거꾸로 하면 0.35 이상은 다 5로 바꿔버림\n",
        "df_test3.loc[df_test3['acc_ratio']  > 0.35, 'acc_ratio'] = 5\n",
        "df_test3.loc[(df_test3['acc_ratio'] > 0.15) & (df_test3['acc_ratio'] <= 0.35), 'acc_ratio'] = 4\n",
        "df_test3.loc[(df_test3['acc_ratio'] > 0.05) & (df_test3['acc_ratio'] <= 0.15), 'acc_ratio'] = 3\n",
        "df_test3.loc[(df_test3['acc_ratio'] > 0.035) & (df_test3['acc_ratio'] <= 0.05), 'acc_ratio'] = 2\n",
        "df_test3.loc[(df_test3['acc_ratio'] > 0.0001) & (df_test3['acc_ratio'] <= 0.035), 'acc_ratio'] = 1\n",
        "df_test3.loc[df_test3['acc_ratio'] <= 0.0001, 'acc_ratio'] = 0 \n"
      ],
      "metadata": {
        "id": "Q77A2iYSJhYd"
      },
      "execution_count": 83,
      "outputs": []
    },
    {
      "cell_type": "code",
      "source": [
        "# step6 원핫인코딩 진행\n",
        "\n",
        "# test는 ID항목 먼저 추가로 제거\n",
        "df_test3 = df_test3.drop('ID', axis=1)\n",
        "# 더미화를 위한 칼럼\n",
        "test_col_for_dummies = list(df_test3.columns)\n",
        "test_col_for_dummies.remove('my_multiple')\n",
        "test_col_for_dummies.remove('my_multiple2')\n",
        "test_col_for_dummies.remove('my_multiple4')\n",
        "test_col_for_dummies.remove('my_multiple5')\n",
        "test_col_for_dummies.remove('my_multiple6')\n",
        "test_col_for_dummies.remove('my_multiple7')\n",
        "test_col_for_dummies.remove('my_multiple9')\n",
        "test_col_for_dummies.remove('my_multiple11')\n",
        "test_col_for_dummies.remove('my_clf2')\n",
        "test_col_for_dummies.remove('out_prncp')\n",
        "\n",
        "\n",
        "# df_test4 -> 원핫인코딩으로 바꿔준 DataFrame\n",
        "df_test4 = pd.get_dummies(df_test3, columns=test_col_for_dummies)"
      ],
      "metadata": {
        "id": "MFHu0R43Ll87"
      },
      "execution_count": 84,
      "outputs": []
    },
    {
      "cell_type": "code",
      "source": [
        "df_test2.shape"
      ],
      "metadata": {
        "colab": {
          "base_uri": "https://localhost:8080/"
        },
        "id": "C_pnks93M5dF",
        "outputId": "67619b9c-69a7-4178-85e3-110d2e150a76"
      },
      "execution_count": 223,
      "outputs": [
        {
          "output_type": "execute_result",
          "data": {
            "text/plain": [
              "(35816, 82)"
            ]
          },
          "metadata": {},
          "execution_count": 223
        }
      ]
    },
    {
      "cell_type": "code",
      "source": [
        "print(list(df_test4))"
      ],
      "metadata": {
        "colab": {
          "base_uri": "https://localhost:8080/"
        },
        "id": "IQrd_whFMEo7",
        "outputId": "e72c5955-13e0-4710-d56d-9c50f560ed4a"
      },
      "execution_count": 61,
      "outputs": [
        {
          "output_type": "stream",
          "name": "stdout",
          "text": [
            "['out_prncp', 'my_multiple', 'my_multiple2', 'my_multiple4', 'my_multiple5', 'my_multiple6', 'my_multiple7', 'my_multiple9', 'my_multiple11', 'my_clf2', 'int_rate_0', 'int_rate_1', 'int_rate_2', 'int_rate_3', 'int_rate_4', 'int_rate_5', 'int_rate_6', 'int_rate_7', 'int_rate_8', 'int_rate_9', 'int_rate_10', 'int_rate_11', 'int_rate_12', 'int_rate_13', 'int_rate_14', 'annual_inc_0', 'annual_inc_1', 'annual_inc_2', 'annual_inc_3', 'annual_inc_4', 'annual_inc_5', 'annual_inc_6', 'annual_inc_7', 'annual_inc_8', 'annual_inc_9', 'dti_0', 'dti_1', 'dti_2', 'dti_3', 'dti_4', 'dti_5', 'dti_6', 'dti_7', 'dti_8', 'dti_9', 'delinq_2yrs_0', 'delinq_2yrs_1', 'inq_last_6mths_0', 'inq_last_6mths_1', 'inq_last_6mths_2', 'inq_last_6mths_3', 'inq_last_6mths_4', 'inq_last_6mths_5', 'inq_last_6mths_6', 'pub_rec_0', 'pub_rec_1', 'revol_bal_0', 'revol_bal_1', 'revol_bal_2', 'revol_bal_3', 'revol_bal_4', 'revol_bal_5', 'revol_bal_6', 'revol_bal_7', 'revol_bal_8', 'revol_bal_9', 'total_acc_0', 'total_acc_1', 'total_acc_2', 'total_acc_3', 'total_acc_4', 'total_acc_5', 'total_acc_6', 'total_acc_7', 'total_acc_8', 'total_acc_9', 'collections_12_mths_ex_med_0', 'collections_12_mths_ex_med_1', 'tot_coll_amt_0.0', 'tot_coll_amt_8e-05', 'tot_coll_amt_1.0', 'tot_cur_bal_0', 'tot_cur_bal_1', 'tot_cur_bal_2', 'tot_cur_bal_3', 'tot_cur_bal_4', 'tot_cur_bal_5', 'tot_cur_bal_6', 'tot_cur_bal_7', 'tot_cur_bal_8', 'tot_cur_bal_9', 'chargeoff_within_12_mths_0', 'chargeoff_within_12_mths_1', 'chargeoff_within_12_mths_2', 'chargeoff_within_12_mths_3', 'tax_liens_0', 'tax_liens_1', 'tax_liens_2', 'emp_length1_0', 'emp_length1_1', 'emp_length2_0', 'emp_length2_1', 'emp_length3_0', 'emp_length3_1', 'emp_length4_0', 'emp_length4_1', 'emp_length5_0', 'emp_length5_1', 'emp_length6_0', 'emp_length6_1', 'emp_length7_0', 'emp_length7_1', 'emp_length8_0', 'emp_length8_1', 'emp_length9_0', 'emp_length9_1', 'emp_length10_0', 'emp_length10_1', 'emp_length11_0', 'emp_length11_1', 'emp_length12_0', 'emp_length12_1', 'home_ownership1_0', 'home_ownership1_1', 'home_ownership2_0', 'home_ownership2_1', 'home_ownership3_0', 'home_ownership3_1', 'home_ownership4_0', 'home_ownership4_1', 'home_ownership5_0', 'home_ownership5_1', 'home_ownership6_0', 'home_ownership6_1', 'verification_status1_0', 'verification_status1_1', 'verification_status2_0', 'verification_status2_1', 'verification_status3_0', 'verification_status3_1', 'purpose1_0', 'purpose1_1', 'purpose2_0', 'purpose2_1', 'purpose3_0', 'purpose3_1', 'purpose4_0', 'purpose5_0', 'purpose5_1', 'purpose6_0', 'purpose6_1', 'purpose7_0', 'purpose7_1', 'purpose8_0', 'purpose8_1', 'purpose9_0', 'purpose9_1', 'purpose10_0', 'purpose10_1', 'purpose11_0', 'purpose11_1', 'purpose12_0', 'purpose12_1', 'purpose13_0', 'purpose13_1', 'purpose14_0', 'purpose14_1', 'initial_list_status1_0', 'initial_list_status1_1', 'initial_list_status2_0', 'initial_list_status2_1', 'mths_since_last_delinq1_0', 'mths_since_last_delinq1_1', 'mths_since_last_delinq2_0', 'mths_since_last_delinq2_1', 'mths_since_last_delinq3_0', 'mths_since_last_delinq3_1', 'mths_since_last_delinq4_0', 'mths_since_last_delinq4_1', 'mths_since_last_delinq5_0', 'mths_since_last_delinq5_1', 'mths_since_last_delinq6_0', 'mths_since_last_delinq6_1', 'mths_since_last_delinq7_0', 'mths_since_last_delinq7_1', 'mths_since_last_delinq8_0', 'mths_since_last_delinq8_1', 'mths_since_last_delinq9_0', 'mths_since_last_delinq9_1', 'mths_since_last_delinq10_0', 'mths_since_last_delinq10_1', 'mths_since_last_delinq11_0', 'mths_since_last_delinq11_1', 'funded_amnt_0', 'funded_amnt_1', 'funded_amnt_2', 'funded_amnt_3', 'funded_amnt_4', 'funded_amnt_5', 'funded_amnt_6', 'funded_amnt_7', 'funded_amnt_8', 'funded_amnt_9', 'total_rec_late_fee_0.0', 'total_rec_late_fee_4.0', 'total_rec_late_fee_5.0', 'term1_0', 'term1_1', 'open_acc_0', 'open_acc_1', 'open_acc_2', 'open_acc_3', 'open_acc_4', 'open_acc_5', 'open_acc_6', 'open_acc_7', 'open_acc_8', 'open_acc_9', 'installment_0', 'installment_1', 'installment_2', 'installment_3', 'installment_4', 'installment_5', 'installment_6', 'installment_7', 'installment_8', 'installment_9', 'installment_10', 'installment_11', 'installment_12', 'installment_13', 'installment_14', 'revol_util_0', 'revol_util_1', 'revol_util_2', 'revol_util_3', 'revol_util_4', 'revol_util_5', 'revol_util_6', 'revol_util_7', 'revol_util_8', 'revol_util_9', 'total_rec_int_0', 'total_rec_int_1', 'total_rec_int_2', 'total_rec_int_3', 'total_rec_int_4', 'total_rec_int_5', 'fico_range_low_0', 'fico_range_low_1', 'fico_range_low_2', 'fico_range_low_3', 'fico_range_low_4', 'fico_range_low_5', 'fico_range_low_6', 'fico_range_low_7', 'fico_range_low_8', 'fico_range_low_9', 'fico_range_high_0', 'fico_range_high_1', 'fico_range_high_2', 'fico_range_high_3', 'fico_range_high_4', 'fico_range_high_5', 'fico_range_high_6', 'fico_range_high_7', 'fico_range_high_8', 'fico_range_high_9', 'acc_ratio_0.0', 'acc_ratio_1.0', 'acc_ratio_2.0', 'acc_ratio_3.0', 'acc_ratio_4.0', 'acc_ratio_5.0']\n"
          ]
        }
      ]
    },
    {
      "cell_type": "code",
      "source": [
        "X_test = df_test2.drop('ID', axis=1)\n",
        "X_test_sc = StandardScaler().fit_transform(X_test)\n",
        "test_data = TestData(torch.FloatTensor(X_test_sc))\n",
        "test_loader = DataLoader(dataset=test_data, batch_size=1)"
      ],
      "metadata": {
        "id": "k-MjmYArLl63"
      },
      "execution_count": 238,
      "outputs": []
    },
    {
      "cell_type": "code",
      "source": [
        "X_test_sc.shape"
      ],
      "metadata": {
        "colab": {
          "base_uri": "https://localhost:8080/"
        },
        "id": "w2QkK5ggqzGX",
        "outputId": "79e768d3-a1a9-4b99-a8a9-535548e7ae2d"
      },
      "execution_count": 239,
      "outputs": [
        {
          "output_type": "execute_result",
          "data": {
            "text/plain": [
              "(35816, 81)"
            ]
          },
          "metadata": {},
          "execution_count": 239
        }
      ]
    },
    {
      "cell_type": "code",
      "source": [
        "y_pred_array = np.array([])\n",
        "# y_pred_list = []\n",
        "model.eval()\n",
        "with torch.no_grad():\n",
        "    for X_batch in test_loader:\n",
        "        X_batch = X_batch.to(device)\n",
        "        y_test_pred = model(X_batch)\n",
        "        y_test_pred = torch.sigmoid(y_test_pred)\n",
        "        # y_pred_tag = torch.round(y_valid_pred)\n",
        "        # y_pred_array.append(y_valid_pred.cpu().numpy())\n",
        "        y_pred_array = np.append(y_pred_array, y_test_pred.cpu().numpy())"
      ],
      "metadata": {
        "id": "hyZ7NHDEJhWA"
      },
      "execution_count": 241,
      "outputs": []
    },
    {
      "cell_type": "code",
      "source": [
        "y_pred_array"
      ],
      "metadata": {
        "colab": {
          "base_uri": "https://localhost:8080/"
        },
        "id": "k_262DT0riK1",
        "outputId": "d759b146-15ef-46be-d772-c58035ad1b86"
      },
      "execution_count": 242,
      "outputs": [
        {
          "output_type": "execute_result",
          "data": {
            "text/plain": [
              "array([0.71960205, 0.57200307, 0.61626732, ..., 0.01878296, 0.15485843,\n",
              "       0.24399322])"
            ]
          },
          "metadata": {},
          "execution_count": 242
        }
      ]
    },
    {
      "cell_type": "code",
      "source": [
        "# 제출 양식 다운로드\n",
        "submit = pd.read_csv('/content/drive/MyDrive/competition_1st/sample_submission.csv')\n",
        "\n",
        "# prediction 수행\n",
        "\n",
        "submit['answer'] = y_pred_array>0.4\n",
        "change = {True:1, False:0}\n",
        "submit.answer = submit.answer.map(change)\n",
        "# 제출 파일 저장\n",
        "submit.to_csv('/content/drive/MyDrive/competition_1st/submission_22.csv', index=False)"
      ],
      "metadata": {
        "id": "-lG3H9lWuZFi"
      },
      "execution_count": 246,
      "outputs": []
    },
    {
      "cell_type": "code",
      "source": [
        "submit"
      ],
      "metadata": {
        "colab": {
          "base_uri": "https://localhost:8080/",
          "height": 672
        },
        "id": "eWTjxtLqr6RY",
        "outputId": "6fb283c4-35ff-46b5-e4df-d35cb53e8f6d"
      },
      "execution_count": 245,
      "outputs": [
        {
          "output_type": "execute_result",
          "data": {
            "text/html": [
              "\n",
              "  <div id=\"df-6efd8caf-242d-4191-b0ad-2d114d19129e\">\n",
              "    <div class=\"colab-df-container\">\n",
              "      <div>\n",
              "<style scoped>\n",
              "    .dataframe tbody tr th:only-of-type {\n",
              "        vertical-align: middle;\n",
              "    }\n",
              "\n",
              "    .dataframe tbody tr th {\n",
              "        vertical-align: top;\n",
              "    }\n",
              "\n",
              "    .dataframe thead th {\n",
              "        text-align: right;\n",
              "    }\n",
              "</style>\n",
              "<table border=\"1\" class=\"dataframe\">\n",
              "  <thead>\n",
              "    <tr style=\"text-align: right;\">\n",
              "      <th></th>\n",
              "      <th>ID</th>\n",
              "      <th>answer</th>\n",
              "    </tr>\n",
              "  </thead>\n",
              "  <tbody>\n",
              "    <tr>\n",
              "      <th>0</th>\n",
              "      <td>0</td>\n",
              "      <td>1</td>\n",
              "    </tr>\n",
              "    <tr>\n",
              "      <th>1</th>\n",
              "      <td>1</td>\n",
              "      <td>1</td>\n",
              "    </tr>\n",
              "    <tr>\n",
              "      <th>2</th>\n",
              "      <td>2</td>\n",
              "      <td>1</td>\n",
              "    </tr>\n",
              "    <tr>\n",
              "      <th>3</th>\n",
              "      <td>3</td>\n",
              "      <td>1</td>\n",
              "    </tr>\n",
              "    <tr>\n",
              "      <th>4</th>\n",
              "      <td>4</td>\n",
              "      <td>1</td>\n",
              "    </tr>\n",
              "    <tr>\n",
              "      <th>...</th>\n",
              "      <td>...</td>\n",
              "      <td>...</td>\n",
              "    </tr>\n",
              "    <tr>\n",
              "      <th>35811</th>\n",
              "      <td>35811</td>\n",
              "      <td>0</td>\n",
              "    </tr>\n",
              "    <tr>\n",
              "      <th>35812</th>\n",
              "      <td>35812</td>\n",
              "      <td>0</td>\n",
              "    </tr>\n",
              "    <tr>\n",
              "      <th>35813</th>\n",
              "      <td>35813</td>\n",
              "      <td>0</td>\n",
              "    </tr>\n",
              "    <tr>\n",
              "      <th>35814</th>\n",
              "      <td>35814</td>\n",
              "      <td>0</td>\n",
              "    </tr>\n",
              "    <tr>\n",
              "      <th>35815</th>\n",
              "      <td>35815</td>\n",
              "      <td>0</td>\n",
              "    </tr>\n",
              "  </tbody>\n",
              "</table>\n",
              "<p>35816 rows × 2 columns</p>\n",
              "</div>\n",
              "      <button class=\"colab-df-convert\" onclick=\"convertToInteractive('df-6efd8caf-242d-4191-b0ad-2d114d19129e')\"\n",
              "              title=\"Convert this dataframe to an interactive table.\"\n",
              "              style=\"display:none;\">\n",
              "        \n",
              "  <svg xmlns=\"http://www.w3.org/2000/svg\" height=\"24px\"viewBox=\"0 0 24 24\"\n",
              "       width=\"24px\">\n",
              "    <path d=\"M0 0h24v24H0V0z\" fill=\"none\"/>\n",
              "    <path d=\"M18.56 5.44l.94 2.06.94-2.06 2.06-.94-2.06-.94-.94-2.06-.94 2.06-2.06.94zm-11 1L8.5 8.5l.94-2.06 2.06-.94-2.06-.94L8.5 2.5l-.94 2.06-2.06.94zm10 10l.94 2.06.94-2.06 2.06-.94-2.06-.94-.94-2.06-.94 2.06-2.06.94z\"/><path d=\"M17.41 7.96l-1.37-1.37c-.4-.4-.92-.59-1.43-.59-.52 0-1.04.2-1.43.59L10.3 9.45l-7.72 7.72c-.78.78-.78 2.05 0 2.83L4 21.41c.39.39.9.59 1.41.59.51 0 1.02-.2 1.41-.59l7.78-7.78 2.81-2.81c.8-.78.8-2.07 0-2.86zM5.41 20L4 18.59l7.72-7.72 1.47 1.35L5.41 20z\"/>\n",
              "  </svg>\n",
              "      </button>\n",
              "      \n",
              "  <style>\n",
              "    .colab-df-container {\n",
              "      display:flex;\n",
              "      flex-wrap:wrap;\n",
              "      gap: 12px;\n",
              "    }\n",
              "\n",
              "    .colab-df-convert {\n",
              "      background-color: #E8F0FE;\n",
              "      border: none;\n",
              "      border-radius: 50%;\n",
              "      cursor: pointer;\n",
              "      display: none;\n",
              "      fill: #1967D2;\n",
              "      height: 32px;\n",
              "      padding: 0 0 0 0;\n",
              "      width: 32px;\n",
              "    }\n",
              "\n",
              "    .colab-df-convert:hover {\n",
              "      background-color: #E2EBFA;\n",
              "      box-shadow: 0px 1px 2px rgba(60, 64, 67, 0.3), 0px 1px 3px 1px rgba(60, 64, 67, 0.15);\n",
              "      fill: #174EA6;\n",
              "    }\n",
              "\n",
              "    [theme=dark] .colab-df-convert {\n",
              "      background-color: #3B4455;\n",
              "      fill: #D2E3FC;\n",
              "    }\n",
              "\n",
              "    [theme=dark] .colab-df-convert:hover {\n",
              "      background-color: #434B5C;\n",
              "      box-shadow: 0px 1px 3px 1px rgba(0, 0, 0, 0.15);\n",
              "      filter: drop-shadow(0px 1px 2px rgba(0, 0, 0, 0.3));\n",
              "      fill: #FFFFFF;\n",
              "    }\n",
              "  </style>\n",
              "\n",
              "      <script>\n",
              "        const buttonEl =\n",
              "          document.querySelector('#df-6efd8caf-242d-4191-b0ad-2d114d19129e button.colab-df-convert');\n",
              "        buttonEl.style.display =\n",
              "          google.colab.kernel.accessAllowed ? 'block' : 'none';\n",
              "\n",
              "        async function convertToInteractive(key) {\n",
              "          const element = document.querySelector('#df-6efd8caf-242d-4191-b0ad-2d114d19129e');\n",
              "          const dataTable =\n",
              "            await google.colab.kernel.invokeFunction('convertToInteractive',\n",
              "                                                     [key], {});\n",
              "          if (!dataTable) return;\n",
              "\n",
              "          const docLinkHtml = 'Like what you see? Visit the ' +\n",
              "            '<a target=\"_blank\" href=https://colab.research.google.com/notebooks/data_table.ipynb>data table notebook</a>'\n",
              "            + ' to learn more about interactive tables.';\n",
              "          element.innerHTML = '';\n",
              "          dataTable['output_type'] = 'display_data';\n",
              "          await google.colab.output.renderOutput(dataTable, element);\n",
              "          const docLink = document.createElement('div');\n",
              "          docLink.innerHTML = docLinkHtml;\n",
              "          element.appendChild(docLink);\n",
              "        }\n",
              "      </script>\n",
              "    </div>\n",
              "  </div>\n",
              "  "
            ],
            "text/plain": [
              "          ID  answer\n",
              "0          0       1\n",
              "1          1       1\n",
              "2          2       1\n",
              "3          3       1\n",
              "4          4       1\n",
              "...      ...     ...\n",
              "35811  35811       0\n",
              "35812  35812       0\n",
              "35813  35813       0\n",
              "35814  35814       0\n",
              "35815  35815       0\n",
              "\n",
              "[35816 rows x 2 columns]"
            ]
          },
          "metadata": {},
          "execution_count": 245
        },
        {
          "output_type": "stream",
          "name": "stdout",
          "text": [
            "Warning: total number of rows (35816) exceeds max_rows (20000). Limiting to first (20000) rows.\n"
          ]
        }
      ]
    },
    {
      "cell_type": "code",
      "source": [
        "submit.head()"
      ],
      "metadata": {
        "colab": {
          "base_uri": "https://localhost:8080/",
          "height": 206
        },
        "id": "2el8rBmtue6Y",
        "outputId": "0f351b76-8b43-4311-d904-7dcbfd795f4d"
      },
      "execution_count": null,
      "outputs": [
        {
          "output_type": "execute_result",
          "data": {
            "text/html": [
              "\n",
              "  <div id=\"df-22109edd-0ced-4711-a3b6-a73974e6e0be\">\n",
              "    <div class=\"colab-df-container\">\n",
              "      <div>\n",
              "<style scoped>\n",
              "    .dataframe tbody tr th:only-of-type {\n",
              "        vertical-align: middle;\n",
              "    }\n",
              "\n",
              "    .dataframe tbody tr th {\n",
              "        vertical-align: top;\n",
              "    }\n",
              "\n",
              "    .dataframe thead th {\n",
              "        text-align: right;\n",
              "    }\n",
              "</style>\n",
              "<table border=\"1\" class=\"dataframe\">\n",
              "  <thead>\n",
              "    <tr style=\"text-align: right;\">\n",
              "      <th></th>\n",
              "      <th>ID</th>\n",
              "      <th>answer</th>\n",
              "    </tr>\n",
              "  </thead>\n",
              "  <tbody>\n",
              "    <tr>\n",
              "      <th>0</th>\n",
              "      <td>0</td>\n",
              "      <td>1</td>\n",
              "    </tr>\n",
              "    <tr>\n",
              "      <th>1</th>\n",
              "      <td>1</td>\n",
              "      <td>1</td>\n",
              "    </tr>\n",
              "    <tr>\n",
              "      <th>2</th>\n",
              "      <td>2</td>\n",
              "      <td>1</td>\n",
              "    </tr>\n",
              "    <tr>\n",
              "      <th>3</th>\n",
              "      <td>3</td>\n",
              "      <td>1</td>\n",
              "    </tr>\n",
              "    <tr>\n",
              "      <th>4</th>\n",
              "      <td>4</td>\n",
              "      <td>1</td>\n",
              "    </tr>\n",
              "  </tbody>\n",
              "</table>\n",
              "</div>\n",
              "      <button class=\"colab-df-convert\" onclick=\"convertToInteractive('df-22109edd-0ced-4711-a3b6-a73974e6e0be')\"\n",
              "              title=\"Convert this dataframe to an interactive table.\"\n",
              "              style=\"display:none;\">\n",
              "        \n",
              "  <svg xmlns=\"http://www.w3.org/2000/svg\" height=\"24px\"viewBox=\"0 0 24 24\"\n",
              "       width=\"24px\">\n",
              "    <path d=\"M0 0h24v24H0V0z\" fill=\"none\"/>\n",
              "    <path d=\"M18.56 5.44l.94 2.06.94-2.06 2.06-.94-2.06-.94-.94-2.06-.94 2.06-2.06.94zm-11 1L8.5 8.5l.94-2.06 2.06-.94-2.06-.94L8.5 2.5l-.94 2.06-2.06.94zm10 10l.94 2.06.94-2.06 2.06-.94-2.06-.94-.94-2.06-.94 2.06-2.06.94z\"/><path d=\"M17.41 7.96l-1.37-1.37c-.4-.4-.92-.59-1.43-.59-.52 0-1.04.2-1.43.59L10.3 9.45l-7.72 7.72c-.78.78-.78 2.05 0 2.83L4 21.41c.39.39.9.59 1.41.59.51 0 1.02-.2 1.41-.59l7.78-7.78 2.81-2.81c.8-.78.8-2.07 0-2.86zM5.41 20L4 18.59l7.72-7.72 1.47 1.35L5.41 20z\"/>\n",
              "  </svg>\n",
              "      </button>\n",
              "      \n",
              "  <style>\n",
              "    .colab-df-container {\n",
              "      display:flex;\n",
              "      flex-wrap:wrap;\n",
              "      gap: 12px;\n",
              "    }\n",
              "\n",
              "    .colab-df-convert {\n",
              "      background-color: #E8F0FE;\n",
              "      border: none;\n",
              "      border-radius: 50%;\n",
              "      cursor: pointer;\n",
              "      display: none;\n",
              "      fill: #1967D2;\n",
              "      height: 32px;\n",
              "      padding: 0 0 0 0;\n",
              "      width: 32px;\n",
              "    }\n",
              "\n",
              "    .colab-df-convert:hover {\n",
              "      background-color: #E2EBFA;\n",
              "      box-shadow: 0px 1px 2px rgba(60, 64, 67, 0.3), 0px 1px 3px 1px rgba(60, 64, 67, 0.15);\n",
              "      fill: #174EA6;\n",
              "    }\n",
              "\n",
              "    [theme=dark] .colab-df-convert {\n",
              "      background-color: #3B4455;\n",
              "      fill: #D2E3FC;\n",
              "    }\n",
              "\n",
              "    [theme=dark] .colab-df-convert:hover {\n",
              "      background-color: #434B5C;\n",
              "      box-shadow: 0px 1px 3px 1px rgba(0, 0, 0, 0.15);\n",
              "      filter: drop-shadow(0px 1px 2px rgba(0, 0, 0, 0.3));\n",
              "      fill: #FFFFFF;\n",
              "    }\n",
              "  </style>\n",
              "\n",
              "      <script>\n",
              "        const buttonEl =\n",
              "          document.querySelector('#df-22109edd-0ced-4711-a3b6-a73974e6e0be button.colab-df-convert');\n",
              "        buttonEl.style.display =\n",
              "          google.colab.kernel.accessAllowed ? 'block' : 'none';\n",
              "\n",
              "        async function convertToInteractive(key) {\n",
              "          const element = document.querySelector('#df-22109edd-0ced-4711-a3b6-a73974e6e0be');\n",
              "          const dataTable =\n",
              "            await google.colab.kernel.invokeFunction('convertToInteractive',\n",
              "                                                     [key], {});\n",
              "          if (!dataTable) return;\n",
              "\n",
              "          const docLinkHtml = 'Like what you see? Visit the ' +\n",
              "            '<a target=\"_blank\" href=https://colab.research.google.com/notebooks/data_table.ipynb>data table notebook</a>'\n",
              "            + ' to learn more about interactive tables.';\n",
              "          element.innerHTML = '';\n",
              "          dataTable['output_type'] = 'display_data';\n",
              "          await google.colab.output.renderOutput(dataTable, element);\n",
              "          const docLink = document.createElement('div');\n",
              "          docLink.innerHTML = docLinkHtml;\n",
              "          element.appendChild(docLink);\n",
              "        }\n",
              "      </script>\n",
              "    </div>\n",
              "  </div>\n",
              "  "
            ],
            "text/plain": [
              "   ID  answer\n",
              "0   0       1\n",
              "1   1       1\n",
              "2   2       1\n",
              "3   3       1\n",
              "4   4       1"
            ]
          },
          "metadata": {},
          "execution_count": 60
        }
      ]
    }
  ],
  "metadata": {
    "colab": {
      "name": "my_test21-22.ipynb",
      "provenance": [],
      "collapsed_sections": [],
      "machine_shape": "hm"
    },
    "kernelspec": {
      "display_name": "Python 3 (ipykernel)",
      "language": "python",
      "name": "python3"
    },
    "language_info": {
      "codemirror_mode": {
        "name": "ipython",
        "version": 3
      },
      "file_extension": ".py",
      "mimetype": "text/x-python",
      "name": "python",
      "nbconvert_exporter": "python",
      "pygments_lexer": "ipython3",
      "version": "3.8.5"
    },
    "accelerator": "GPU"
  },
  "nbformat": 4,
  "nbformat_minor": 0
}