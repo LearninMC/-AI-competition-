{
  "cells": [
    {
      "cell_type": "code",
      "execution_count": 1,
      "metadata": {
        "colab": {
          "base_uri": "https://localhost:8080/"
        },
        "id": "89YysxjHlM-w",
        "outputId": "903dd442-72e9-4807-f4a5-7b20bac8c515"
      },
      "outputs": [
        {
          "output_type": "stream",
          "name": "stdout",
          "text": [
            "Mounted at /content/drive\n"
          ]
        }
      ],
      "source": [
        "# 라이브러리 임포트\n",
        "import pandas as pd\n",
        "import numpy as np\n",
        "\n",
        "import seaborn as sns\n",
        "import matplotlib\n",
        "import matplotlib.pyplot as plt\n",
        "%matplotlib inline\n",
        "\n",
        "import xgboost\n",
        "from xgboost import XGBClassifier\n",
        "from lightgbm import LGBMClassifier\n",
        "\n",
        "from sklearn.svm import SVC\n",
        "from sklearn.tree import DecisionTreeClassifier\n",
        "from sklearn.neighbors import KNeighborsClassifier\n",
        "from sklearn.ensemble import RandomForestClassifier, AdaBoostClassifier, ExtraTreesClassifier, BaggingClassifier, GradientBoostingClassifier, VotingClassifier, StackingClassifier\n",
        "from sklearn.linear_model import LogisticRegression, LinearRegression, Ridge, RidgeCV, RidgeClassifier\n",
        "from sklearn.model_selection import train_test_split, RepeatedStratifiedKFold, GridSearchCV\n",
        "import sklearn.metrics as metrics\n",
        "from sklearn.metrics import accuracy_score, precision_score, recall_score, f1_score, roc_auc_score, roc_curve, auc, confusion_matrix, classification_report\n",
        "from sklearn.preprocessing import StandardScaler\n",
        "\n",
        "from torch import Tensor\n",
        "import torch\n",
        "import torch.nn as nn\n",
        "from torch.utils.data import Dataset\n",
        "from torch.utils.data import DataLoader\n",
        "\n",
        "import warnings\n",
        "warnings.filterwarnings('ignore')\n",
        "\n",
        "from google.colab import drive\n",
        "drive.mount('/content/drive')\n",
        "DEVICE = torch.device('cuda' if torch.cuda.is_available() else 'cpu')"
      ]
    },
    {
      "cell_type": "markdown",
      "source": [
        "## Pre-processing Data"
      ],
      "metadata": {
        "id": "C3gyLZ8JlNOQ"
      }
    },
    {
      "cell_type": "code",
      "source": [
        "df = pd.read_csv('/content/drive/MyDrive/competition_1st/train.csv')\n",
        "\n",
        "# out_prncp와 완전 동일함, funded_amnt_inv는 funded_amnt와 유의미한 차이를 못발견함\n",
        "df=df.drop(['out_prncp_inv', 'funded_amnt_inv', 'acc_now_delinq'], axis=1)\n",
        "df['my_multiple'] = df['int_rate']*df['dti']\n",
        "df['my_multiple2'] = np.log(df['annual_inc']*df['fico_range_low'])\n",
        "df['my_multiple4'] = df['int_rate']*df['funded_amnt']\n",
        "df['my_multiple5'] = df['int_rate']*df['dti']/np.log(df['tot_cur_bal']*df['fico_range_low'])\n",
        "df['my_multiple6'] = df['revol_util']/(df['revol_bal']+0.0000001)\n",
        "df['my_multiple7'] = df['int_rate']*df['funded_amnt']/np.log(df['tot_cur_bal']*df['fico_range_low']+2)\n",
        "df['my_multiple9'] = np.log(df['int_rate']*df['funded_amnt'])*df['dti']\n",
        "df['my_multiple11'] = df['installment']/ df['annual_inc']\n",
        "# df.loc[df['collections_12_mths_ex_med'] <= 0.1, 'collections_12_mths_ex_med'] = 0   # 0번 추심 발생횟수\n",
        "# df.loc[df['collections_12_mths_ex_med']  > 0.1, 'collections_12_mths_ex_med'] = 1   # 1번 이상 추심 발생횟수\n",
        "# df['my_clf2'] = df.groupby([df.term1, df.emp_length12, df.home_ownership6, df.verification_status3, df.initial_list_status1, df.collections_12_mths_ex_med, df.initial_list_status2])['depvar'].transform('mean')"
      ],
      "metadata": {
        "id": "ySxuq9Y0xJzU"
      },
      "execution_count": 214,
      "outputs": []
    },
    {
      "cell_type": "code",
      "source": [
        "X = df.drop('depvar', axis=1)\n",
        "y = df['depvar']\n",
        "\n",
        "# data를 training set과 validation set으로 나누기\n",
        "X_train, X_valid, y_train, y_valid = train_test_split(X, y, test_size=0.2, random_state=42)"
      ],
      "metadata": {
        "id": "zIzbCw5zlv2q"
      },
      "execution_count": 215,
      "outputs": []
    },
    {
      "cell_type": "markdown",
      "source": [
        "## 정규화"
      ],
      "metadata": {
        "id": "mR9HEpxiUlFb"
      }
    },
    {
      "cell_type": "code",
      "source": [
        "# 정규화 // 오히려 정규화하고 점수 더 안좋아지는 경향\n",
        "\n",
        "X_train_sc = StandardScaler().fit_transform(X_train)\n",
        "X_valid_sc = StandardScaler().fit_transform(X_valid)"
      ],
      "metadata": {
        "id": "p848PEKjlvsq"
      },
      "execution_count": null,
      "outputs": []
    },
    {
      "cell_type": "markdown",
      "source": [
        "## 사용할 함수 정의"
      ],
      "metadata": {
        "id": "pbGLf1wWUnh5"
      }
    },
    {
      "cell_type": "code",
      "source": [
        "# Data 증축 전, 결과 값 비율\n",
        "print(\"Before OverSampling, counts of label '0': {}\".format(sum(y_train==0)))\n",
        "print(\"Before OverSampling, counts of label '1': {}\".format(sum(y_train==1)))"
      ],
      "metadata": {
        "colab": {
          "base_uri": "https://localhost:8080/"
        },
        "id": "BG1tBc6qK-iT",
        "outputId": "3c900133-3da6-4242-e731-4499b50920a2"
      },
      "execution_count": 76,
      "outputs": [
        {
          "output_type": "stream",
          "name": "stdout",
          "text": [
            "Before OverSampling, counts of label '0': 53882\n",
            "Before OverSampling, counts of label '1': 26118\n"
          ]
        }
      ]
    },
    {
      "cell_type": "code",
      "source": [
        "# 평가 함수 정의\n",
        "def get_clf_eval(y_actual, y_pred):\n",
        "    accuracy = accuracy_score(y_actual, y_pred)\n",
        "    precision = precision_score(y_actual, y_pred)\n",
        "    recall = recall_score(y_actual, y_pred)\n",
        "    AUC = roc_auc_score(y_actual, y_pred)\n",
        "    F1 = f1_score(y_actual, y_pred)\n",
        "    print('\\n정확도: {:.4f}'.format(accuracy))\n",
        "    print('정밀도: {:.4f}'.format(precision))\n",
        "    print('재현율: {:.4f}'.format(recall))\n",
        "    print('AUC: {:.4f}'.format(AUC))\n",
        "    print('F1: {:.4f}'.format(F1))\n",
        "    \n",
        "    sns.heatmap(confusion_matrix(y_actual, y_pred), annot=True, fmt='d', cmap='YlGnBu')"
      ],
      "metadata": {
        "id": "xv9cNFBZpe9T"
      },
      "execution_count": 216,
      "outputs": []
    },
    {
      "cell_type": "code",
      "source": [
        "lgbm_clf = LGBMClassifier(max_depth=10, n_estimators=200, random_state=42, learning_rate=0.1, objective ='binary')\n",
        "lgbm_clf.fit(X_train, y_train)"
      ],
      "metadata": {
        "colab": {
          "base_uri": "https://localhost:8080/"
        },
        "id": "IsbOTV8WuU1Y",
        "outputId": "e0d8a347-e09b-447c-cf10-67a1bd4aecbe"
      },
      "execution_count": 179,
      "outputs": [
        {
          "output_type": "execute_result",
          "data": {
            "text/plain": [
              "LGBMClassifier(max_depth=10, n_estimators=200, objective='binary',\n",
              "               random_state=42)"
            ]
          },
          "metadata": {},
          "execution_count": 179
        }
      ]
    },
    {
      "cell_type": "code",
      "source": [
        "get_clf_eval(y_valid, lgbm_clf.predict_proba(X_valid)[:,1]>0.3)"
      ],
      "metadata": {
        "colab": {
          "base_uri": "https://localhost:8080/",
          "height": 375
        },
        "id": "-NgbSBMpudnT",
        "outputId": "4bfbb313-af21-4fba-efd9-5d6238179c9c"
      },
      "execution_count": 181,
      "outputs": [
        {
          "output_type": "stream",
          "name": "stdout",
          "text": [
            "\n",
            "정확도: 0.7240\n",
            "정밀도: 0.5523\n",
            "재현율: 0.7622\n",
            "AUC: 0.7340\n",
            "F1: 0.6405\n"
          ]
        },
        {
          "output_type": "display_data",
          "data": {
            "image/png": "[encoded data removed]",
            "text/plain": [
              "<Figure size 432x288 with 2 Axes>"
            ]
          },
          "metadata": {
            "needs_background": "light"
          }
        }
      ]
    },
    {
      "cell_type": "code",
      "source": [
        "rnd_clf = RandomForestClassifier(max_depth=12, min_samples_leaf=8, min_samples_split=8, n_estimators=200, random_state=42)\n",
        "rnd_clf.fit(X_train, y_train)"
      ],
      "metadata": {
        "colab": {
          "base_uri": "https://localhost:8080/"
        },
        "id": "U2inCuScx1D_",
        "outputId": "c8f4db69-e1a9-43a8-ee50-9beb6cf5fc41"
      },
      "execution_count": 173,
      "outputs": [
        {
          "output_type": "execute_result",
          "data": {
            "text/plain": [
              "RandomForestClassifier(max_depth=12, min_samples_leaf=8, min_samples_split=8,\n",
              "                       n_estimators=200, random_state=42)"
            ]
          },
          "metadata": {},
          "execution_count": 173
        }
      ]
    },
    {
      "cell_type": "code",
      "source": [
        "get_clf_eval(y_valid, rnd_clf.predict_proba(X_valid)[:,1]>0.32)"
      ],
      "metadata": {
        "colab": {
          "base_uri": "https://localhost:8080/",
          "height": 375
        },
        "id": "5ZBcw2u3x-c4",
        "outputId": "cbafa9a6-7f07-4e4d-d6bd-5245b48c987d"
      },
      "execution_count": 183,
      "outputs": [
        {
          "output_type": "stream",
          "name": "stdout",
          "text": [
            "\n",
            "정확도: 0.6740\n",
            "정밀도: 0.4963\n",
            "재현율: 0.7149\n",
            "AUC: 0.6847\n",
            "F1: 0.5859\n"
          ]
        },
        {
          "output_type": "display_data",
          "data": {
            "image/png": "[encoded data removed]",
            "text/plain": [
              "<Figure size 432x288 with 2 Axes>"
            ]
          },
          "metadata": {
            "needs_background": "light"
          }
        }
      ]
    },
    {
      "cell_type": "code",
      "source": [
        "xgb_clf = XGBClassifier(max_depth=10, n_estimators=250, eval_metric='logloss', random_state=42)\n",
        "xgb_clf.fit(X_train, y_train)"
      ],
      "metadata": {
        "colab": {
          "base_uri": "https://localhost:8080/"
        },
        "id": "xOM2yHPByAE0",
        "outputId": "95e71855-ffc7-4a5a-ab88-e967167fdf91"
      },
      "execution_count": 186,
      "outputs": [
        {
          "output_type": "execute_result",
          "data": {
            "text/plain": [
              "XGBClassifier(eval_metric='logloss', max_depth=10, n_estimators=250,\n",
              "              random_state=42)"
            ]
          },
          "metadata": {},
          "execution_count": 186
        }
      ]
    },
    {
      "cell_type": "code",
      "source": [
        "get_clf_eval(y_valid, xgb_clf.predict_proba(X_valid)[:,1]>0.3)"
      ],
      "metadata": {
        "colab": {
          "base_uri": "https://localhost:8080/",
          "height": 375
        },
        "id": "-YU1l-zqyACf",
        "outputId": "03f77146-be6c-4e30-9f57-08c7b3126266"
      },
      "execution_count": 187,
      "outputs": [
        {
          "output_type": "stream",
          "name": "stdout",
          "text": [
            "\n",
            "정확도: 0.7232\n",
            "정밀도: 0.5520\n",
            "재현율: 0.7532\n",
            "AUC: 0.7311\n",
            "F1: 0.6371\n"
          ]
        },
        {
          "output_type": "display_data",
          "data": {
            "image/png": "[encoded data removed]",
            "text/plain": [
              "<Figure size 432x288 with 2 Axes>"
            ]
          },
          "metadata": {
            "needs_background": "light"
          }
        }
      ]
    },
    {
      "cell_type": "code",
      "source": [
        "ext_clf = ExtraTreesClassifier(n_estimators = 200, min_samples_leaf=3, min_samples_split=4, random_state=42)\n",
        "ext_clf.fit(X_train, y_train)"
      ],
      "metadata": {
        "colab": {
          "base_uri": "https://localhost:8080/"
        },
        "id": "fqRBRGHQ2JL2",
        "outputId": "2f6520bd-5450-4a8e-abc3-d0500f7ed7ba"
      },
      "execution_count": 209,
      "outputs": [
        {
          "output_type": "execute_result",
          "data": {
            "text/plain": [
              "ExtraTreesClassifier(min_samples_leaf=3, min_samples_split=4, n_estimators=200)"
            ]
          },
          "metadata": {},
          "execution_count": 209
        }
      ]
    },
    {
      "cell_type": "code",
      "source": [
        "get_clf_eval(y_valid, ext_clf.predict_proba(X_valid)[:,1]>0.32)"
      ],
      "metadata": {
        "colab": {
          "base_uri": "https://localhost:8080/",
          "height": 375
        },
        "id": "9_DHcDuQ2OTW",
        "outputId": "53e7b7ef-726d-4771-955c-188cfe6d6b75"
      },
      "execution_count": 211,
      "outputs": [
        {
          "output_type": "stream",
          "name": "stdout",
          "text": [
            "\n",
            "정확도: 0.6486\n",
            "정밀도: 0.4706\n",
            "재현율: 0.7169\n",
            "AUC: 0.6665\n",
            "F1: 0.5683\n"
          ]
        },
        {
          "output_type": "display_data",
          "data": {
            "image/png": "[encoded data removed]",
            "text/plain": [
              "<Figure size 432x288 with 2 Axes>"
            ]
          },
          "metadata": {
            "needs_background": "light"
          }
        }
      ]
    },
    {
      "cell_type": "markdown",
      "source": [
        "## 하이퍼 파라미터 최적화"
      ],
      "metadata": {
        "id": "YbIX8n5YT7jA"
      }
    },
    {
      "cell_type": "code",
      "source": [
        "# 최적화 한걸로 ensemble 진행\n",
        "rnd_clf = RandomForestClassifier(max_depth=12, min_samples_leaf=8, min_samples_split=8, n_estimators=150, random_state=42)\n",
        "lgbm_clf = LGBMClassifier(max_depth=10, n_estimators=200, random_state=42)\n",
        "xgb_clf = xgboost.XGBClassifier(max_depth=10, n_estimators=250, eval_metric='logloss', random_state=42) # 최적값 구한것\n",
        "ext_clf = ExtraTreesClassifier(n_estimators = 200, min_samples_leaf=3, min_samples_split=4, random_state=42)\n",
        "\n",
        "stacking_clf = StackingClassifier(estimators=[('rnd', rnd_clf), ('ext', ext_clf), ('lgbm', lgbm_clf), ('xgb', xgb_clf)], final_estimator = LGBMClassifier())\n",
        "stacking_clf.fit(X_train, y_train)"
      ],
      "metadata": {
        "colab": {
          "base_uri": "https://localhost:8080/"
        },
        "id": "q-wLD-vIXBHr",
        "outputId": "d0c6b130-db4d-4913-ca07-6c006d25840e"
      },
      "execution_count": 217,
      "outputs": [
        {
          "output_type": "execute_result",
          "data": {
            "text/plain": [
              "StackingClassifier(estimators=[('rnd',\n",
              "                                RandomForestClassifier(max_depth=12,\n",
              "                                                       min_samples_leaf=8,\n",
              "                                                       min_samples_split=8,\n",
              "                                                       n_estimators=150,\n",
              "                                                       random_state=42)),\n",
              "                               ('ext',\n",
              "                                ExtraTreesClassifier(min_samples_leaf=3,\n",
              "                                                     min_samples_split=4,\n",
              "                                                     n_estimators=200,\n",
              "                                                     random_state=42)),\n",
              "                               ('lgbm',\n",
              "                                LGBMClassifier(max_depth=10, n_estimators=200,\n",
              "                                               random_state=42)),\n",
              "                               ('xgb',\n",
              "                                XGBClassifier(eval_metric='logloss',\n",
              "                                              max_depth=10, n_estimators=250,\n",
              "                                              random_state=42))],\n",
              "                   final_estimator=LGBMClassifier())"
            ]
          },
          "metadata": {},
          "execution_count": 217
        }
      ]
    },
    {
      "cell_type": "code",
      "source": [
        "# get_clf_eval(y_valid, stacking_clf.predict_proba(X_valid)[:,1]>0.30)     # 0.6439 -> 0.6405\n",
        "# get_clf_eval(y_valid, stacking_clf.predict_proba(X_valid)[:,1]>0.35)  #0.6403 -> 0.6376\n",
        "get_clf_eval(y_valid, stacking_clf.predict_proba(X_valid)[:,1]>0.32)   #0.6401 ->n_esti증가 & max_depth증가-> 6372"
      ],
      "metadata": {
        "colab": {
          "base_uri": "https://localhost:8080/",
          "height": 375
        },
        "id": "wLXDYcsD0G_0",
        "outputId": "df05cadd-f454-4ace-8a58-4e95c5a355a4"
      },
      "execution_count": 221,
      "outputs": [
        {
          "output_type": "stream",
          "name": "stdout",
          "text": [
            "\n",
            "정확도: 0.7208\n",
            "정밀도: 0.5469\n",
            "재현율: 0.7850\n",
            "AUC: 0.7377\n",
            "F1: 0.6446\n"
          ]
        },
        {
          "output_type": "display_data",
          "data": {
            "image/png": "[encoded data removed]",
            "text/plain": [
              "<Figure size 432x288 with 2 Axes>"
            ]
          },
          "metadata": {
            "needs_background": "light"
          }
        }
      ]
    },
    {
      "cell_type": "code",
      "source": [
        "# 제출 양식 다운로드\n",
        "df_test = pd.read_csv('/content/drive/MyDrive/competition_1st/test.csv')\n",
        "submit = pd.read_csv('/content/drive/MyDrive/competition_1st/sample_submission.csv')\n",
        "df_test = df_test.drop(['out_prncp_inv', 'funded_amnt_inv', 'acc_now_delinq'], axis=1)\n",
        "\n",
        "# test파일에도 위에서 했던 전처리 진행\n",
        "df_test['my_multiple'] = df_test['int_rate']*df_test['dti']\n",
        "df_test['my_multiple2'] = np.log(df_test['annual_inc']*df_test['fico_range_low'])\n",
        "df_test['my_multiple4'] = df_test['int_rate']*df_test['funded_amnt']\n",
        "df_test['my_multiple5'] = df_test['int_rate']*df_test['dti']/np.log(df['tot_cur_bal']*df_test['fico_range_low'])\n",
        "df_test['my_multiple6'] = df_test['revol_util']/(df_test['revol_bal']+0.0000001)\n",
        "df_test['my_multiple7'] = df_test['int_rate']*df_test['funded_amnt']/np.log(df_test['tot_cur_bal']*df_test['fico_range_low']+2)\n",
        "df_test['my_multiple9'] = np.log(df_test['int_rate']*df_test['funded_amnt'])*df_test['dti']\n",
        "df_test['my_multiple11'] = df_test['installment']/ df_test['annual_inc']\n",
        "# df_test.loc[df['collections_12_mths_ex_med'] <= 0.1, 'collections_12_mths_ex_med'] = 0   # 0번 추심 발생횟수\n",
        "# df_test.loc[df['collections_12_mths_ex_med']  > 0.1, 'collections_12_mths_ex_med'] = 1   # 1번 이상 추심 발생횟수\n",
        "# df_test['my_clf2'] = df.groupby([df.term1, df.emp_length12, df.home_ownership6, df.verification_status3, df.initial_list_status1, df.collections_12_mths_ex_med, df.initial_list_status2])['depvar'].transform('mean')\n",
        "\n",
        "submit['answer'] = stacking_clf.predict_proba(df_test.drop(columns=['ID']))[:,1]>0.33\n",
        "change = {True:1, False:0}\n",
        "submit.answer = submit.answer.map(change)\n",
        "# 제출 파일 저장\n",
        "submit.to_csv('/content/drive/MyDrive/competition_1st/submission_19.csv', index=False)"
      ],
      "metadata": {
        "id": "n_F9QaP6c3pX"
      },
      "execution_count": 223,
      "outputs": []
    },
    {
      "cell_type": "code",
      "source": [
        ""
      ],
      "metadata": {
        "id": "04ogdSH4BB3W"
      },
      "execution_count": null,
      "outputs": []
    }
  ],
  "metadata": {
    "colab": {
      "name": "my_test18.ipynb",
      "provenance": [],
      "collapsed_sections": [
        "mR9HEpxiUlFb"
      ]
    },
    "kernelspec": {
      "display_name": "Python 3 (ipykernel)",
      "language": "python",
      "name": "python3"
    },
    "language_info": {
      "codemirror_mode": {
        "name": "ipython",
        "version": 3
      },
      "file_extension": ".py",
      "mimetype": "text/x-python",
      "name": "python",
      "nbconvert_exporter": "python",
      "pygments_lexer": "ipython3",
      "version": "3.8.5"
    },
    "accelerator": "GPU"
  },
  "nbformat": 4,
  "nbformat_minor": 0
}