{
  "cells": [
    {
      "cell_type": "code",
      "execution_count": 124,
      "metadata": {
        "colab": {
          "base_uri": "https://localhost:8080/"
        },
        "id": "89YysxjHlM-w",
        "outputId": "e1c7b642-bd99-4ac2-a49e-6e6bc0d24b75"
      },
      "outputs": [
        {
          "name": "stdout",
          "output_type": "stream",
          "text": [
            "Drive already mounted at /content/drive; to attempt to forcibly remount, call drive.mount(\"/content/drive\", force_remount=True).\n"
          ]
        }
      ],
      "source": [
        "# 라이브러리 임포트\n",
        "import pandas as pd\n",
        "import numpy as np\n",
        "\n",
        "import seaborn as sns\n",
        "import matplotlib\n",
        "import matplotlib.pyplot as plt\n",
        "%matplotlib inline\n",
        "\n",
        "import xgboost\n",
        "from xgboost import XGBClassifier\n",
        "from lightgbm import LGBMClassifier\n",
        "\n",
        "from sklearn.svm import SVC\n",
        "from sklearn.tree import DecisionTreeClassifier\n",
        "from sklearn.neighbors import KNeighborsClassifier\n",
        "from sklearn.ensemble import RandomForestClassifier, AdaBoostClassifier, ExtraTreesClassifier, BaggingClassifier, GradientBoostingClassifier, VotingClassifier, StackingClassifier\n",
        "from sklearn.linear_model import LogisticRegression, LinearRegression, Ridge, RidgeCV, RidgeClassifier\n",
        "from sklearn.model_selection import train_test_split, RepeatedStratifiedKFold, GridSearchCV\n",
        "import sklearn.metrics as metrics\n",
        "from sklearn.metrics import accuracy_score, precision_score, recall_score, f1_score, roc_auc_score, roc_curve, auc, confusion_matrix, classification_report\n",
        "from sklearn.preprocessing import StandardScaler\n",
        "\n",
        "from torch import Tensor\n",
        "import torch\n",
        "import torch.nn as nn\n",
        "from torch.utils.data import Dataset\n",
        "from torch.utils.data import DataLoader\n",
        "\n",
        "import warnings\n",
        "warnings.filterwarnings('ignore')\n",
        "\n",
        "from google.colab import drive\n",
        "drive.mount('/content/drive')\n",
        "DEVICE = torch.device('cuda' if torch.cuda.is_available() else 'cpu')"
      ]
    },
    {
      "cell_type": "code",
      "execution_count": 125,
      "metadata": {
        "id": "ukvSyQA02SNV"
      },
      "outputs": [],
      "source": [
        "df = pd.read_csv('/content/drive/MyDrive/competition_1st/train.csv')\n",
        "df_test = pd.read_csv('/content/drive/MyDrive/competition_1st/test.csv')\n",
        "\n",
        "# out_prncp와 완전 동일함, funded_amnt_inv는 funded_amnt와 유의미한 차이를 못발견함\n",
        "# df=df.drop(['out_prncp_inv'], axis=1)\n",
        "df = df.drop(['out_prncp_inv', 'funded_amnt_inv', 'acc_now_delinq'], axis=1)\n",
        "df_test = df_test.drop(['out_prncp_inv', 'funded_amnt_inv', 'acc_now_delinq'], axis=1)"
      ]
    },
    {
      "cell_type": "code",
      "execution_count": 126,
      "metadata": {
        "id": "hgIgFQNL2SLU"
      },
      "outputs": [],
      "source": [
        "df['my_multiple'] = df['int_rate']*df['dti']\n",
        "df['my_multiple2'] = np.log(df['annual_inc']*df['fico_range_low'])\n",
        "df['my_multiple6'] = df['revol_util']/(df['revol_bal']+0.0000001)\n",
        "df['my_multiple7'] = df['int_rate']*df['funded_amnt']/np.log(df['tot_cur_bal']*df['fico_range_low']+2)\n",
        "df['my_multiple11'] = df['installment']/ df['annual_inc']"
      ]
    },
    {
      "cell_type": "code",
      "execution_count": 127,
      "metadata": {
        "id": "wn0mpWVo2SI7"
      },
      "outputs": [],
      "source": [
        "X = df.drop('depvar', axis=1)\n",
        "y = df['depvar']\n",
        "\n",
        "# data를 training set과 validation set으로 나누기\n",
        "X_train, X_valid, y_train, y_valid = train_test_split(X, y, test_size=0.2, random_state=42)"
      ]
    },
    {
      "cell_type": "code",
      "execution_count": 128,
      "metadata": {
        "id": "jLMp8AHr2SHF"
      },
      "outputs": [],
      "source": [
        "def get_clf_eval(y_actual, y_pred):\n",
        "    accuracy = accuracy_score(y_actual, y_pred)\n",
        "    precision = precision_score(y_actual, y_pred)\n",
        "    recall = recall_score(y_actual, y_pred)\n",
        "    AUC = roc_auc_score(y_actual, y_pred)\n",
        "    F1 = f1_score(y_actual, y_pred)\n",
        "    print('\\n정확도: {:.4f}'.format(accuracy))\n",
        "    print('정밀도: {:.4f}'.format(precision))\n",
        "    print('재현율: {:.4f}'.format(recall))\n",
        "    print('AUC: {:.4f}'.format(AUC))\n",
        "    print('F1: {:.4f}'.format(F1))\n",
        "    \n",
        "    sns.heatmap(confusion_matrix(y_actual, y_pred), annot=True, fmt='d', cmap='YlGnBu')"
      ]
    },
    {
      "cell_type": "code",
      "execution_count": null,
      "metadata": {
        "colab": {
          "base_uri": "https://localhost:8080/"
        },
        "id": "BVfwo6FV2SES",
        "outputId": "40a79595-bc0f-47ea-9242-8519362c2292"
      },
      "outputs": [],
      "source": [
        "# # 최적화 한걸로 ensemble 진행 ######## test9번 ##########\n",
        "X = df.drop('depvar', axis=1)\n",
        "y = df['depvar']\n",
        "\n",
        "# data를 training set과 validation set으로 나누기\n",
        "X_train, X_valid, y_train, y_valid = train_test_split(X, y, test_size=0.2)\n",
        "rnd_clf = RandomForestClassifier(max_depth=12, min_samples_leaf=8, min_samples_split=8, n_estimators=150, random_state=42)\n",
        "lgbm_clf = LGBMClassifier(max_depth=11, n_estimators=150, random_state=42)\n",
        "xgb_clf = xgboost.XGBClassifier(max_depth=7, n_estimators=200, eval_metric='logloss', random_state=42) # 최적값 구한것\n",
        "\n",
        "stacking_clf = StackingClassifier(estimators=[('rnd', rnd_clf), ('lgbm', lgbm_clf), ('xgb', xgb_clf)], final_estimator = LGBMClassifier())\n",
        "stacking_clf.fit(X_train, y_train)"
      ]
    },
    {
      "cell_type": "code",
      "execution_count": 123,
      "metadata": {
        "colab": {
          "base_uri": "https://localhost:8080/",
          "height": 375
        },
        "id": "vDZUF-hy2SBq",
        "outputId": "7d1ecc3a-ac93-4916-b5f7-5ad8eed9a308"
      },
      "outputs": [
        {
          "name": "stdout",
          "output_type": "stream",
          "text": [
            "\n",
            "정확도: 0.7303\n",
            "정밀도: 0.5674\n",
            "재현율: 0.7439\n",
            "AUC: 0.7338\n",
            "F1: 0.6437\n"
          ]
        },
        {
          "data": {
            "image/png": "[encoded data removed]",
            "text/plain": [
              "<Figure size 432x288 with 2 Axes>"
            ]
          },
          "metadata": {
            "needs_background": "light"
          },
          "output_type": "display_data"
        }
      ],
      "source": [
        "# 평가진행\n",
        "get_clf_eval(y_valid, stacking_clf.predict_proba(X_valid)[:,1]>0.34) # 0.6500-> 0.6373하이퍼파라미터 튜닝안하면 낮긴하네-> 고학습 그래봐야 0.6400"
      ]
    },
    {
      "cell_type": "code",
      "execution_count": 108,
      "metadata": {
        "id": "cgHvMDjrEurS"
      },
      "outputs": [],
      "source": [
        "# 제출 양식 다운로드\n",
        "submit = pd.read_csv('/content/drive/MyDrive/competition_1st/sample_submission.csv')\n",
        "\n",
        "# 위에서 했던 전처리 수행\n",
        "df_test['my_multiple'] = df_test['int_rate']*df_test['dti']\n",
        "df_test['my_multiple2'] = np.log(df_test['annual_inc']*df_test['fico_range_low'])\n",
        "df_test['my_multiple6'] = df_test['revol_util']/(df_test['revol_bal']+0.0000001)\n",
        "df_test['my_multiple7'] = df_test['int_rate']*df_test['funded_amnt']/np.log(df_test['tot_cur_bal']*df_test['fico_range_low']+2)\n",
        "df_test['my_multiple11'] = df_test['installment']/ df_test['annual_inc']\n",
        "\n",
        "submit['answer'] = stacking_clf.predict_proba(df_test.drop(columns=['ID']))[:,1]>0.37\n",
        "change = {True:1, False:0}\n",
        "submit.answer = submit.answer.map(change)\n",
        "# 제출 파일 저장\n",
        "submit.to_csv('/content/drive/MyDrive/competition_1st/submission_15.csv', index=False)"
      ]
    }
  ],
  "metadata": {
    "accelerator": "GPU",
    "colab": {
      "collapsed_sections": [],
      "name": "my_test10.ipynb",
      "provenance": []
    },
    "kernelspec": {
      "display_name": "Python 3 (ipykernel)",
      "language": "python",
      "name": "python3"
    },
    "language_info": {
      "codemirror_mode": {
        "name": "ipython",
        "version": 3
      },
      "file_extension": ".py",
      "mimetype": "text/x-python",
      "name": "python",
      "nbconvert_exporter": "python",
      "pygments_lexer": "ipython3",
      "version": "3.8.5"
    }
  },
  "nbformat": 4,
  "nbformat_minor": 0
}
