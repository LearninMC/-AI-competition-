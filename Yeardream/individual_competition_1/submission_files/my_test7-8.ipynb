{
  "cells": [
    {
      "cell_type": "code",
      "execution_count": 1,
      "metadata": {
        "colab": {
          "base_uri": "https://localhost:8080/"
        },
        "id": "89YysxjHlM-w",
        "outputId": "56304159-30e9-42ef-befc-6444cb25db66"
      },
      "outputs": [
        {
          "output_type": "stream",
          "name": "stdout",
          "text": [
            "Mounted at /content/drive\n"
          ]
        }
      ],
      "source": [
        "# 라이브러리 임포트\n",
        "import pandas as pd\n",
        "import numpy as np\n",
        "\n",
        "import seaborn as sns\n",
        "import matplotlib\n",
        "import matplotlib.pyplot as plt\n",
        "%matplotlib inline\n",
        "\n",
        "import xgboost\n",
        "from xgboost import XGBClassifier\n",
        "from lightgbm import LGBMClassifier\n",
        "\n",
        "from sklearn.svm import SVC\n",
        "from sklearn.tree import DecisionTreeClassifier\n",
        "from sklearn.neighbors import KNeighborsClassifier\n",
        "from sklearn.ensemble import RandomForestClassifier, AdaBoostClassifier, ExtraTreesClassifier, BaggingClassifier, GradientBoostingClassifier, VotingClassifier, StackingClassifier\n",
        "from sklearn.linear_model import LogisticRegression, LinearRegression, Ridge, RidgeCV, RidgeClassifier\n",
        "from sklearn.model_selection import train_test_split, RepeatedStratifiedKFold, GridSearchCV\n",
        "import sklearn.metrics as metrics\n",
        "from sklearn.metrics import accuracy_score, precision_score, recall_score, f1_score, roc_auc_score, roc_curve, auc, confusion_matrix, classification_report\n",
        "from sklearn.preprocessing import StandardScaler\n",
        "\n",
        "from torch import Tensor\n",
        "import torch\n",
        "import torch.nn as nn\n",
        "from torch.utils.data import Dataset\n",
        "from torch.utils.data import DataLoader\n",
        "\n",
        "import warnings\n",
        "warnings.filterwarnings('ignore')\n",
        "\n",
        "from google.colab import drive\n",
        "drive.mount('/content/drive')\n",
        "DEVICE = torch.device('cuda' if torch.cuda.is_available() else 'cpu')"
      ]
    },
    {
      "cell_type": "markdown",
      "source": [
        ""
      ],
      "metadata": {
        "id": "xZ2wDHSNwl1D"
      }
    },
    {
      "cell_type": "markdown",
      "source": [
        "## Pre-processing Data"
      ],
      "metadata": {
        "id": "C3gyLZ8JlNOQ"
      }
    },
    {
      "cell_type": "code",
      "source": [
        "df = pd.read_csv('/content/drive/MyDrive/competition_1st/train.csv')"
      ],
      "metadata": {
        "id": "ySxuq9Y0xJzU"
      },
      "execution_count": 2,
      "outputs": []
    },
    {
      "cell_type": "code",
      "source": [
        "dcs_tree_clf = DecisionTreeClassifier(random_state=0)\n",
        "dcs_tree_clf.fit(df.drop(columns=['depvar']), df['depvar'])\n",
        "dcs_tree_clf.score(df.drop(columns=['depvar']), df['depvar'])\n",
        "\n",
        "feature_imp = dcs_tree_clf.feature_importances_\n",
        "\n",
        "for_del_idx = [i if (_<0.015) else None for i, _ in enumerate(feature_imp)]\n",
        "\n",
        "extract_del_idx = list()\n",
        "for i in for_del_idx:\n",
        "  if i is not None:\n",
        "    extract_del_idx.append(i)\n",
        "\n",
        "col_list = list(df.columns)\n",
        "\n",
        "extract_del_idx.reverse()\n",
        "\n",
        "proc_col = list()\n",
        "for i in extract_del_idx:\n",
        "  del col_list[i]\n",
        "  \n",
        "proc_col = col_list\n",
        "\n",
        "df2 = df[proc_col]"
      ],
      "metadata": {
        "id": "C0gNPQuKlRs4"
      },
      "execution_count": null,
      "outputs": []
    },
    {
      "cell_type": "code",
      "source": [
        "X = df2.drop('depvar', axis=1)\n",
        "y = df2['depvar']\n",
        "\n",
        "# data를 training set과 validation set으로 나누기\n",
        "X_train, X_valid, y_train, y_valid = train_test_split(X, y, test_size=0.2)"
      ],
      "metadata": {
        "id": "zIzbCw5zlv2q"
      },
      "execution_count": null,
      "outputs": []
    },
    {
      "cell_type": "code",
      "source": [
        "df2.nunique()"
      ],
      "metadata": {
        "id": "YWLqHEJsinxx",
        "colab": {
          "base_uri": "https://localhost:8080/"
        },
        "outputId": "d6049006-de26-47a0-f7ef-2e624019c7fc"
      },
      "execution_count": null,
      "outputs": [
        {
          "output_type": "execute_result",
          "data": {
            "text/plain": [
              "int_rate                256\n",
              "annual_inc             8905\n",
              "dti                    4148\n",
              "inq_last_6mths            7\n",
              "revol_bal             36002\n",
              "total_acc               107\n",
              "tot_cur_bal           80613\n",
              "funded_amnt            1355\n",
              "funded_amnt_inv        1391\n",
              "total_rec_late_fee     2752\n",
              "open_acc                 62\n",
              "installment           25708\n",
              "revol_util             1101\n",
              "total_rec_int         85095\n",
              "fico_range_low           38\n",
              "fico_range_high          38\n",
              "depvar                    2\n",
              "dtype: int64"
            ]
          },
          "metadata": {},
          "execution_count": 6
        }
      ]
    },
    {
      "cell_type": "code",
      "source": [
        "X_valid"
      ],
      "metadata": {
        "id": "F9kUdqlSEB0Z",
        "outputId": "b8f0823b-6944-436f-81c8-207398e55e1e",
        "colab": {
          "base_uri": "https://localhost:8080/",
          "height": 488
        }
      },
      "execution_count": null,
      "outputs": [
        {
          "output_type": "execute_result",
          "data": {
            "text/html": [
              "\n",
              "  <div id=\"df-c79aa582-f1ec-405b-a1d7-c88c65faec11\">\n",
              "    <div class=\"colab-df-container\">\n",
              "      <div>\n",
              "<style scoped>\n",
              "    .dataframe tbody tr th:only-of-type {\n",
              "        vertical-align: middle;\n",
              "    }\n",
              "\n",
              "    .dataframe tbody tr th {\n",
              "        vertical-align: top;\n",
              "    }\n",
              "\n",
              "    .dataframe thead th {\n",
              "        text-align: right;\n",
              "    }\n",
              "</style>\n",
              "<table border=\"1\" class=\"dataframe\">\n",
              "  <thead>\n",
              "    <tr style=\"text-align: right;\">\n",
              "      <th></th>\n",
              "      <th>int_rate</th>\n",
              "      <th>annual_inc</th>\n",
              "      <th>dti</th>\n",
              "      <th>inq_last_6mths</th>\n",
              "      <th>revol_bal</th>\n",
              "      <th>total_acc</th>\n",
              "      <th>tot_cur_bal</th>\n",
              "      <th>funded_amnt</th>\n",
              "      <th>funded_amnt_inv</th>\n",
              "      <th>total_rec_late_fee</th>\n",
              "      <th>open_acc</th>\n",
              "      <th>installment</th>\n",
              "      <th>revol_util</th>\n",
              "      <th>total_rec_int</th>\n",
              "      <th>fico_range_low</th>\n",
              "      <th>fico_range_high</th>\n",
              "    </tr>\n",
              "  </thead>\n",
              "  <tbody>\n",
              "    <tr>\n",
              "      <th>7750</th>\n",
              "      <td>0.1997</td>\n",
              "      <td>115000.0</td>\n",
              "      <td>23.70</td>\n",
              "      <td>1</td>\n",
              "      <td>39419</td>\n",
              "      <td>22</td>\n",
              "      <td>422474</td>\n",
              "      <td>35000</td>\n",
              "      <td>35000.0</td>\n",
              "      <td>0.00</td>\n",
              "      <td>14</td>\n",
              "      <td>926.71</td>\n",
              "      <td>0.864</td>\n",
              "      <td>16888.42</td>\n",
              "      <td>690</td>\n",
              "      <td>694</td>\n",
              "    </tr>\n",
              "    <tr>\n",
              "      <th>27044</th>\n",
              "      <td>0.1199</td>\n",
              "      <td>60000.0</td>\n",
              "      <td>7.18</td>\n",
              "      <td>0</td>\n",
              "      <td>11201</td>\n",
              "      <td>23</td>\n",
              "      <td>40279</td>\n",
              "      <td>10300</td>\n",
              "      <td>10250.0</td>\n",
              "      <td>34.20</td>\n",
              "      <td>8</td>\n",
              "      <td>342.06</td>\n",
              "      <td>0.862</td>\n",
              "      <td>1886.93</td>\n",
              "      <td>670</td>\n",
              "      <td>674</td>\n",
              "    </tr>\n",
              "    <tr>\n",
              "      <th>9143</th>\n",
              "      <td>0.1659</td>\n",
              "      <td>115000.0</td>\n",
              "      <td>22.58</td>\n",
              "      <td>0</td>\n",
              "      <td>15360</td>\n",
              "      <td>23</td>\n",
              "      <td>213426</td>\n",
              "      <td>28000</td>\n",
              "      <td>28000.0</td>\n",
              "      <td>0.00</td>\n",
              "      <td>8</td>\n",
              "      <td>689.72</td>\n",
              "      <td>0.784</td>\n",
              "      <td>7982.17</td>\n",
              "      <td>725</td>\n",
              "      <td>729</td>\n",
              "    </tr>\n",
              "    <tr>\n",
              "      <th>31111</th>\n",
              "      <td>0.1899</td>\n",
              "      <td>55000.0</td>\n",
              "      <td>16.84</td>\n",
              "      <td>0</td>\n",
              "      <td>4248</td>\n",
              "      <td>37</td>\n",
              "      <td>91155</td>\n",
              "      <td>10000</td>\n",
              "      <td>10000.0</td>\n",
              "      <td>36.66</td>\n",
              "      <td>19</td>\n",
              "      <td>366.51</td>\n",
              "      <td>0.802</td>\n",
              "      <td>3340.67</td>\n",
              "      <td>675</td>\n",
              "      <td>679</td>\n",
              "    </tr>\n",
              "    <tr>\n",
              "      <th>61217</th>\n",
              "      <td>0.1274</td>\n",
              "      <td>47000.0</td>\n",
              "      <td>24.95</td>\n",
              "      <td>0</td>\n",
              "      <td>3470</td>\n",
              "      <td>8</td>\n",
              "      <td>4264</td>\n",
              "      <td>6000</td>\n",
              "      <td>6000.0</td>\n",
              "      <td>0.00</td>\n",
              "      <td>4</td>\n",
              "      <td>201.42</td>\n",
              "      <td>0.770</td>\n",
              "      <td>1242.33</td>\n",
              "      <td>695</td>\n",
              "      <td>699</td>\n",
              "    </tr>\n",
              "    <tr>\n",
              "      <th>...</th>\n",
              "      <td>...</td>\n",
              "      <td>...</td>\n",
              "      <td>...</td>\n",
              "      <td>...</td>\n",
              "      <td>...</td>\n",
              "      <td>...</td>\n",
              "      <td>...</td>\n",
              "      <td>...</td>\n",
              "      <td>...</td>\n",
              "      <td>...</td>\n",
              "      <td>...</td>\n",
              "      <td>...</td>\n",
              "      <td>...</td>\n",
              "      <td>...</td>\n",
              "      <td>...</td>\n",
              "      <td>...</td>\n",
              "    </tr>\n",
              "    <tr>\n",
              "      <th>8024</th>\n",
              "      <td>0.1655</td>\n",
              "      <td>42000.0</td>\n",
              "      <td>39.74</td>\n",
              "      <td>3</td>\n",
              "      <td>9621</td>\n",
              "      <td>26</td>\n",
              "      <td>114190</td>\n",
              "      <td>2500</td>\n",
              "      <td>2500.0</td>\n",
              "      <td>0.00</td>\n",
              "      <td>15</td>\n",
              "      <td>88.58</td>\n",
              "      <td>0.454</td>\n",
              "      <td>675.70</td>\n",
              "      <td>660</td>\n",
              "      <td>664</td>\n",
              "    </tr>\n",
              "    <tr>\n",
              "      <th>4532</th>\n",
              "      <td>0.1349</td>\n",
              "      <td>53000.0</td>\n",
              "      <td>9.69</td>\n",
              "      <td>1</td>\n",
              "      <td>5743</td>\n",
              "      <td>31</td>\n",
              "      <td>75381</td>\n",
              "      <td>6500</td>\n",
              "      <td>6500.0</td>\n",
              "      <td>0.00</td>\n",
              "      <td>9</td>\n",
              "      <td>220.55</td>\n",
              "      <td>0.463</td>\n",
              "      <td>1436.87</td>\n",
              "      <td>670</td>\n",
              "      <td>674</td>\n",
              "    </tr>\n",
              "    <tr>\n",
              "      <th>43959</th>\n",
              "      <td>0.1629</td>\n",
              "      <td>45000.0</td>\n",
              "      <td>26.24</td>\n",
              "      <td>0</td>\n",
              "      <td>19590</td>\n",
              "      <td>18</td>\n",
              "      <td>33929</td>\n",
              "      <td>20125</td>\n",
              "      <td>20125.0</td>\n",
              "      <td>0.00</td>\n",
              "      <td>9</td>\n",
              "      <td>492.51</td>\n",
              "      <td>0.574</td>\n",
              "      <td>8008.41</td>\n",
              "      <td>700</td>\n",
              "      <td>704</td>\n",
              "    </tr>\n",
              "    <tr>\n",
              "      <th>11681</th>\n",
              "      <td>0.2170</td>\n",
              "      <td>60000.0</td>\n",
              "      <td>28.56</td>\n",
              "      <td>3</td>\n",
              "      <td>7849</td>\n",
              "      <td>23</td>\n",
              "      <td>76700</td>\n",
              "      <td>20000</td>\n",
              "      <td>20000.0</td>\n",
              "      <td>0.00</td>\n",
              "      <td>10</td>\n",
              "      <td>548.98</td>\n",
              "      <td>0.313</td>\n",
              "      <td>5343.40</td>\n",
              "      <td>705</td>\n",
              "      <td>709</td>\n",
              "    </tr>\n",
              "    <tr>\n",
              "      <th>59152</th>\n",
              "      <td>0.1499</td>\n",
              "      <td>54000.0</td>\n",
              "      <td>15.20</td>\n",
              "      <td>1</td>\n",
              "      <td>4839</td>\n",
              "      <td>30</td>\n",
              "      <td>111188</td>\n",
              "      <td>12000</td>\n",
              "      <td>12000.0</td>\n",
              "      <td>0.00</td>\n",
              "      <td>9</td>\n",
              "      <td>415.93</td>\n",
              "      <td>0.793</td>\n",
              "      <td>2963.27</td>\n",
              "      <td>680</td>\n",
              "      <td>684</td>\n",
              "    </tr>\n",
              "  </tbody>\n",
              "</table>\n",
              "<p>20000 rows × 16 columns</p>\n",
              "</div>\n",
              "      <button class=\"colab-df-convert\" onclick=\"convertToInteractive('df-c79aa582-f1ec-405b-a1d7-c88c65faec11')\"\n",
              "              title=\"Convert this dataframe to an interactive table.\"\n",
              "              style=\"display:none;\">\n",
              "        \n",
              "  <svg xmlns=\"http://www.w3.org/2000/svg\" height=\"24px\"viewBox=\"0 0 24 24\"\n",
              "       width=\"24px\">\n",
              "    <path d=\"M0 0h24v24H0V0z\" fill=\"none\"/>\n",
              "    <path d=\"M18.56 5.44l.94 2.06.94-2.06 2.06-.94-2.06-.94-.94-2.06-.94 2.06-2.06.94zm-11 1L8.5 8.5l.94-2.06 2.06-.94-2.06-.94L8.5 2.5l-.94 2.06-2.06.94zm10 10l.94 2.06.94-2.06 2.06-.94-2.06-.94-.94-2.06-.94 2.06-2.06.94z\"/><path d=\"M17.41 7.96l-1.37-1.37c-.4-.4-.92-.59-1.43-.59-.52 0-1.04.2-1.43.59L10.3 9.45l-7.72 7.72c-.78.78-.78 2.05 0 2.83L4 21.41c.39.39.9.59 1.41.59.51 0 1.02-.2 1.41-.59l7.78-7.78 2.81-2.81c.8-.78.8-2.07 0-2.86zM5.41 20L4 18.59l7.72-7.72 1.47 1.35L5.41 20z\"/>\n",
              "  </svg>\n",
              "      </button>\n",
              "      \n",
              "  <style>\n",
              "    .colab-df-container {\n",
              "      display:flex;\n",
              "      flex-wrap:wrap;\n",
              "      gap: 12px;\n",
              "    }\n",
              "\n",
              "    .colab-df-convert {\n",
              "      background-color: #E8F0FE;\n",
              "      border: none;\n",
              "      border-radius: 50%;\n",
              "      cursor: pointer;\n",
              "      display: none;\n",
              "      fill: #1967D2;\n",
              "      height: 32px;\n",
              "      padding: 0 0 0 0;\n",
              "      width: 32px;\n",
              "    }\n",
              "\n",
              "    .colab-df-convert:hover {\n",
              "      background-color: #E2EBFA;\n",
              "      box-shadow: 0px 1px 2px rgba(60, 64, 67, 0.3), 0px 1px 3px 1px rgba(60, 64, 67, 0.15);\n",
              "      fill: #174EA6;\n",
              "    }\n",
              "\n",
              "    [theme=dark] .colab-df-convert {\n",
              "      background-color: #3B4455;\n",
              "      fill: #D2E3FC;\n",
              "    }\n",
              "\n",
              "    [theme=dark] .colab-df-convert:hover {\n",
              "      background-color: #434B5C;\n",
              "      box-shadow: 0px 1px 3px 1px rgba(0, 0, 0, 0.15);\n",
              "      filter: drop-shadow(0px 1px 2px rgba(0, 0, 0, 0.3));\n",
              "      fill: #FFFFFF;\n",
              "    }\n",
              "  </style>\n",
              "\n",
              "      <script>\n",
              "        const buttonEl =\n",
              "          document.querySelector('#df-c79aa582-f1ec-405b-a1d7-c88c65faec11 button.colab-df-convert');\n",
              "        buttonEl.style.display =\n",
              "          google.colab.kernel.accessAllowed ? 'block' : 'none';\n",
              "\n",
              "        async function convertToInteractive(key) {\n",
              "          const element = document.querySelector('#df-c79aa582-f1ec-405b-a1d7-c88c65faec11');\n",
              "          const dataTable =\n",
              "            await google.colab.kernel.invokeFunction('convertToInteractive',\n",
              "                                                     [key], {});\n",
              "          if (!dataTable) return;\n",
              "\n",
              "          const docLinkHtml = 'Like what you see? Visit the ' +\n",
              "            '<a target=\"_blank\" href=https://colab.research.google.com/notebooks/data_table.ipynb>data table notebook</a>'\n",
              "            + ' to learn more about interactive tables.';\n",
              "          element.innerHTML = '';\n",
              "          dataTable['output_type'] = 'display_data';\n",
              "          await google.colab.output.renderOutput(dataTable, element);\n",
              "          const docLink = document.createElement('div');\n",
              "          docLink.innerHTML = docLinkHtml;\n",
              "          element.appendChild(docLink);\n",
              "        }\n",
              "      </script>\n",
              "    </div>\n",
              "  </div>\n",
              "  "
            ],
            "text/plain": [
              "       int_rate  annual_inc  ...  fico_range_low  fico_range_high\n",
              "7750     0.1997    115000.0  ...             690              694\n",
              "27044    0.1199     60000.0  ...             670              674\n",
              "9143     0.1659    115000.0  ...             725              729\n",
              "31111    0.1899     55000.0  ...             675              679\n",
              "61217    0.1274     47000.0  ...             695              699\n",
              "...         ...         ...  ...             ...              ...\n",
              "8024     0.1655     42000.0  ...             660              664\n",
              "4532     0.1349     53000.0  ...             670              674\n",
              "43959    0.1629     45000.0  ...             700              704\n",
              "11681    0.2170     60000.0  ...             705              709\n",
              "59152    0.1499     54000.0  ...             680              684\n",
              "\n",
              "[20000 rows x 16 columns]"
            ]
          },
          "metadata": {},
          "execution_count": 7
        }
      ]
    },
    {
      "cell_type": "code",
      "source": [
        "# 정규화 // 오히려 정규화하고 점수 더 안좋아지는 경향\n",
        "\n",
        "X_train_sc = StandardScaler().fit_transform(X_train)\n",
        "X_valid_sc = StandardScaler().fit_transform(X_valid)"
      ],
      "metadata": {
        "id": "p848PEKjlvsq"
      },
      "execution_count": null,
      "outputs": []
    },
    {
      "cell_type": "code",
      "source": [
        "X_train_sc[1]"
      ],
      "metadata": {
        "colab": {
          "base_uri": "https://localhost:8080/"
        },
        "id": "CPWVYzhzoPXj",
        "outputId": "be0b91e5-00b7-4229-f43a-0617a8b90d68"
      },
      "execution_count": null,
      "outputs": [
        {
          "output_type": "execute_result",
          "data": {
            "text/plain": [
              "array([ 0.77342546, -0.14359956, -1.86343222, -0.70224271, -0.60072206,\n",
              "       -0.81600913, -0.84822687, -0.78431116, -0.7838916 , -0.16409968,\n",
              "       -1.02798046, -0.68712803, -0.95763191, -0.20942225, -1.10215179,\n",
              "       -1.10213194])"
            ]
          },
          "metadata": {},
          "execution_count": 42
        }
      ]
    },
    {
      "cell_type": "code",
      "source": [
        "y_train.head()"
      ],
      "metadata": {
        "colab": {
          "base_uri": "https://localhost:8080/"
        },
        "id": "jw6A3bNpSqvv",
        "outputId": "e80551a2-92ae-40a5-fd1f-f13e31892953"
      },
      "execution_count": null,
      "outputs": [
        {
          "output_type": "execute_result",
          "data": {
            "text/plain": [
              "41107    0\n",
              "83021    0\n",
              "6558     0\n",
              "97211    1\n",
              "57297    0\n",
              "Name: depvar, dtype: int64"
            ]
          },
          "metadata": {},
          "execution_count": 39
        }
      ]
    },
    {
      "cell_type": "code",
      "source": [
        "# Data 증축 전, 결과 값 비율\n",
        "print(\"Before OverSampling, counts of label '0': {}\".format(sum(y_train==0)))\n",
        "print(\"Before OverSampling, counts of label '1': {}\".format(sum(y_train==1)))"
      ],
      "metadata": {
        "colab": {
          "base_uri": "https://localhost:8080/"
        },
        "id": "BG1tBc6qK-iT",
        "outputId": "cf59d0f4-5bc1-4763-f38e-f935dc8661bc"
      },
      "execution_count": null,
      "outputs": [
        {
          "output_type": "stream",
          "name": "stdout",
          "text": [
            "Before OverSampling, counts of label '0': 53987\n",
            "Before OverSampling, counts of label '1': 26013\n"
          ]
        }
      ]
    },
    {
      "cell_type": "code",
      "source": [
        "# 평가 함수 정의\n",
        "def get_clf_eval(y_actual, y_pred):\n",
        "    accuracy = accuracy_score(y_actual, y_pred)\n",
        "    precision = precision_score(y_actual, y_pred)\n",
        "    recall = recall_score(y_actual, y_pred)\n",
        "    AUC = roc_auc_score(y_actual, y_pred)\n",
        "    F1 = f1_score(y_actual, y_pred)\n",
        "    print('\\n정확도: {:.4f}'.format(accuracy))\n",
        "    print('정밀도: {:.4f}'.format(precision))\n",
        "    print('재현율: {:.4f}'.format(recall))\n",
        "    print('AUC: {:.4f}'.format(AUC))\n",
        "    print('F1: {:.4f}'.format(F1))\n",
        "    \n",
        "    sns.heatmap(confusion_matrix(y_actual, y_pred), annot=True, fmt='d', cmap='YlGnBu')"
      ],
      "metadata": {
        "id": "xv9cNFBZpe9T"
      },
      "execution_count": 4,
      "outputs": []
    },
    {
      "cell_type": "code",
      "source": [
        "# 16개 칼럼추출\n",
        "rnd_clf = RandomForestClassifier(random_state=42)\n",
        "lgbm_clf = LGBMClassifier(random_state=42)\n",
        "xgb_clf = xgboost.XGBClassifier(max_depth = 11, n_estimators = 100, eval_metric='mlogloss', random_state=42) # 최적값 구한것\n",
        "\n",
        "stacking_clf = StackingClassifier(estimators=[('rnd', rnd_clf), ('lgbm', lgbm_clf), ('xgb', xgb_clf)], final_estimator = LGBMClassifier())\n",
        "stacking_clf.fit(X_train, y_train)\n",
        "# y_pred_stack = stacking_clf.predict(X_valid)"
      ],
      "metadata": {
        "colab": {
          "base_uri": "https://localhost:8080/"
        },
        "id": "4f0co82jpqYI",
        "outputId": "e767b39b-38ad-4816-e7a5-fc56f9421dc5"
      },
      "execution_count": null,
      "outputs": [
        {
          "output_type": "execute_result",
          "data": {
            "text/plain": [
              "StackingClassifier(estimators=[('rnd', RandomForestClassifier(random_state=42)),\n",
              "                               ('lgbm', LGBMClassifier(random_state=42)),\n",
              "                               ('xgb',\n",
              "                                XGBClassifier(eval_metric='mlogloss',\n",
              "                                              max_depth=11, random_state=42))],\n",
              "                   final_estimator=LGBMClassifier())"
            ]
          },
          "metadata": {},
          "execution_count": 12
        }
      ]
    },
    {
      "cell_type": "code",
      "source": [
        "# get_clf_eval(y_valid, stacking_clf.predict_proba(X_valid)[:,1]>0.35)  # 0.6447 -> 0.6375\n",
        "# get_clf_eval(y_valid, stacking_clf.predict_proba(X_valid)[:,1]>0.4)   # 0.6343 -> 0.6266\n",
        "get_clf_eval(y_valid, stacking_clf.predict_proba(X_valid)[:,1]>0.3)   # 0.6404 ->0.6410"
      ],
      "metadata": {
        "colab": {
          "base_uri": "https://localhost:8080/"
        },
        "id": "dduxYQMisa24",
        "outputId": "3da973ae-730b-4994-e806-7cf0cadc4f8b"
      },
      "execution_count": null,
      "outputs": [
        {
          "output_type": "stream",
          "name": "stdout",
          "text": [
            "\n",
            "정확도: 0.7166\n",
            "정밀도: 0.5490\n",
            "재현율: 0.7698\n",
            "AUC: 0.7301\n",
            "F1: 0.6410\n"
          ]
        }
      ]
    },
    {
      "cell_type": "code",
      "source": [
        "# 16개 칼럼 추출 + 정규화\n",
        "rnd_clf = RandomForestClassifier(random_state=42)\n",
        "lgbm_clf = LGBMClassifier(random_state=42)\n",
        "xgb_clf = xgboost.XGBClassifier(max_depth = 11, n_estimators = 100, eval_metric='mlogloss', random_state=42) # 최적값 구한것\n",
        "\n",
        "stacking_clf = StackingClassifier(estimators=[('rnd', rnd_clf), ('lgbm', lgbm_clf), ('xgb', xgb_clf)], final_estimator = LGBMClassifier())\n",
        "stacking_clf.fit(X_train_sc, y_train)"
      ],
      "metadata": {
        "colab": {
          "base_uri": "https://localhost:8080/"
        },
        "id": "8iSJ816xY17D",
        "outputId": "15d68824-66be-493d-81f5-031ce4ee9a1e"
      },
      "execution_count": null,
      "outputs": [
        {
          "output_type": "execute_result",
          "data": {
            "text/plain": [
              "StackingClassifier(estimators=[('rnd', RandomForestClassifier(random_state=42)),\n",
              "                               ('lgbm', LGBMClassifier(random_state=42)),\n",
              "                               ('xgb',\n",
              "                                XGBClassifier(eval_metric='mlogloss',\n",
              "                                              max_depth=11, random_state=42))],\n",
              "                   final_estimator=LGBMClassifier())"
            ]
          },
          "metadata": {},
          "execution_count": 49
        }
      ]
    },
    {
      "cell_type": "code",
      "source": [
        "get_clf_eval(y_valid, stacking_clf.predict_proba(X_valid_sc)[:,1]>0.3)  # 0.6346"
      ],
      "metadata": {
        "colab": {
          "base_uri": "https://localhost:8080/"
        },
        "id": "fSm29KyzY9yf",
        "outputId": "3b068c87-5ddf-4e51-b2a6-b49f66922582"
      },
      "execution_count": null,
      "outputs": [
        {
          "output_type": "stream",
          "name": "stdout",
          "text": [
            "\n",
            "정확도: 0.7103\n",
            "정밀도: 0.5420\n",
            "재현율: 0.7654\n",
            "AUC: 0.7244\n",
            "F1: 0.6346\n"
          ]
        }
      ]
    },
    {
      "cell_type": "markdown",
      "source": [
        "## Data 편향 제거 처리"
      ],
      "metadata": {
        "id": "-zYnyFPlqfqh"
      }
    },
    {
      "cell_type": "code",
      "source": [
        "from imblearn.over_sampling import SMOTE\n",
        "\n",
        "sm = SMOTE(random_state=27) \n",
        "X_train_smt, y_train_smt = sm.fit_resample(X_train, y_train)"
      ],
      "metadata": {
        "id": "s2qT94aexGX5"
      },
      "execution_count": null,
      "outputs": []
    },
    {
      "cell_type": "code",
      "source": [
        "print(\"After OverSampling, counts of label '0': {}\".format(sum(y_train_smt==0)))\n",
        "print(\"After OverSampling, counts of label '1': {}\".format(sum(y_train_smt==1)))"
      ],
      "metadata": {
        "colab": {
          "base_uri": "https://localhost:8080/"
        },
        "id": "EDW5-9SyzXum",
        "outputId": "8980633b-41bd-4f06-a776-ccb93731efbb"
      },
      "execution_count": null,
      "outputs": [
        {
          "output_type": "stream",
          "name": "stdout",
          "text": [
            "After OverSampling, counts of label '0': 54004\n",
            "After OverSampling, counts of label '1': 54004\n"
          ]
        }
      ]
    },
    {
      "cell_type": "code",
      "source": [
        "rnd_clf = RandomForestClassifier()\n",
        "lgbm_clf = LGBMClassifier()\n",
        "xgb_clf = xgboost.XGBClassifier(max_depth = 11, n_estimators = 100, eval_metric='mlogloss') # 최적값 구한것\n",
        "\n",
        "stacking_clf_smt = StackingClassifier(estimators=[('rnd', rnd_clf), ('lgbm', lgbm_clf), ('xgb', xgb_clf)], final_estimator = LGBMClassifier())\n",
        "stacking_clf_smt.fit(X_train_smt, y_train_smt)"
      ],
      "metadata": {
        "colab": {
          "base_uri": "https://localhost:8080/"
        },
        "id": "PtCNlpKpzdPm",
        "outputId": "40f64d20-b98f-47eb-c9ba-f76f8b26718c"
      },
      "execution_count": null,
      "outputs": [
        {
          "output_type": "execute_result",
          "data": {
            "text/plain": [
              "StackingClassifier(estimators=[('rnd', RandomForestClassifier()),\n",
              "                               ('lgbm', LGBMClassifier()),\n",
              "                               ('xgb',\n",
              "                                XGBClassifier(eval_metric='mlogloss',\n",
              "                                              max_depth=11))],\n",
              "                   final_estimator=LGBMClassifier())"
            ]
          },
          "metadata": {},
          "execution_count": 30
        }
      ]
    },
    {
      "cell_type": "code",
      "source": [
        "# SMOTE - 오히려 더 감소하는 경향\n",
        "# get_clf_eval(y_valid, stacking_clf_smt.predict_proba(X_valid)[:,1]>0.4) #0.6166\n",
        "# get_clf_eval(y_valid, stacking_clf_smt.predict_proba(X_valid)[:,1]>0.35)  #0.6288\n",
        "get_clf_eval(y_valid, stacking_clf_smt.predict_proba(X_valid)[:,1]>0.3)  #0.6299"
      ],
      "metadata": {
        "colab": {
          "base_uri": "https://localhost:8080/"
        },
        "id": "Og0_GT0yz0GF",
        "outputId": "d7f10144-3aed-42db-cf89-91617d8d4fdf"
      },
      "execution_count": null,
      "outputs": [
        {
          "output_type": "stream",
          "name": "stdout",
          "text": [
            "\n",
            "정확도: 0.7006\n",
            "정밀도: 0.5304\n",
            "재현율: 0.7753\n",
            "AUC: 0.7197\n",
            "F1: 0.6299\n"
          ]
        }
      ]
    },
    {
      "cell_type": "markdown",
      "source": [
        "## 하이퍼 파라미터 최적화"
      ],
      "metadata": {
        "id": "YbIX8n5YT7jA"
      }
    },
    {
      "cell_type": "code",
      "source": [
        "# rnd_clf = RandomForestClassifier()\n",
        "# xgb_clf = XGBClassifier()\n",
        "# lgbm_clf = LGBMClassifier()\n",
        "# rid_clf = RidgeClassifier()\n",
        "# dtc_clf = DecisionTreeClassifier()\n",
        "# svm_clf = SVC()\n",
        "# ada_clf = AdaBoostClassifier()\n",
        "# gbc_clf = GradientBoostingClassifier()\n",
        "# bag_clf = BaggingClassifier()\n",
        "# ext_clf = ExtraTreesClassifier()\n",
        "# knn_clf = KNeighborsClassifier()\n",
        "# svc_clf = SVC()"
      ],
      "metadata": {
        "id": "3-6m3YsVZwfU"
      },
      "execution_count": null,
      "outputs": []
    },
    {
      "cell_type": "code",
      "source": [
        "# 1. Random Forest  (1차 12, 8, 8, 150)\n",
        "rnd_clf = RandomForestClassifier(random_state=42)\n",
        "\n",
        "param_grid = { 'n_estimators' : [50, 100, 150],\n",
        "           'max_depth' : [6, 8, 10, 12],\n",
        "           'min_samples_leaf' : [8, 12, 18],\n",
        "           'min_samples_split' : [8, 16, 20]\n",
        "            }\n",
        "\n",
        "cv=RepeatedStratifiedKFold(n_splits=5, n_repeats=2)\n",
        "\n",
        "grid_search = GridSearchCV(estimator=rnd_clf,\n",
        "                           param_grid=param_grid, \n",
        "                           n_jobs=-1,\n",
        "                           cv=cv) \n",
        "\n",
        "results_rnd=grid_search.fit(X_train, y_train)\n",
        "\n",
        "results_rnd.best_params_"
      ],
      "metadata": {
        "colab": {
          "base_uri": "https://localhost:8080/"
        },
        "id": "Uvm4u4M3XBdw",
        "outputId": "906ed05d-608f-4464-f881-fdc90535d891"
      },
      "execution_count": null,
      "outputs": [
        {
          "output_type": "execute_result",
          "data": {
            "text/plain": [
              "{'max_depth': 12,\n",
              " 'min_samples_leaf': 8,\n",
              " 'min_samples_split': 8,\n",
              " 'n_estimators': 150}"
            ]
          },
          "metadata": {},
          "execution_count": 59
        }
      ]
    },
    {
      "cell_type": "code",
      "source": [
        "# 2. XGBoost\n",
        "xgb_clf = XGBClassifier(tree_method='gpu_hist', predictor='gpu_predictor')\n",
        "# GPU사용시ㅡ tree_method='gpu_hist' \n",
        "# Do not use this for test/validation tasks as some information may be lost in quantisation. \n",
        "# This DMatrix is primarily designed to save memory in training from device memory inputs by avoiding intermediate storage. \n",
        "\n",
        "param_grid = {'max_depth':[7],\n",
        "              'n_estimators':[200],\n",
        "              }\n",
        "\n",
        "cv=RepeatedStratifiedKFold(n_splits=5, n_repeats=2)\n",
        "\n",
        "grid_search = GridSearchCV(estimator=xgb_clf,\n",
        "                           param_grid=param_grid, \n",
        "                           n_jobs=-1,\n",
        "                           cv=cv,\n",
        "                           scoring='accuracy', \n",
        "                           error_score=0) \n",
        "\n",
        "results_xgb=grid_search.fit(X_train, y_train)\n",
        "\n",
        "results_xgb.best_params_"
      ],
      "metadata": {
        "colab": {
          "base_uri": "https://localhost:8080/"
        },
        "id": "d6eBEhcnXBX6",
        "outputId": "6aa34588-6106-44b5-ecb7-4274a19210ea"
      },
      "execution_count": null,
      "outputs": [
        {
          "output_type": "execute_result",
          "data": {
            "text/plain": [
              "{'max_depth': 7, 'n_estimators': 200}"
            ]
          },
          "metadata": {},
          "execution_count": 61
        }
      ]
    },
    {
      "cell_type": "code",
      "source": [
        "# 3. Light GBM\n",
        "lgbm_clf = LGBMClassifier()\n",
        "\n",
        "param_grid = {'max_depth':[11],\n",
        "              'n_estimators':[150]\n",
        "              }\n",
        "\n",
        "cv=RepeatedStratifiedKFold(n_splits=5, n_repeats=2)\n",
        "\n",
        "grid_search = GridSearchCV(estimator=lgbm_clf,\n",
        "                           param_grid=param_grid, \n",
        "                           n_jobs=-1,\n",
        "                           cv=cv,\n",
        "                           scoring='accuracy', \n",
        "                           error_score=0) \n",
        "\n",
        "results=grid_search.fit(X_train, y_train)\n",
        "\n",
        "results.best_params_"
      ],
      "metadata": {
        "colab": {
          "base_uri": "https://localhost:8080/"
        },
        "id": "CsD7RvCtXBRi",
        "outputId": "dc05c4f9-9c1c-433e-846d-46b5ff0f2712"
      },
      "execution_count": null,
      "outputs": [
        {
          "output_type": "execute_result",
          "data": {
            "text/plain": [
              "{'max_depth': 11, 'n_estimators': 150}"
            ]
          },
          "metadata": {},
          "execution_count": 62
        }
      ]
    },
    {
      "cell_type": "code",
      "source": [
        "# 4. ExtraTree \n",
        "ext_clf = ExtraTreesClassifier()\n",
        "\n",
        "param_grid = {'max_depth':[11],\n",
        "              'n_estimators':[150]\n",
        "              }\n",
        "\n",
        "cv=RepeatedStratifiedKFold(n_splits=5, n_repeats=2)\n",
        "\n",
        "grid_search = GridSearchCV(estimator=lgbm_clf,\n",
        "                           param_grid=param_grid, \n",
        "                           n_jobs=-1,\n",
        "                           cv=cv,\n",
        "                           scoring='accuracy', \n",
        "                           error_score=0) \n",
        "\n",
        "results=grid_search.fit(X_train, y_train)\n",
        "\n",
        "results.best_params_"
      ],
      "metadata": {
        "id": "JN8R0zmZDhMY"
      },
      "execution_count": null,
      "outputs": []
    },
    {
      "cell_type": "code",
      "source": [
        "def cut_outlier(df2, columns):\n",
        "    df=df2.copy()\n",
        "    for column in columns:\n",
        "        q1=df[column].quantile(.25)\n",
        "        q3=df[column].quantile(.75)\n",
        "        iqr=q3-q1\n",
        "        low=q1-1.5*iqr\n",
        "        high=q3+1.5*iqr\n",
        "        df.loc[df[column]<low, column]=low\n",
        "        df.loc[df[column]>high, column]=high\n",
        "    return df"
      ],
      "metadata": {
        "id": "EDbfetRqHkDG"
      },
      "execution_count": null,
      "outputs": []
    },
    {
      "cell_type": "code",
      "source": [
        "# 최적화 한걸로 ensemble 진행\n",
        "X = df.drop('depvar', axis=1)\n",
        "y = df['depvar']\n",
        "df = cut_outlier(df, list(df.columns))\n",
        "df\n",
        "# data를 training set과 validation set으로 나누기\n",
        "X_train, X_valid, y_train, y_valid = train_test_split(X, y, test_size=0.2)\n",
        "rnd_clf = RandomForestClassifier(max_depth=12, min_samples_leaf=8, min_samples_split=8, n_estimators=150, class_weight={0:1, 1:2}, random_state=42)\n",
        "lgbm_clf = LGBMClassifier(max_depth=11, n_estimators=150, scale_pos_weight=2, random_state=42)\n",
        "xgb_clf = xgboost.XGBClassifier(max_depth=7, n_estimators=200, eval_metric='logloss', scale_pos_weight=2, random_state=42) # 최적값 구한것\n",
        "\n",
        "stacking_clf = StackingClassifier(estimators=[('rnd', rnd_clf), ('lgbm', lgbm_clf), ('xgb', xgb_clf)], final_estimator = LGBMClassifier())\n",
        "stacking_clf.fit(X_train, y_train)"
      ],
      "metadata": {
        "colab": {
          "base_uri": "https://localhost:8080/"
        },
        "id": "q-wLD-vIXBHr",
        "outputId": "f6ebe686-840c-405d-f1ad-b0712fe54fc0"
      },
      "execution_count": null,
      "outputs": [
        {
          "output_type": "execute_result",
          "data": {
            "text/plain": [
              "StackingClassifier(estimators=[('rnd',\n",
              "                                RandomForestClassifier(class_weight={0: 1,\n",
              "                                                                     1: 2},\n",
              "                                                       max_depth=12,\n",
              "                                                       min_samples_leaf=8,\n",
              "                                                       min_samples_split=8,\n",
              "                                                       n_estimators=150,\n",
              "                                                       random_state=42)),\n",
              "                               ('lgbm',\n",
              "                                LGBMClassifier(max_depth=11, n_estimators=150,\n",
              "                                               random_state=42,\n",
              "                                               scale_pos_weight=2)),\n",
              "                               ('xgb',\n",
              "                                XGBClassifier(eval_metric='logloss',\n",
              "                                              max_depth=7, n_estimators=200,\n",
              "                                              random_state=42,\n",
              "                                              scale_pos_weight=2))],\n",
              "                   final_estimator=LGBMClassifier())"
            ]
          },
          "metadata": {},
          "execution_count": 13
        }
      ]
    },
    {
      "cell_type": "code",
      "source": [
        "get_clf_eval(y_valid, stacking_clf.predict_proba(X_valid)[:,1]>0.30)     # 0.6439\n",
        "# get_clf_eval(y_valid, stacking_clf.predict_proba(X_valid)[:,1]>0.35)  #0.6403\n",
        "# get_clf_eval(y_valid, stacking_clf.predict_proba(X_valid)[:,1]>0.4)   #0.6319"
      ],
      "metadata": {
        "colab": {
          "base_uri": "https://localhost:8080/"
        },
        "id": "wLXDYcsD0G_0",
        "outputId": "e25a17be-5f52-4898-fe46-f17e9a59f204"
      },
      "execution_count": null,
      "outputs": [
        {
          "output_type": "stream",
          "name": "stdout",
          "text": [
            "\n",
            "정확도: 0.7138\n",
            "정밀도: 0.5442\n",
            "재현율: 0.7892\n",
            "AUC: 0.7331\n",
            "F1: 0.6442\n"
          ]
        }
      ]
    },
    {
      "cell_type": "code",
      "source": [
        "# 원본 valid 까지 training \n",
        "\n",
        "df = pd.read_csv('/content/drive/MyDrive/competition_1st/train.csv')\n",
        "X = df.drop('depvar', axis=1)\n",
        "y = df['depvar']\n",
        "\n",
        "# data를 training set과 validation set으로 나누기\n",
        "X_train, X_valid, y_train, y_valid = train_test_split(X, y, test_size=0.001)\n",
        "\n",
        "rnd_clf = RandomForestClassifier(max_depth=12, min_samples_leaf=8, min_samples_split=8, n_estimators=150, class_weight={0:1, 1:2}, random_state=42)\n",
        "lgbm_clf = LGBMClassifier(max_depth=11, n_estimators=150, scale_pos_weight=2, random_state=42)\n",
        "xgb_clf = xgboost.XGBClassifier(max_depth=7, n_estimators=200, eval_metric='logloss', scale_pos_weight=2, random_state=42) # 최적값 구한것\n",
        "\n",
        "stacking_clf = StackingClassifier(estimators=[('rnd', rnd_clf), ('lgbm', lgbm_clf), ('xgb', xgb_clf)], final_estimator = LGBMClassifier())\n",
        "stacking_clf.fit(X_train, y_train)"
      ],
      "metadata": {
        "colab": {
          "base_uri": "https://localhost:8080/"
        },
        "id": "KmRyx69c1XyQ",
        "outputId": "2dd36641-8e1c-4e83-f770-d1edecc881a5"
      },
      "execution_count": 3,
      "outputs": [
        {
          "output_type": "execute_result",
          "data": {
            "text/plain": [
              "StackingClassifier(estimators=[('rnd',\n",
              "                                RandomForestClassifier(class_weight={0: 1,\n",
              "                                                                     1: 2},\n",
              "                                                       max_depth=12,\n",
              "                                                       min_samples_leaf=8,\n",
              "                                                       min_samples_split=8,\n",
              "                                                       n_estimators=150,\n",
              "                                                       random_state=42)),\n",
              "                               ('lgbm',\n",
              "                                LGBMClassifier(max_depth=11, n_estimators=150,\n",
              "                                               random_state=42,\n",
              "                                               scale_pos_weight=2)),\n",
              "                               ('xgb',\n",
              "                                XGBClassifier(eval_metric='logloss',\n",
              "                                              max_depth=7, n_estimators=200,\n",
              "                                              random_state=42,\n",
              "                                              scale_pos_weight=2))],\n",
              "                   final_estimator=LGBMClassifier())"
            ]
          },
          "metadata": {},
          "execution_count": 3
        }
      ]
    },
    {
      "cell_type": "code",
      "source": [
        "# get_clf_eval(y_valid, stacking_clf.predict_proba(X_valid)[:,1]>0.3)   #0.6431\n",
        "get_clf_eval(y_valid, stacking_clf.predict_proba(X_valid)[:,1]>0.35)    #0.6444  -> 0.6479 지만 과적합이라고 봐도 무방\n",
        "# get_clf_eval(y_valid, stacking_clf.predict_proba(X_valid)[:,1]>0.4)   #0.6342"
      ],
      "metadata": {
        "colab": {
          "base_uri": "https://localhost:8080/",
          "height": 375
        },
        "id": "SPMAJnPk2R88",
        "outputId": "d8ea9867-f7fe-4ac7-a02d-39e365853780"
      },
      "execution_count": 5,
      "outputs": [
        {
          "output_type": "stream",
          "name": "stdout",
          "text": [
            "\n",
            "정확도: 0.7500\n",
            "정밀도: 0.5610\n",
            "재현율: 0.7667\n",
            "AUC: 0.7548\n",
            "F1: 0.6479\n"
          ]
        },
        {
          "output_type": "display_data",
          "data": {
            "image/png": "[encoded data removed]",
            "text/plain": [
              "<Figure size 432x288 with 2 Axes>"
            ]
          },
          "metadata": {
            "needs_background": "light"
          }
        }
      ]
    },
    {
      "cell_type": "code",
      "source": [
        "X_train, X_valid, y_train, y_valid = train_test_split(X, y, test_size=0.2)"
      ],
      "metadata": {
        "id": "GLia245nHYz8"
      },
      "execution_count": 6,
      "outputs": []
    },
    {
      "cell_type": "code",
      "source": [
        "# get_clf_eval(y_valid, stacking_clf.predict_proba(X_valid)[:,1]>0.3)   #0.6431\n",
        "get_clf_eval(y_valid, stacking_clf.predict_proba(X_valid)[:,1]>0.35)    #0.6444  \n",
        "# get_clf_eval(y_valid, stacking_clf.predict_proba(X_valid)[:,1]>0.4)   #0.6342"
      ],
      "metadata": {
        "colab": {
          "base_uri": "https://localhost:8080/",
          "height": 375
        },
        "id": "BB78QIgsHdjn",
        "outputId": "3062ac21-8f7f-46a2-ddea-4b380de51018"
      },
      "execution_count": 7,
      "outputs": [
        {
          "output_type": "stream",
          "name": "stdout",
          "text": [
            "\n",
            "정확도: 0.7693\n",
            "정밀도: 0.6133\n",
            "재현율: 0.7887\n",
            "AUC: 0.7743\n",
            "F1: 0.6900\n"
          ]
        },
        {
          "output_type": "display_data",
          "data": {
            "image/png": "[encoded data removed]",
            "text/plain": [
              "<Figure size 432x288 with 2 Axes>"
            ]
          },
          "metadata": {
            "needs_background": "light"
          }
        }
      ]
    },
    {
      "cell_type": "code",
      "source": [
        "# 최적화 한걸로 ensemble 진행 // weight 제거\n",
        "X = df.drop('depvar', axis=1)\n",
        "y = df['depvar']\n",
        "df\n",
        "# data를 training set과 validation set으로 나누기\n",
        "X_train, X_valid, y_train, y_valid = train_test_split(X, y, test_size=0.2)\n",
        "rnd_clf = RandomForestClassifier(max_depth=12, min_samples_leaf=8, min_samples_split=8, n_estimators=150, random_state=42)\n",
        "lgbm_clf = LGBMClassifier(max_depth=11, n_estimators=150, random_state=42)\n",
        "xgb_clf = xgboost.XGBClassifier(max_depth=7, n_estimators=200, eval_metric='logloss', random_state=42) # 최적값 구한것\n",
        "\n",
        "stacking_clf = StackingClassifier(estimators=[('rnd', rnd_clf), ('lgbm', lgbm_clf), ('xgb', xgb_clf)], final_estimator = LGBMClassifier())\n",
        "stacking_clf.fit(X_train, y_train)"
      ],
      "metadata": {
        "colab": {
          "base_uri": "https://localhost:8080/"
        },
        "id": "DrfUydr5K0eM",
        "outputId": "673c78fd-163a-4e68-c517-b202081a3517"
      },
      "execution_count": 10,
      "outputs": [
        {
          "output_type": "execute_result",
          "data": {
            "text/plain": [
              "StackingClassifier(estimators=[('rnd',\n",
              "                                RandomForestClassifier(max_depth=12,\n",
              "                                                       min_samples_leaf=8,\n",
              "                                                       min_samples_split=8,\n",
              "                                                       n_estimators=150,\n",
              "                                                       random_state=42)),\n",
              "                               ('lgbm',\n",
              "                                LGBMClassifier(max_depth=11, n_estimators=150,\n",
              "                                               random_state=42)),\n",
              "                               ('xgb',\n",
              "                                XGBClassifier(eval_metric='logloss',\n",
              "                                              max_depth=7, n_estimators=200,\n",
              "                                              random_state=42))],\n",
              "                   final_estimator=LGBMClassifier())"
            ]
          },
          "metadata": {},
          "execution_count": 10
        }
      ]
    },
    {
      "cell_type": "code",
      "source": [
        "# get_clf_eval(y_valid, stacking_clf.predict_proba(X_valid)[:,1]>0.3)   #0.6431\n",
        "get_clf_eval(y_valid, stacking_clf.predict_proba(X_valid)[:,1]>0.32)    #0.6444  -> 가중치 제거 -> 0.6452\n",
        "# get_clf_eval(y_valid, stacking_clf.predict_proba(X_valid)[:,1]>0.4)   #0.6342"
      ],
      "metadata": {
        "colab": {
          "base_uri": "https://localhost:8080/",
          "height": 375
        },
        "id": "AKztBgd5Ln-9",
        "outputId": "6ef0497b-f224-4acb-a1d6-ef9dfb01dd93"
      },
      "execution_count": 16,
      "outputs": [
        {
          "output_type": "stream",
          "name": "stdout",
          "text": [
            "\n",
            "정확도: 0.7255\n",
            "정밀도: 0.5567\n",
            "재현율: 0.7670\n",
            "AUC: 0.7362\n",
            "F1: 0.6452\n"
          ]
        },
        {
          "output_type": "display_data",
          "data": {
            "image/png": "[encoded data removed]",
            "text/plain": [
              "<Figure size 432x288 with 2 Axes>"
            ]
          },
          "metadata": {
            "needs_background": "light"
          }
        }
      ]
    },
    {
      "cell_type": "code",
      "source": [
        "df_test = pd.read_csv('/content/drive/MyDrive/competition_1st/test.csv')\n",
        "df_test.head()"
      ],
      "metadata": {
        "colab": {
          "base_uri": "https://localhost:8080/",
          "height": 270
        },
        "id": "Xbh2as1JDl6z",
        "outputId": "34d57f2f-e8a8-4cea-a26b-a99d55c54f8c"
      },
      "execution_count": 17,
      "outputs": [
        {
          "output_type": "execute_result",
          "data": {
            "text/html": [
              "\n",
              "  <div id=\"df-781e8e2d-fb7d-46fb-b6ba-4a74a16d4c56\">\n",
              "    <div class=\"colab-df-container\">\n",
              "      <div>\n",
              "<style scoped>\n",
              "    .dataframe tbody tr th:only-of-type {\n",
              "        vertical-align: middle;\n",
              "    }\n",
              "\n",
              "    .dataframe tbody tr th {\n",
              "        vertical-align: top;\n",
              "    }\n",
              "\n",
              "    .dataframe thead th {\n",
              "        text-align: right;\n",
              "    }\n",
              "</style>\n",
              "<table border=\"1\" class=\"dataframe\">\n",
              "  <thead>\n",
              "    <tr style=\"text-align: right;\">\n",
              "      <th></th>\n",
              "      <th>int_rate</th>\n",
              "      <th>annual_inc</th>\n",
              "      <th>dti</th>\n",
              "      <th>delinq_2yrs</th>\n",
              "      <th>inq_last_6mths</th>\n",
              "      <th>pub_rec</th>\n",
              "      <th>revol_bal</th>\n",
              "      <th>total_acc</th>\n",
              "      <th>collections_12_mths_ex_med</th>\n",
              "      <th>acc_now_delinq</th>\n",
              "      <th>tot_coll_amt</th>\n",
              "      <th>tot_cur_bal</th>\n",
              "      <th>chargeoff_within_12_mths</th>\n",
              "      <th>delinq_amnt</th>\n",
              "      <th>tax_liens</th>\n",
              "      <th>emp_length1</th>\n",
              "      <th>emp_length2</th>\n",
              "      <th>emp_length3</th>\n",
              "      <th>emp_length4</th>\n",
              "      <th>emp_length5</th>\n",
              "      <th>emp_length6</th>\n",
              "      <th>emp_length7</th>\n",
              "      <th>emp_length8</th>\n",
              "      <th>emp_length9</th>\n",
              "      <th>emp_length10</th>\n",
              "      <th>emp_length11</th>\n",
              "      <th>emp_length12</th>\n",
              "      <th>home_ownership1</th>\n",
              "      <th>home_ownership2</th>\n",
              "      <th>home_ownership3</th>\n",
              "      <th>home_ownership4</th>\n",
              "      <th>home_ownership5</th>\n",
              "      <th>home_ownership6</th>\n",
              "      <th>verification_status1</th>\n",
              "      <th>verification_status2</th>\n",
              "      <th>verification_status3</th>\n",
              "      <th>purpose1</th>\n",
              "      <th>purpose2</th>\n",
              "      <th>purpose3</th>\n",
              "      <th>purpose4</th>\n",
              "      <th>purpose5</th>\n",
              "      <th>purpose6</th>\n",
              "      <th>purpose7</th>\n",
              "      <th>purpose8</th>\n",
              "      <th>purpose9</th>\n",
              "      <th>purpose10</th>\n",
              "      <th>purpose11</th>\n",
              "      <th>purpose12</th>\n",
              "      <th>purpose13</th>\n",
              "      <th>purpose14</th>\n",
              "      <th>initial_list_status1</th>\n",
              "      <th>initial_list_status2</th>\n",
              "      <th>mths_since_last_delinq1</th>\n",
              "      <th>mths_since_last_delinq2</th>\n",
              "      <th>mths_since_last_delinq3</th>\n",
              "      <th>mths_since_last_delinq4</th>\n",
              "      <th>mths_since_last_delinq5</th>\n",
              "      <th>mths_since_last_delinq6</th>\n",
              "      <th>mths_since_last_delinq7</th>\n",
              "      <th>mths_since_last_delinq8</th>\n",
              "      <th>mths_since_last_delinq9</th>\n",
              "      <th>mths_since_last_delinq10</th>\n",
              "      <th>mths_since_last_delinq11</th>\n",
              "      <th>funded_amnt</th>\n",
              "      <th>funded_amnt_inv</th>\n",
              "      <th>total_rec_late_fee</th>\n",
              "      <th>term1</th>\n",
              "      <th>open_acc</th>\n",
              "      <th>installment</th>\n",
              "      <th>revol_util</th>\n",
              "      <th>out_prncp</th>\n",
              "      <th>out_prncp_inv</th>\n",
              "      <th>total_rec_int</th>\n",
              "      <th>fico_range_low</th>\n",
              "      <th>fico_range_high</th>\n",
              "      <th>ID</th>\n",
              "    </tr>\n",
              "  </thead>\n",
              "  <tbody>\n",
              "    <tr>\n",
              "      <th>0</th>\n",
              "      <td>0.1449</td>\n",
              "      <td>16380.0</td>\n",
              "      <td>26.08</td>\n",
              "      <td>0</td>\n",
              "      <td>0</td>\n",
              "      <td>1</td>\n",
              "      <td>3486</td>\n",
              "      <td>10</td>\n",
              "      <td>0</td>\n",
              "      <td>0</td>\n",
              "      <td>0</td>\n",
              "      <td>9214</td>\n",
              "      <td>0</td>\n",
              "      <td>0</td>\n",
              "      <td>0</td>\n",
              "      <td>0</td>\n",
              "      <td>0</td>\n",
              "      <td>0</td>\n",
              "      <td>0</td>\n",
              "      <td>0</td>\n",
              "      <td>0</td>\n",
              "      <td>1</td>\n",
              "      <td>0</td>\n",
              "      <td>0</td>\n",
              "      <td>0</td>\n",
              "      <td>0</td>\n",
              "      <td>0</td>\n",
              "      <td>0</td>\n",
              "      <td>0</td>\n",
              "      <td>0</td>\n",
              "      <td>0</td>\n",
              "      <td>0</td>\n",
              "      <td>1</td>\n",
              "      <td>1</td>\n",
              "      <td>0</td>\n",
              "      <td>0</td>\n",
              "      <td>0</td>\n",
              "      <td>0</td>\n",
              "      <td>1</td>\n",
              "      <td>0</td>\n",
              "      <td>0</td>\n",
              "      <td>0</td>\n",
              "      <td>0</td>\n",
              "      <td>0</td>\n",
              "      <td>0</td>\n",
              "      <td>0</td>\n",
              "      <td>0</td>\n",
              "      <td>0</td>\n",
              "      <td>0</td>\n",
              "      <td>0</td>\n",
              "      <td>0</td>\n",
              "      <td>1</td>\n",
              "      <td>1</td>\n",
              "      <td>0</td>\n",
              "      <td>0</td>\n",
              "      <td>0</td>\n",
              "      <td>0</td>\n",
              "      <td>0</td>\n",
              "      <td>0</td>\n",
              "      <td>0</td>\n",
              "      <td>0</td>\n",
              "      <td>0</td>\n",
              "      <td>0</td>\n",
              "      <td>8100</td>\n",
              "      <td>8100.0</td>\n",
              "      <td>0.00</td>\n",
              "      <td>1</td>\n",
              "      <td>4</td>\n",
              "      <td>278.78</td>\n",
              "      <td>0.311</td>\n",
              "      <td>0.0</td>\n",
              "      <td>0.0</td>\n",
              "      <td>460.40</td>\n",
              "      <td>700</td>\n",
              "      <td>704</td>\n",
              "      <td>0</td>\n",
              "    </tr>\n",
              "    <tr>\n",
              "      <th>1</th>\n",
              "      <td>0.1899</td>\n",
              "      <td>65000.0</td>\n",
              "      <td>13.97</td>\n",
              "      <td>0</td>\n",
              "      <td>0</td>\n",
              "      <td>0</td>\n",
              "      <td>25305</td>\n",
              "      <td>20</td>\n",
              "      <td>0</td>\n",
              "      <td>0</td>\n",
              "      <td>0</td>\n",
              "      <td>115612</td>\n",
              "      <td>0</td>\n",
              "      <td>0</td>\n",
              "      <td>0</td>\n",
              "      <td>0</td>\n",
              "      <td>1</td>\n",
              "      <td>0</td>\n",
              "      <td>0</td>\n",
              "      <td>0</td>\n",
              "      <td>0</td>\n",
              "      <td>0</td>\n",
              "      <td>0</td>\n",
              "      <td>0</td>\n",
              "      <td>0</td>\n",
              "      <td>0</td>\n",
              "      <td>0</td>\n",
              "      <td>0</td>\n",
              "      <td>1</td>\n",
              "      <td>0</td>\n",
              "      <td>0</td>\n",
              "      <td>0</td>\n",
              "      <td>0</td>\n",
              "      <td>0</td>\n",
              "      <td>1</td>\n",
              "      <td>0</td>\n",
              "      <td>0</td>\n",
              "      <td>0</td>\n",
              "      <td>1</td>\n",
              "      <td>0</td>\n",
              "      <td>0</td>\n",
              "      <td>0</td>\n",
              "      <td>0</td>\n",
              "      <td>0</td>\n",
              "      <td>0</td>\n",
              "      <td>0</td>\n",
              "      <td>0</td>\n",
              "      <td>0</td>\n",
              "      <td>0</td>\n",
              "      <td>0</td>\n",
              "      <td>0</td>\n",
              "      <td>1</td>\n",
              "      <td>0</td>\n",
              "      <td>0</td>\n",
              "      <td>0</td>\n",
              "      <td>0</td>\n",
              "      <td>0</td>\n",
              "      <td>0</td>\n",
              "      <td>1</td>\n",
              "      <td>0</td>\n",
              "      <td>0</td>\n",
              "      <td>0</td>\n",
              "      <td>0</td>\n",
              "      <td>20000</td>\n",
              "      <td>20000.0</td>\n",
              "      <td>0.00</td>\n",
              "      <td>0</td>\n",
              "      <td>10</td>\n",
              "      <td>518.71</td>\n",
              "      <td>0.885</td>\n",
              "      <td>0.0</td>\n",
              "      <td>0.0</td>\n",
              "      <td>4866.68</td>\n",
              "      <td>675</td>\n",
              "      <td>679</td>\n",
              "      <td>1</td>\n",
              "    </tr>\n",
              "    <tr>\n",
              "      <th>2</th>\n",
              "      <td>0.1049</td>\n",
              "      <td>53000.0</td>\n",
              "      <td>23.28</td>\n",
              "      <td>0</td>\n",
              "      <td>0</td>\n",
              "      <td>0</td>\n",
              "      <td>10910</td>\n",
              "      <td>21</td>\n",
              "      <td>0</td>\n",
              "      <td>0</td>\n",
              "      <td>0</td>\n",
              "      <td>33017</td>\n",
              "      <td>0</td>\n",
              "      <td>0</td>\n",
              "      <td>0</td>\n",
              "      <td>0</td>\n",
              "      <td>0</td>\n",
              "      <td>0</td>\n",
              "      <td>0</td>\n",
              "      <td>0</td>\n",
              "      <td>0</td>\n",
              "      <td>0</td>\n",
              "      <td>0</td>\n",
              "      <td>0</td>\n",
              "      <td>0</td>\n",
              "      <td>1</td>\n",
              "      <td>0</td>\n",
              "      <td>0</td>\n",
              "      <td>0</td>\n",
              "      <td>0</td>\n",
              "      <td>0</td>\n",
              "      <td>0</td>\n",
              "      <td>1</td>\n",
              "      <td>0</td>\n",
              "      <td>1</td>\n",
              "      <td>0</td>\n",
              "      <td>0</td>\n",
              "      <td>0</td>\n",
              "      <td>1</td>\n",
              "      <td>0</td>\n",
              "      <td>0</td>\n",
              "      <td>0</td>\n",
              "      <td>0</td>\n",
              "      <td>0</td>\n",
              "      <td>0</td>\n",
              "      <td>0</td>\n",
              "      <td>0</td>\n",
              "      <td>0</td>\n",
              "      <td>0</td>\n",
              "      <td>0</td>\n",
              "      <td>0</td>\n",
              "      <td>1</td>\n",
              "      <td>0</td>\n",
              "      <td>0</td>\n",
              "      <td>0</td>\n",
              "      <td>0</td>\n",
              "      <td>0</td>\n",
              "      <td>0</td>\n",
              "      <td>1</td>\n",
              "      <td>0</td>\n",
              "      <td>0</td>\n",
              "      <td>0</td>\n",
              "      <td>0</td>\n",
              "      <td>10000</td>\n",
              "      <td>10000.0</td>\n",
              "      <td>16.25</td>\n",
              "      <td>1</td>\n",
              "      <td>7</td>\n",
              "      <td>324.98</td>\n",
              "      <td>0.580</td>\n",
              "      <td>0.0</td>\n",
              "      <td>0.0</td>\n",
              "      <td>1451.06</td>\n",
              "      <td>675</td>\n",
              "      <td>679</td>\n",
              "      <td>2</td>\n",
              "    </tr>\n",
              "    <tr>\n",
              "      <th>3</th>\n",
              "      <td>0.1757</td>\n",
              "      <td>71800.0</td>\n",
              "      <td>30.32</td>\n",
              "      <td>0</td>\n",
              "      <td>0</td>\n",
              "      <td>0</td>\n",
              "      <td>42423</td>\n",
              "      <td>26</td>\n",
              "      <td>0</td>\n",
              "      <td>0</td>\n",
              "      <td>0</td>\n",
              "      <td>152515</td>\n",
              "      <td>0</td>\n",
              "      <td>0</td>\n",
              "      <td>0</td>\n",
              "      <td>0</td>\n",
              "      <td>1</td>\n",
              "      <td>0</td>\n",
              "      <td>0</td>\n",
              "      <td>0</td>\n",
              "      <td>0</td>\n",
              "      <td>0</td>\n",
              "      <td>0</td>\n",
              "      <td>0</td>\n",
              "      <td>0</td>\n",
              "      <td>0</td>\n",
              "      <td>0</td>\n",
              "      <td>0</td>\n",
              "      <td>1</td>\n",
              "      <td>0</td>\n",
              "      <td>0</td>\n",
              "      <td>0</td>\n",
              "      <td>0</td>\n",
              "      <td>0</td>\n",
              "      <td>0</td>\n",
              "      <td>1</td>\n",
              "      <td>0</td>\n",
              "      <td>0</td>\n",
              "      <td>1</td>\n",
              "      <td>0</td>\n",
              "      <td>0</td>\n",
              "      <td>0</td>\n",
              "      <td>0</td>\n",
              "      <td>0</td>\n",
              "      <td>0</td>\n",
              "      <td>0</td>\n",
              "      <td>0</td>\n",
              "      <td>0</td>\n",
              "      <td>0</td>\n",
              "      <td>0</td>\n",
              "      <td>0</td>\n",
              "      <td>1</td>\n",
              "      <td>1</td>\n",
              "      <td>0</td>\n",
              "      <td>0</td>\n",
              "      <td>0</td>\n",
              "      <td>0</td>\n",
              "      <td>0</td>\n",
              "      <td>0</td>\n",
              "      <td>0</td>\n",
              "      <td>0</td>\n",
              "      <td>0</td>\n",
              "      <td>0</td>\n",
              "      <td>27200</td>\n",
              "      <td>27200.0</td>\n",
              "      <td>0.00</td>\n",
              "      <td>0</td>\n",
              "      <td>16</td>\n",
              "      <td>684.36</td>\n",
              "      <td>0.701</td>\n",
              "      <td>0.0</td>\n",
              "      <td>0.0</td>\n",
              "      <td>7068.11</td>\n",
              "      <td>665</td>\n",
              "      <td>669</td>\n",
              "      <td>3</td>\n",
              "    </tr>\n",
              "    <tr>\n",
              "      <th>4</th>\n",
              "      <td>0.2020</td>\n",
              "      <td>50000.0</td>\n",
              "      <td>25.61</td>\n",
              "      <td>0</td>\n",
              "      <td>2</td>\n",
              "      <td>0</td>\n",
              "      <td>21703</td>\n",
              "      <td>24</td>\n",
              "      <td>0</td>\n",
              "      <td>0</td>\n",
              "      <td>0</td>\n",
              "      <td>135282</td>\n",
              "      <td>0</td>\n",
              "      <td>0</td>\n",
              "      <td>0</td>\n",
              "      <td>0</td>\n",
              "      <td>1</td>\n",
              "      <td>0</td>\n",
              "      <td>0</td>\n",
              "      <td>0</td>\n",
              "      <td>0</td>\n",
              "      <td>0</td>\n",
              "      <td>0</td>\n",
              "      <td>0</td>\n",
              "      <td>0</td>\n",
              "      <td>0</td>\n",
              "      <td>0</td>\n",
              "      <td>0</td>\n",
              "      <td>1</td>\n",
              "      <td>0</td>\n",
              "      <td>0</td>\n",
              "      <td>0</td>\n",
              "      <td>0</td>\n",
              "      <td>0</td>\n",
              "      <td>1</td>\n",
              "      <td>0</td>\n",
              "      <td>0</td>\n",
              "      <td>1</td>\n",
              "      <td>0</td>\n",
              "      <td>0</td>\n",
              "      <td>0</td>\n",
              "      <td>0</td>\n",
              "      <td>0</td>\n",
              "      <td>0</td>\n",
              "      <td>0</td>\n",
              "      <td>0</td>\n",
              "      <td>0</td>\n",
              "      <td>0</td>\n",
              "      <td>0</td>\n",
              "      <td>0</td>\n",
              "      <td>1</td>\n",
              "      <td>0</td>\n",
              "      <td>1</td>\n",
              "      <td>0</td>\n",
              "      <td>0</td>\n",
              "      <td>0</td>\n",
              "      <td>0</td>\n",
              "      <td>0</td>\n",
              "      <td>0</td>\n",
              "      <td>0</td>\n",
              "      <td>0</td>\n",
              "      <td>0</td>\n",
              "      <td>0</td>\n",
              "      <td>22000</td>\n",
              "      <td>22000.0</td>\n",
              "      <td>0.00</td>\n",
              "      <td>0</td>\n",
              "      <td>13</td>\n",
              "      <td>585.32</td>\n",
              "      <td>0.622</td>\n",
              "      <td>0.0</td>\n",
              "      <td>0.0</td>\n",
              "      <td>7754.20</td>\n",
              "      <td>710</td>\n",
              "      <td>714</td>\n",
              "      <td>4</td>\n",
              "    </tr>\n",
              "  </tbody>\n",
              "</table>\n",
              "</div>\n",
              "      <button class=\"colab-df-convert\" onclick=\"convertToInteractive('df-781e8e2d-fb7d-46fb-b6ba-4a74a16d4c56')\"\n",
              "              title=\"Convert this dataframe to an interactive table.\"\n",
              "              style=\"display:none;\">\n",
              "        \n",
              "  <svg xmlns=\"http://www.w3.org/2000/svg\" height=\"24px\"viewBox=\"0 0 24 24\"\n",
              "       width=\"24px\">\n",
              "    <path d=\"M0 0h24v24H0V0z\" fill=\"none\"/>\n",
              "    <path d=\"M18.56 5.44l.94 2.06.94-2.06 2.06-.94-2.06-.94-.94-2.06-.94 2.06-2.06.94zm-11 1L8.5 8.5l.94-2.06 2.06-.94-2.06-.94L8.5 2.5l-.94 2.06-2.06.94zm10 10l.94 2.06.94-2.06 2.06-.94-2.06-.94-.94-2.06-.94 2.06-2.06.94z\"/><path d=\"M17.41 7.96l-1.37-1.37c-.4-.4-.92-.59-1.43-.59-.52 0-1.04.2-1.43.59L10.3 9.45l-7.72 7.72c-.78.78-.78 2.05 0 2.83L4 21.41c.39.39.9.59 1.41.59.51 0 1.02-.2 1.41-.59l7.78-7.78 2.81-2.81c.8-.78.8-2.07 0-2.86zM5.41 20L4 18.59l7.72-7.72 1.47 1.35L5.41 20z\"/>\n",
              "  </svg>\n",
              "      </button>\n",
              "      \n",
              "  <style>\n",
              "    .colab-df-container {\n",
              "      display:flex;\n",
              "      flex-wrap:wrap;\n",
              "      gap: 12px;\n",
              "    }\n",
              "\n",
              "    .colab-df-convert {\n",
              "      background-color: #E8F0FE;\n",
              "      border: none;\n",
              "      border-radius: 50%;\n",
              "      cursor: pointer;\n",
              "      display: none;\n",
              "      fill: #1967D2;\n",
              "      height: 32px;\n",
              "      padding: 0 0 0 0;\n",
              "      width: 32px;\n",
              "    }\n",
              "\n",
              "    .colab-df-convert:hover {\n",
              "      background-color: #E2EBFA;\n",
              "      box-shadow: 0px 1px 2px rgba(60, 64, 67, 0.3), 0px 1px 3px 1px rgba(60, 64, 67, 0.15);\n",
              "      fill: #174EA6;\n",
              "    }\n",
              "\n",
              "    [theme=dark] .colab-df-convert {\n",
              "      background-color: #3B4455;\n",
              "      fill: #D2E3FC;\n",
              "    }\n",
              "\n",
              "    [theme=dark] .colab-df-convert:hover {\n",
              "      background-color: #434B5C;\n",
              "      box-shadow: 0px 1px 3px 1px rgba(0, 0, 0, 0.15);\n",
              "      filter: drop-shadow(0px 1px 2px rgba(0, 0, 0, 0.3));\n",
              "      fill: #FFFFFF;\n",
              "    }\n",
              "  </style>\n",
              "\n",
              "      <script>\n",
              "        const buttonEl =\n",
              "          document.querySelector('#df-781e8e2d-fb7d-46fb-b6ba-4a74a16d4c56 button.colab-df-convert');\n",
              "        buttonEl.style.display =\n",
              "          google.colab.kernel.accessAllowed ? 'block' : 'none';\n",
              "\n",
              "        async function convertToInteractive(key) {\n",
              "          const element = document.querySelector('#df-781e8e2d-fb7d-46fb-b6ba-4a74a16d4c56');\n",
              "          const dataTable =\n",
              "            await google.colab.kernel.invokeFunction('convertToInteractive',\n",
              "                                                     [key], {});\n",
              "          if (!dataTable) return;\n",
              "\n",
              "          const docLinkHtml = 'Like what you see? Visit the ' +\n",
              "            '<a target=\"_blank\" href=https://colab.research.google.com/notebooks/data_table.ipynb>data table notebook</a>'\n",
              "            + ' to learn more about interactive tables.';\n",
              "          element.innerHTML = '';\n",
              "          dataTable['output_type'] = 'display_data';\n",
              "          await google.colab.output.renderOutput(dataTable, element);\n",
              "          const docLink = document.createElement('div');\n",
              "          docLink.innerHTML = docLinkHtml;\n",
              "          element.appendChild(docLink);\n",
              "        }\n",
              "      </script>\n",
              "    </div>\n",
              "  </div>\n",
              "  "
            ],
            "text/plain": [
              "   int_rate  annual_inc    dti  ...  fico_range_low  fico_range_high  ID\n",
              "0    0.1449     16380.0  26.08  ...             700              704   0\n",
              "1    0.1899     65000.0  13.97  ...             675              679   1\n",
              "2    0.1049     53000.0  23.28  ...             675              679   2\n",
              "3    0.1757     71800.0  30.32  ...             665              669   3\n",
              "4    0.2020     50000.0  25.61  ...             710              714   4\n",
              "\n",
              "[5 rows x 76 columns]"
            ]
          },
          "metadata": {},
          "execution_count": 17
        }
      ]
    },
    {
      "cell_type": "markdown",
      "source": [
        "## 제출"
      ],
      "metadata": {
        "id": "S8w58R1uuaCZ"
      }
    },
    {
      "cell_type": "code",
      "source": [
        "# 제출 양식 다운로드\n",
        "submit = pd.read_csv('/content/drive/MyDrive/competition_1st/sample_submission.csv')\n",
        "\n",
        "# prediction 수행\n",
        "df_test = pd.read_csv('/content/drive/MyDrive/competition_1st/test.csv')\n",
        "submit['answer'] = stacking_clf.predict_proba(df_test.drop(columns=['ID']))[:,1]>0.35\n",
        "change = {True:1, False:0}\n",
        "submit.answer = submit.answer.map(change)\n",
        "# 제출 파일 저장\n",
        "submit.to_csv('/content/drive/MyDrive/competition_1st/submission_8.csv', index=False)"
      ],
      "metadata": {
        "id": "-lG3H9lWuZFi"
      },
      "execution_count": 18,
      "outputs": []
    },
    {
      "cell_type": "code",
      "source": [
        "submit.head()"
      ],
      "metadata": {
        "colab": {
          "base_uri": "https://localhost:8080/",
          "height": 206
        },
        "id": "2el8rBmtue6Y",
        "outputId": "0f351b76-8b43-4311-d904-7dcbfd795f4d"
      },
      "execution_count": null,
      "outputs": [
        {
          "output_type": "execute_result",
          "data": {
            "text/html": [
              "\n",
              "  <div id=\"df-22109edd-0ced-4711-a3b6-a73974e6e0be\">\n",
              "    <div class=\"colab-df-container\">\n",
              "      <div>\n",
              "<style scoped>\n",
              "    .dataframe tbody tr th:only-of-type {\n",
              "        vertical-align: middle;\n",
              "    }\n",
              "\n",
              "    .dataframe tbody tr th {\n",
              "        vertical-align: top;\n",
              "    }\n",
              "\n",
              "    .dataframe thead th {\n",
              "        text-align: right;\n",
              "    }\n",
              "</style>\n",
              "<table border=\"1\" class=\"dataframe\">\n",
              "  <thead>\n",
              "    <tr style=\"text-align: right;\">\n",
              "      <th></th>\n",
              "      <th>ID</th>\n",
              "      <th>answer</th>\n",
              "    </tr>\n",
              "  </thead>\n",
              "  <tbody>\n",
              "    <tr>\n",
              "      <th>0</th>\n",
              "      <td>0</td>\n",
              "      <td>1</td>\n",
              "    </tr>\n",
              "    <tr>\n",
              "      <th>1</th>\n",
              "      <td>1</td>\n",
              "      <td>1</td>\n",
              "    </tr>\n",
              "    <tr>\n",
              "      <th>2</th>\n",
              "      <td>2</td>\n",
              "      <td>1</td>\n",
              "    </tr>\n",
              "    <tr>\n",
              "      <th>3</th>\n",
              "      <td>3</td>\n",
              "      <td>1</td>\n",
              "    </tr>\n",
              "    <tr>\n",
              "      <th>4</th>\n",
              "      <td>4</td>\n",
              "      <td>1</td>\n",
              "    </tr>\n",
              "  </tbody>\n",
              "</table>\n",
              "</div>\n",
              "      <button class=\"colab-df-convert\" onclick=\"convertToInteractive('df-22109edd-0ced-4711-a3b6-a73974e6e0be')\"\n",
              "              title=\"Convert this dataframe to an interactive table.\"\n",
              "              style=\"display:none;\">\n",
              "        \n",
              "  <svg xmlns=\"http://www.w3.org/2000/svg\" height=\"24px\"viewBox=\"0 0 24 24\"\n",
              "       width=\"24px\">\n",
              "    <path d=\"M0 0h24v24H0V0z\" fill=\"none\"/>\n",
              "    <path d=\"M18.56 5.44l.94 2.06.94-2.06 2.06-.94-2.06-.94-.94-2.06-.94 2.06-2.06.94zm-11 1L8.5 8.5l.94-2.06 2.06-.94-2.06-.94L8.5 2.5l-.94 2.06-2.06.94zm10 10l.94 2.06.94-2.06 2.06-.94-2.06-.94-.94-2.06-.94 2.06-2.06.94z\"/><path d=\"M17.41 7.96l-1.37-1.37c-.4-.4-.92-.59-1.43-.59-.52 0-1.04.2-1.43.59L10.3 9.45l-7.72 7.72c-.78.78-.78 2.05 0 2.83L4 21.41c.39.39.9.59 1.41.59.51 0 1.02-.2 1.41-.59l7.78-7.78 2.81-2.81c.8-.78.8-2.07 0-2.86zM5.41 20L4 18.59l7.72-7.72 1.47 1.35L5.41 20z\"/>\n",
              "  </svg>\n",
              "      </button>\n",
              "      \n",
              "  <style>\n",
              "    .colab-df-container {\n",
              "      display:flex;\n",
              "      flex-wrap:wrap;\n",
              "      gap: 12px;\n",
              "    }\n",
              "\n",
              "    .colab-df-convert {\n",
              "      background-color: #E8F0FE;\n",
              "      border: none;\n",
              "      border-radius: 50%;\n",
              "      cursor: pointer;\n",
              "      display: none;\n",
              "      fill: #1967D2;\n",
              "      height: 32px;\n",
              "      padding: 0 0 0 0;\n",
              "      width: 32px;\n",
              "    }\n",
              "\n",
              "    .colab-df-convert:hover {\n",
              "      background-color: #E2EBFA;\n",
              "      box-shadow: 0px 1px 2px rgba(60, 64, 67, 0.3), 0px 1px 3px 1px rgba(60, 64, 67, 0.15);\n",
              "      fill: #174EA6;\n",
              "    }\n",
              "\n",
              "    [theme=dark] .colab-df-convert {\n",
              "      background-color: #3B4455;\n",
              "      fill: #D2E3FC;\n",
              "    }\n",
              "\n",
              "    [theme=dark] .colab-df-convert:hover {\n",
              "      background-color: #434B5C;\n",
              "      box-shadow: 0px 1px 3px 1px rgba(0, 0, 0, 0.15);\n",
              "      filter: drop-shadow(0px 1px 2px rgba(0, 0, 0, 0.3));\n",
              "      fill: #FFFFFF;\n",
              "    }\n",
              "  </style>\n",
              "\n",
              "      <script>\n",
              "        const buttonEl =\n",
              "          document.querySelector('#df-22109edd-0ced-4711-a3b6-a73974e6e0be button.colab-df-convert');\n",
              "        buttonEl.style.display =\n",
              "          google.colab.kernel.accessAllowed ? 'block' : 'none';\n",
              "\n",
              "        async function convertToInteractive(key) {\n",
              "          const element = document.querySelector('#df-22109edd-0ced-4711-a3b6-a73974e6e0be');\n",
              "          const dataTable =\n",
              "            await google.colab.kernel.invokeFunction('convertToInteractive',\n",
              "                                                     [key], {});\n",
              "          if (!dataTable) return;\n",
              "\n",
              "          const docLinkHtml = 'Like what you see? Visit the ' +\n",
              "            '<a target=\"_blank\" href=https://colab.research.google.com/notebooks/data_table.ipynb>data table notebook</a>'\n",
              "            + ' to learn more about interactive tables.';\n",
              "          element.innerHTML = '';\n",
              "          dataTable['output_type'] = 'display_data';\n",
              "          await google.colab.output.renderOutput(dataTable, element);\n",
              "          const docLink = document.createElement('div');\n",
              "          docLink.innerHTML = docLinkHtml;\n",
              "          element.appendChild(docLink);\n",
              "        }\n",
              "      </script>\n",
              "    </div>\n",
              "  </div>\n",
              "  "
            ],
            "text/plain": [
              "   ID  answer\n",
              "0   0       1\n",
              "1   1       1\n",
              "2   2       1\n",
              "3   3       1\n",
              "4   4       1"
            ]
          },
          "metadata": {},
          "execution_count": 60
        }
      ]
    },
    {
      "cell_type": "markdown",
      "metadata": {
        "id": "i4qJsie7tNX0"
      },
      "source": [
        "# Single Model(XGBoost)\n",
        "## XGBClassifier의 하이퍼 파라미터 설명\n",
        "- **LINK** : https://xgboost.readthedocs.io/en/stable/python/python_api.html#xgboost.XGBClassifier\n",
        "- **max_depth=3** : 디시전 트리의 최대 깊이\n",
        "- **learning_rate=0.1** : 0과 1 사이의 값을 가지는 부스팅에 대한 학습률(eta). 매 부스팅 단계 이후 새로이 추가된 가중치는 이 파라미터로 조정된다. 이 값이 낮을수록 보수적이며, 수렴에 필요한 더 많은 디시전 트리가 필요하다.\n",
        "- **n_estimators=100** : 라운드의 횟수 또는 부스팅된 디시전 트리의 개수\n",
        "- **silent=True** : 부스팅의 수행 동안 메시지를 출력할지에 대한 여부\n",
        "- **objective=\"reg:linear\"** : 모델이 학습할 작업의 분류, 미리 정의된 작업은 문자열로 지정이 가능하지만, 그렇지 않은 경우 콜러블callable을 만들어서 지정할 수도 있다.\n",
        "- **booster=\"gbtree\"** : 'gbtree', 'gblinear', 'dart'일 수 있다. 'dart'는 드롭아웃(dropout)이라는 특성을 추가한다(과적합 방지를 위해 무작위로 디시전 트리를 선택해 제거(드롭)한다). 'gblinear'는 정규화된 선형 모델을 만든다(디시전 트리가 아니라 라소 회귀와 유사하다).\n",
        "- **nthread=None** : 더 이상 사용되지 않는다.\n",
        "- **n_jobs** : 사용할 스레드의 개수\n",
        "- **gamma=0** : 노드 분할에 필요한 최소 손실 감소\n",
        "- **min_child_weight=1** : 자식 노드 생성에 필요한 헤시안(hessian) 합의 최솟값\n",
        "- **max_delta_step=0** : 보다 보수적으로 갱신을 수행하도록 만드는 값. 불균형 범주의 데이터셋에 대해서는 1부터 10까지의 값으로 설정한다.\n",
        "- **subsample=1** : 부스팅에 사용할 샘플의 비율\n",
        "- **colsample_bytree=1** : 부스팅에 사용할 특징 열의 비율\n",
        "- **colsample_bylevel=1** : 각 디시전 트리의 수준별 사용할 특징 열의 비율\n",
        "- **colsample_bynode=1** : 각 디시전 트리의 노드별 사용할 특징 열의 비율\n",
        "- **reg_alpha=0** : L1 정규화(가중치의 평균). 이 값이 클수록 보수적이게 된다.\n",
        "- **reg_lambda=1** : L2 정규화(가중치의 제곱근). 이 값이 클수록 보수적이게 된다.\n",
        "- **base_score=.5** : 초기 편향치(bias)\n",
        "- **seed=None** : 더 이상 사용되지 않는다.\n",
        "- **random_state=0** : 난수 생성 시드\n",
        "- **missing=None** : 누락된 데이터가 해석될 값. None은 np.nan을 의미한다.\n",
        "- **importance_type='gain'** : 특징 중요도의 유형. 'gain', 'weight', 'cover', 'total_gain', 'total_cover'로 설정될 수 있다."
      ]
    },
    {
      "cell_type": "code",
      "execution_count": null,
      "metadata": {
        "colab": {
          "base_uri": "https://localhost:8080/"
        },
        "id": "W4jFuDdZG9mX",
        "outputId": "a84efda8-c43d-4032-b23f-14d9592cd391"
      },
      "outputs": [
        {
          "output_type": "execute_result",
          "data": {
            "text/plain": [
              "{'max_depth': 11, 'n_estimators': 100}"
            ]
          },
          "metadata": {},
          "execution_count": 43
        }
      ],
      "source": [
        "# 하이퍼 파라미터 튜닝\n",
        "xgb_clf = xgboost.XGBClassifier(tree_method='gpu_hist', predictor='gpu_predictor')\n",
        "# GPU사용시ㅡ tree_method='gpu_hist' \n",
        "# Do not use this for test/validation tasks as some information may be lost in quantisation. \n",
        "# This DMatrix is primarily designed to save memory in training from device memory inputs by avoiding intermediate storage. \n",
        "\n",
        "param_grid = {'max_depth':[11],\n",
        "              'n_estimators':[100, 150, 200, 250],\n",
        "              'early_stoppings' : 40}\n",
        "\n",
        "cv=RepeatedStratifiedKFold(n_splits=5, n_repeats=2)\n",
        "\n",
        "grid_search = GridSearchCV(estimator=xgb_clf,\n",
        "                           param_grid=param_grid, \n",
        "                           n_jobs=-1,\n",
        "                           cv=cv,\n",
        "                           scoring='accuracy', \n",
        "                           error_score=0) \n",
        "\n",
        "results=grid_search.fit(X_train, y_train)\n",
        "\n",
        "results.best_params_"
      ]
    },
    {
      "cell_type": "code",
      "execution_count": null,
      "metadata": {
        "id": "7JcFCUqpG9o2"
      },
      "outputs": [],
      "source": [
        "# best parameter를 사용하여 prediction 수행\n",
        "xgb_clf = xgboost.XGBClassifier(max_depth = results.best_params_['max_depth'],\n",
        "                                n_estimators = results.best_params_['n_estimators'],\n",
        "                                eval_metric='mlogloss')\n",
        "\n",
        "xgb_clf.fit(X_train, y_train)\n",
        "\n",
        "y_pred_xgb = xgb_clf.predict(X_valid)"
      ]
    },
    {
      "cell_type": "code",
      "execution_count": null,
      "metadata": {
        "id": "BChLR6koG9q_",
        "colab": {
          "base_uri": "https://localhost:8080/"
        },
        "outputId": "c34fe21b-41fe-4f56-9019-0451e491adca"
      },
      "outputs": [
        {
          "output_type": "stream",
          "name": "stdout",
          "text": [
            "20000\n"
          ]
        },
        {
          "output_type": "execute_result",
          "data": {
            "text/plain": [
              "array([[0.9355947 , 0.0644053 ],\n",
              "       [0.32453138, 0.6754686 ],\n",
              "       [0.9188567 , 0.08114331],\n",
              "       ...,\n",
              "       [0.5913547 , 0.4086453 ],\n",
              "       [0.7550378 , 0.2449622 ],\n",
              "       [0.97016555, 0.02983447]], dtype=float32)"
            ]
          },
          "metadata": {},
          "execution_count": 45
        }
      ],
      "source": [
        "# y_valid가 0 또는 1일 확률 출력\n",
        "y_pred_prob = xgb_clf.predict_proba(X_valid)\n",
        "\n",
        "print(len(y_pred_prob))\n",
        "y_pred_prob"
      ]
    },
    {
      "cell_type": "code",
      "execution_count": null,
      "metadata": {
        "colab": {
          "base_uri": "https://localhost:8080/"
        },
        "id": "P0j21hQ5tNX2",
        "outputId": "6b4a2eb1-aed6-4038-cefc-8c34b232a5ab"
      },
      "outputs": [
        {
          "output_type": "execute_result",
          "data": {
            "text/plain": [
              "array([0.0644053 , 0.6754686 , 0.08114331, ..., 0.4086453 , 0.2449622 ,\n",
              "       0.02983447], dtype=float32)"
            ]
          },
          "metadata": {},
          "execution_count": 46
        }
      ],
      "source": [
        "# y_valid가 1일 확률 출력\n",
        "y_pred_prob[:,1]"
      ]
    },
    {
      "cell_type": "code",
      "execution_count": null,
      "metadata": {
        "colab": {
          "base_uri": "https://localhost:8080/"
        },
        "id": "0sN4rLY5tNX2",
        "outputId": "476468ab-fec3-42aa-963e-df47d490272c"
      },
      "outputs": [
        {
          "output_type": "stream",
          "name": "stdout",
          "text": [
            "20000\n"
          ]
        },
        {
          "output_type": "execute_result",
          "data": {
            "text/plain": [
              "array([0, 1, 0, ..., 0, 0, 0])"
            ]
          },
          "metadata": {},
          "execution_count": 47
        }
      ],
      "source": [
        "# y_valid 예측값 출력\n",
        "# y_pred_prob[:,1]이 0.5(threshold)보다 큰 경우 1의 예측값을 return한다\n",
        "\n",
        "print(len(y_pred_xgb))\n",
        "y_pred_xgb"
      ]
    },
    {
      "cell_type": "code",
      "execution_count": null,
      "metadata": {
        "colab": {
          "base_uri": "https://localhost:8080/"
        },
        "id": "3RNfnU-RtNX2",
        "outputId": "715b4225-1d51-4b64-d558-c57bc7f31803"
      },
      "outputs": [
        {
          "output_type": "stream",
          "name": "stdout",
          "text": [
            "5039\n",
            "0.25195\n"
          ]
        }
      ],
      "source": [
        "# 1로 예측된 y_valid 갯수 및 비율 출력\n",
        "print(y_pred_xgb.sum())\n",
        "print(y_pred_xgb.sum()/len(y_pred_xgb))"
      ]
    },
    {
      "cell_type": "code",
      "execution_count": null,
      "metadata": {
        "id": "3mIAhdCstNX3"
      },
      "outputs": [],
      "source": [
        "# 평가 함수 정의\n",
        "def get_clf_eval(y_actual, y_pred):\n",
        "    accuracy = accuracy_score(y_actual, y_pred)\n",
        "    precision = precision_score(y_actual, y_pred)\n",
        "    recall = recall_score(y_actual, y_pred)\n",
        "    AUC = roc_auc_score(y_actual, y_pred)\n",
        "    F1 = f1_score(y_actual, y_pred)\n",
        "    print('\\n정확도: {:.4f}'.format(accuracy))\n",
        "    print('정밀도: {:.4f}'.format(precision))\n",
        "    print('재현율: {:.4f}'.format(recall))\n",
        "    print('AUC: {:.4f}'.format(AUC))\n",
        "    print('F1: {:.4f}'.format(F1))\n",
        "    \n",
        "    # sns.heatmap(confusion_matrix(y_actual, y_pred), annot=True, fmt='d', cmap='YlGnBu')"
      ]
    },
    {
      "cell_type": "code",
      "execution_count": null,
      "metadata": {
        "colab": {
          "base_uri": "https://localhost:8080/",
          "height": 375
        },
        "id": "0JYjY0cBtNX3",
        "outputId": "a2e58eef-3b7a-4bb8-e0cc-9bc1e2030326"
      },
      "outputs": [
        {
          "output_type": "stream",
          "name": "stdout",
          "text": [
            "\n",
            "정확도: 0.7492\n",
            "정밀도: 0.6515\n",
            "재현율: 0.5018\n",
            "AUC: 0.6856\n",
            "F1: 0.5669\n"
          ]
        },
        {
          "output_type": "display_data",
          "data": {
            "image/png": "[encoded data removed]",
            "text/plain": [
              "<Figure size 432x288 with 2 Axes>"
            ]
          },
          "metadata": {
            "needs_background": "light"
          }
        }
      ],
      "source": [
        "# xgboost 성능 확인\n",
        "get_clf_eval(y_valid, y_pred_xgb)"
      ]
    },
    {
      "cell_type": "code",
      "execution_count": null,
      "metadata": {
        "colab": {
          "base_uri": "https://localhost:8080/",
          "height": 375
        },
        "id": "kaLgKgwctNX3",
        "outputId": "5f34bb1a-5841-41a3-9274-7e3c3867809e"
      },
      "outputs": [
        {
          "output_type": "stream",
          "name": "stdout",
          "text": [
            "\n",
            "정확도: 0.7460\n",
            "정밀도: 0.6073\n",
            "재현율: 0.6330\n",
            "AUC: 0.7170\n",
            "F1: 0.6199\n"
          ]
        },
        {
          "output_type": "display_data",
          "data": {
            "image/png": "[encoded data removed]",
            "text/plain": [
              "<Figure size 432x288 with 2 Axes>"
            ]
          },
          "metadata": {
            "needs_background": "light"
          }
        }
      ],
      "source": [
        "# threshold 변경 및 성능 확인\n",
        "# get_clf_eval(y_valid, y_pred_prob[:,1]>0.4)\n",
        "get_clf_eval(y_valid, xgb_clf.predict_proba(X_valid)[:,1]>0.4)"
      ]
    },
    {
      "cell_type": "markdown",
      "metadata": {
        "id": "-0GmMJ3stNX4"
      },
      "source": [
        "# Ensemble(Voting)"
      ]
    },
    {
      "cell_type": "code",
      "execution_count": null,
      "metadata": {
        "id": "h7gnZcNntNX4"
      },
      "outputs": [],
      "source": [
        "rnd_clf = RandomForestClassifier()\n",
        "lgbm_clf = LGBMClassifier()\n",
        "# rid_clf = RidgeClassifier()\n",
        "# dtc_clf = DecisionTreeClassifier()\n",
        "# svm_clf = SVC()\n",
        "# ada_clf = AdaBoostClassifier()\n",
        "# gbc_clf = GradientBoostingClassifier()\n",
        "# bag_clf = BaggingClassifier()\n",
        "# ext_clf = ExtraTreesClassifier()\n",
        "# knn_clf = KNeighborsClassifier()\n",
        "# svc_clf = SVC()\n",
        "\n",
        "voting_clf = VotingClassifier(estimators=[('rnd', rnd_clf), ('lgbm', lgbm_clf), ('xgb', xgb_clf)], voting='soft')"
      ]
    },
    {
      "cell_type": "code",
      "execution_count": null,
      "metadata": {
        "colab": {
          "base_uri": "https://localhost:8080/",
          "height": 375
        },
        "id": "nCnVIn1ktNX4",
        "outputId": "41cc7b74-4d8e-49e1-adaf-677922b7a6ef"
      },
      "outputs": [
        {
          "output_type": "stream",
          "name": "stdout",
          "text": [
            "\n",
            "정확도: 0.7459\n",
            "정밀도: 0.6090\n",
            "재현율: 0.6237\n",
            "AUC: 0.7145\n",
            "F1: 0.6163\n"
          ]
        },
        {
          "output_type": "display_data",
          "data": {
            "image/png": "[encoded data removed]",
            "text/plain": [
              "<Figure size 432x288 with 2 Axes>"
            ]
          },
          "metadata": {
            "needs_background": "light"
          }
        }
      ],
      "source": [
        "for clf in (rnd_clf, lgbm_clf, xgb_clf, voting_clf):\n",
        "    clf.fit(X_train, y_train)\n",
        "    y_pred_vote = clf.predict_proba(X_valid)[:,1]>0.4 # threshold 변경\n",
        "\n",
        "# ensemble(voting) 성능 확인\n",
        "get_clf_eval(y_valid, y_pred_vote)"
      ]
    },
    {
      "cell_type": "markdown",
      "metadata": {
        "id": "k8spNdkMtNX4"
      },
      "source": [
        "# Ensemble(Stacking)"
      ]
    },
    {
      "cell_type": "code",
      "execution_count": null,
      "metadata": {
        "colab": {
          "base_uri": "https://localhost:8080/",
          "height": 375
        },
        "id": "VQsGhnt2tNX5",
        "outputId": "76d2dd96-ef3b-4041-d3af-913e3bff13f1"
      },
      "outputs": [
        {
          "output_type": "stream",
          "name": "stdout",
          "text": [
            "\n",
            "정확도: 0.7519\n",
            "정밀도: 0.6574\n",
            "재현율: 0.5045\n",
            "AUC: 0.6883\n",
            "F1: 0.5709\n"
          ]
        },
        {
          "output_type": "display_data",
          "data": {
            "image/png": "[encoded data removed]",
            "text/plain": [
              "<Figure size 432x288 with 2 Axes>"
            ]
          },
          "metadata": {
            "needs_background": "light"
          }
        }
      ],
      "source": [
        "stacking_clf = StackingClassifier(estimators=[('rnd', rnd_clf), ('lgbm', lgbm_clf), ('xgb', xgb_clf)], final_estimator = LGBMClassifier())\n",
        "stacking_clf.fit(X_train, y_train)\n",
        "y_pred_stack = stacking_clf.predict(X_valid)\n",
        "\n",
        "# ensemble(stacking) 성능 확인\n",
        "get_clf_eval(y_valid, y_pred_stack)"
      ]
    },
    {
      "cell_type": "markdown",
      "metadata": {
        "id": "8RWI78FKtNX5"
      },
      "source": [
        "# Submission"
      ]
    },
    {
      "cell_type": "code",
      "execution_count": null,
      "metadata": {
        "id": "8pTC3C6xtNX5"
      },
      "outputs": [],
      "source": [
        "# 제출 양식 다운로드\n",
        "submit = pd.read_csv('/content/drive/MyDrive/competition_1st/sample_submission.csv')\n",
        "\n",
        "# prediction 수행\n",
        "df_test = pd.read_csv('/content/drive/MyDrive/competition_1st/test.csv')\n",
        "submit['answer'] = stacking_clf.predict_proba(df_test.drop(columns=['ID']))[:,1]>0.35\n",
        "change = {True:1, False:0}\n",
        "submit.answer = submit.answer.map(change)\n",
        "# 제출 파일 저장\n",
        "submit.to_csv('/content/drive/MyDrive/competition_1st/prediction4.csv', index=False)"
      ]
    },
    {
      "cell_type": "code",
      "source": [
        "submit.head()"
      ],
      "metadata": {
        "colab": {
          "base_uri": "https://localhost:8080/",
          "height": 206
        },
        "id": "f29uqLnZ7I2G",
        "outputId": "ec7769e6-fb07-459d-cf19-7c64b1a0918e"
      },
      "execution_count": null,
      "outputs": [
        {
          "output_type": "execute_result",
          "data": {
            "text/html": [
              "\n",
              "  <div id=\"df-ae951569-63fb-4386-b219-54c5ef25c1cf\">\n",
              "    <div class=\"colab-df-container\">\n",
              "      <div>\n",
              "<style scoped>\n",
              "    .dataframe tbody tr th:only-of-type {\n",
              "        vertical-align: middle;\n",
              "    }\n",
              "\n",
              "    .dataframe tbody tr th {\n",
              "        vertical-align: top;\n",
              "    }\n",
              "\n",
              "    .dataframe thead th {\n",
              "        text-align: right;\n",
              "    }\n",
              "</style>\n",
              "<table border=\"1\" class=\"dataframe\">\n",
              "  <thead>\n",
              "    <tr style=\"text-align: right;\">\n",
              "      <th></th>\n",
              "      <th>ID</th>\n",
              "      <th>answer</th>\n",
              "    </tr>\n",
              "  </thead>\n",
              "  <tbody>\n",
              "    <tr>\n",
              "      <th>0</th>\n",
              "      <td>0</td>\n",
              "      <td>1</td>\n",
              "    </tr>\n",
              "    <tr>\n",
              "      <th>1</th>\n",
              "      <td>1</td>\n",
              "      <td>1</td>\n",
              "    </tr>\n",
              "    <tr>\n",
              "      <th>2</th>\n",
              "      <td>2</td>\n",
              "      <td>1</td>\n",
              "    </tr>\n",
              "    <tr>\n",
              "      <th>3</th>\n",
              "      <td>3</td>\n",
              "      <td>1</td>\n",
              "    </tr>\n",
              "    <tr>\n",
              "      <th>4</th>\n",
              "      <td>4</td>\n",
              "      <td>1</td>\n",
              "    </tr>\n",
              "  </tbody>\n",
              "</table>\n",
              "</div>\n",
              "      <button class=\"colab-df-convert\" onclick=\"convertToInteractive('df-ae951569-63fb-4386-b219-54c5ef25c1cf')\"\n",
              "              title=\"Convert this dataframe to an interactive table.\"\n",
              "              style=\"display:none;\">\n",
              "        \n",
              "  <svg xmlns=\"http://www.w3.org/2000/svg\" height=\"24px\"viewBox=\"0 0 24 24\"\n",
              "       width=\"24px\">\n",
              "    <path d=\"M0 0h24v24H0V0z\" fill=\"none\"/>\n",
              "    <path d=\"M18.56 5.44l.94 2.06.94-2.06 2.06-.94-2.06-.94-.94-2.06-.94 2.06-2.06.94zm-11 1L8.5 8.5l.94-2.06 2.06-.94-2.06-.94L8.5 2.5l-.94 2.06-2.06.94zm10 10l.94 2.06.94-2.06 2.06-.94-2.06-.94-.94-2.06-.94 2.06-2.06.94z\"/><path d=\"M17.41 7.96l-1.37-1.37c-.4-.4-.92-.59-1.43-.59-.52 0-1.04.2-1.43.59L10.3 9.45l-7.72 7.72c-.78.78-.78 2.05 0 2.83L4 21.41c.39.39.9.59 1.41.59.51 0 1.02-.2 1.41-.59l7.78-7.78 2.81-2.81c.8-.78.8-2.07 0-2.86zM5.41 20L4 18.59l7.72-7.72 1.47 1.35L5.41 20z\"/>\n",
              "  </svg>\n",
              "      </button>\n",
              "      \n",
              "  <style>\n",
              "    .colab-df-container {\n",
              "      display:flex;\n",
              "      flex-wrap:wrap;\n",
              "      gap: 12px;\n",
              "    }\n",
              "\n",
              "    .colab-df-convert {\n",
              "      background-color: #E8F0FE;\n",
              "      border: none;\n",
              "      border-radius: 50%;\n",
              "      cursor: pointer;\n",
              "      display: none;\n",
              "      fill: #1967D2;\n",
              "      height: 32px;\n",
              "      padding: 0 0 0 0;\n",
              "      width: 32px;\n",
              "    }\n",
              "\n",
              "    .colab-df-convert:hover {\n",
              "      background-color: #E2EBFA;\n",
              "      box-shadow: 0px 1px 2px rgba(60, 64, 67, 0.3), 0px 1px 3px 1px rgba(60, 64, 67, 0.15);\n",
              "      fill: #174EA6;\n",
              "    }\n",
              "\n",
              "    [theme=dark] .colab-df-convert {\n",
              "      background-color: #3B4455;\n",
              "      fill: #D2E3FC;\n",
              "    }\n",
              "\n",
              "    [theme=dark] .colab-df-convert:hover {\n",
              "      background-color: #434B5C;\n",
              "      box-shadow: 0px 1px 3px 1px rgba(0, 0, 0, 0.15);\n",
              "      filter: drop-shadow(0px 1px 2px rgba(0, 0, 0, 0.3));\n",
              "      fill: #FFFFFF;\n",
              "    }\n",
              "  </style>\n",
              "\n",
              "      <script>\n",
              "        const buttonEl =\n",
              "          document.querySelector('#df-ae951569-63fb-4386-b219-54c5ef25c1cf button.colab-df-convert');\n",
              "        buttonEl.style.display =\n",
              "          google.colab.kernel.accessAllowed ? 'block' : 'none';\n",
              "\n",
              "        async function convertToInteractive(key) {\n",
              "          const element = document.querySelector('#df-ae951569-63fb-4386-b219-54c5ef25c1cf');\n",
              "          const dataTable =\n",
              "            await google.colab.kernel.invokeFunction('convertToInteractive',\n",
              "                                                     [key], {});\n",
              "          if (!dataTable) return;\n",
              "\n",
              "          const docLinkHtml = 'Like what you see? Visit the ' +\n",
              "            '<a target=\"_blank\" href=https://colab.research.google.com/notebooks/data_table.ipynb>data table notebook</a>'\n",
              "            + ' to learn more about interactive tables.';\n",
              "          element.innerHTML = '';\n",
              "          dataTable['output_type'] = 'display_data';\n",
              "          await google.colab.output.renderOutput(dataTable, element);\n",
              "          const docLink = document.createElement('div');\n",
              "          docLink.innerHTML = docLinkHtml;\n",
              "          element.appendChild(docLink);\n",
              "        }\n",
              "      </script>\n",
              "    </div>\n",
              "  </div>\n",
              "  "
            ],
            "text/plain": [
              "   ID  answer\n",
              "0   0       1\n",
              "1   1       1\n",
              "2   2       1\n",
              "3   3       1\n",
              "4   4       1"
            ]
          },
          "metadata": {},
          "execution_count": 85
        }
      ]
    },
    {
      "cell_type": "code",
      "source": [
        ""
      ],
      "metadata": {
        "id": "7aG0K6kw88tw"
      },
      "execution_count": null,
      "outputs": []
    }
  ],
  "metadata": {
    "colab": {
      "name": "my_test7.ipynb",
      "provenance": [],
      "collapsed_sections": []
    },
    "kernelspec": {
      "display_name": "Python 3 (ipykernel)",
      "language": "python",
      "name": "python3"
    },
    "language_info": {
      "codemirror_mode": {
        "name": "ipython",
        "version": 3
      },
      "file_extension": ".py",
      "mimetype": "text/x-python",
      "name": "python",
      "nbconvert_exporter": "python",
      "pygments_lexer": "ipython3",
      "version": "3.8.5"
    },
    "accelerator": "GPU"
  },
  "nbformat": 4,
  "nbformat_minor": 0
}