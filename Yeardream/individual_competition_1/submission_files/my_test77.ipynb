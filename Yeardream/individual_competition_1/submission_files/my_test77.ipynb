{
  "cells": [
    {
      "cell_type": "markdown",
      "metadata": {
        "id": "rQKjeiQoB9Wj"
      },
      "source": [
        "## 제출용 (final 기준)"
      ]
    },
    {
      "cell_type": "markdown",
      "metadata": {
        "id": "kVfGd7x_nKp0"
      },
      "source": [
        "한줄요약: 데이터 가공위주로 진행"
      ]
    },
    {
      "cell_type": "code",
      "execution_count": null,
      "metadata": {
        "colab": {
          "base_uri": "https://localhost:8080/"
        },
        "id": "89YysxjHlM-w",
        "outputId": "867d9ac1-24bc-4d4e-b5a5-005e22d4a67e"
      },
      "outputs": [
        {
          "name": "stdout",
          "output_type": "stream",
          "text": [
            "Mounted at /content/drive\n"
          ]
        }
      ],
      "source": [
        "# 라이브러리 임포트\n",
        "import pandas as pd\n",
        "import numpy as np\n",
        "\n",
        "import seaborn as sns\n",
        "import matplotlib\n",
        "import matplotlib.pyplot as plt\n",
        "%matplotlib inline\n",
        "\n",
        "import xgboost\n",
        "from xgboost import XGBClassifier\n",
        "from lightgbm import LGBMClassifier\n",
        "from sklearn.ensemble import RandomForestClassifier,StackingClassifier\n",
        "from sklearn.model_selection import train_test_split, RepeatedStratifiedKFold, GridSearchCV, StratifiedKFold\n",
        "import sklearn.metrics as metrics\n",
        "from sklearn.metrics import accuracy_score, precision_score, recall_score, f1_score, roc_auc_score, roc_curve, auc, confusion_matrix, classification_report\n",
        "from sklearn.preprocessing import StandardScaler\n",
        "from sklearn.feature_selection import RFECV\n",
        "\n",
        "import warnings\n",
        "warnings.filterwarnings('ignore')\n",
        "\n",
        "from google.colab import drive\n",
        "drive.mount('/content/drive')"
      ]
    },
    {
      "cell_type": "markdown",
      "metadata": {
        "id": "C3gyLZ8JlNOQ"
      },
      "source": [
        "## Pre-processing Data"
      ]
    },
    {
      "cell_type": "code",
      "execution_count": null,
      "metadata": {
        "id": "uQms3IYcZpid"
      },
      "outputs": [],
      "source": [
        "df = pd.read_csv('/content/drive/MyDrive/competition_1st/train.csv')"
      ]
    },
    {
      "cell_type": "code",
      "execution_count": null,
      "metadata": {
        "id": "5uodzC_12mGW"
      },
      "outputs": [],
      "source": [
        "def pre_proc_data(my_df):\n",
        "    #####-----------------새로운 컬럼 먼저생성-----------------#####\n",
        "    my_df['my_ft1'] = my_df['int_rate']*my_df['dti']\n",
        "    my_df['my_ft2'] = np.log(my_df['annual_inc']*my_df['fico_range_low'])\n",
        "    my_df['my_ft4'] = my_df['int_rate']*my_df['funded_amnt']\n",
        "    my_df['my_ft5'] = my_df['int_rate']*my_df['dti']/np.log(df['tot_cur_bal']*my_df['fico_range_low'])\n",
        "    my_df['my_ft6'] = my_df['revol_util']/(my_df['revol_bal']+0.0000001)\n",
        "    my_df['my_ft7'] = my_df['int_rate']*my_df['funded_amnt']/np.log(my_df['tot_cur_bal']*my_df['fico_range_low']+2)\n",
        "    my_df['my_ft9'] = np.log(my_df['int_rate']*my_df['funded_amnt'])*my_df['dti']\n",
        "    my_df['my_ft11'] = my_df['installment']/ my_df['annual_inc']\n",
        "    my_df['my_ft14'] = my_df['total_rec_int']/my_df['installment']\n",
        "    my_df['my_ft15'] = my_df['delinq_2yrs']+2*my_df['pub_rec']+3*my_df['inq_last_6mths']\n",
        "    my_df['my_ft17'] = (2-(1+np.log(1+my_df['term1'])+0.0001)*np.log(1+my_df['term1'])/(np.log(1+my_df['term1'])+0.0001)\n",
        "                      +2*((1+np.sqrt(np.log(1+my_df['total_rec_late_fee']+0.0001)))*np.log(1+my_df['total_rec_late_fee'])/(np.log(1+my_df['total_rec_late_fee'])+0.0001))\n",
        "                      +(1+1/5*(np.log(1+my_df['collections_12_mths_ex_med'])))*np.log(1+my_df['collections_12_mths_ex_med'])/(np.log(1+my_df['collections_12_mths_ex_med'])+0.0001)\n",
        "                    )\n",
        "    my_df['my_ft18'] = (0.9*(1+np.sqrt(np.log(1+my_df['home_ownership6'])))*np.log(1+my_df['home_ownership6'])/(np.log(1+my_df['home_ownership6'])+0.0001)\n",
        "                          +(1+np.log(1+my_df['verification_status3']))*np.log(1+my_df['verification_status3'])/(np.log(1+my_df['verification_status3'])+0.0001)\n",
        "                          +0.5*(1+np.log(1+my_df['initial_list_status1']))*np.log(1+my_df['initial_list_status1'])/(np.log(1+my_df['initial_list_status1'])+0.0001))\n",
        "    col_list = list(my_df.columns)\n",
        "    col_list[15:27]\n",
        "    emp_list0 = col_list[16:26]\n",
        "    emp_list1 = col_list[15:16]\n",
        "    emp_list2 = col_list[26:27]\n",
        "    my_df['my_ft29'] = int(0)\n",
        "    for col in emp_list1:\n",
        "        my_df['my_ft29'] += my_df[col]\n",
        "    for col in emp_list2:\n",
        "        my_df['my_ft29'] += 2*my_df[col]\n",
        "    msld_list = col_list[52:63]\n",
        "    my_df['my_ft30'] = int(0)\n",
        "    for col in msld_list[1:]:\n",
        "        my_df['my_ft30'] += my_df[col]\n",
        "    #####-----------------불필요한 컬럼 삭제-----------------#####\n",
        "    my_df.drop(['out_prncp_inv', 'funded_amnt_inv', 'purpose4', 'fico_range_high', 'acc_now_delinq'], axis=1, inplace=True)\n",
        "    my_df.drop(['total_acc'], axis=1, inplace=True)\n",
        "    my_df.drop(['emp_length1','emp_length2',  'emp_length3', 'emp_length4',\n",
        "                'emp_length5', 'emp_length6', 'emp_length7', 'emp_length8',\n",
        "                'emp_length9', 'emp_length10', 'emp_length11', 'emp_length12'\n",
        "                ], axis=1, inplace=True)\n",
        "    my_df.drop(['mths_since_last_delinq1','mths_since_last_delinq2',  'mths_since_last_delinq3', 'mths_since_last_delinq4',\n",
        "                'mths_since_last_delinq5', 'mths_since_last_delinq6', 'mths_since_last_delinq7', 'mths_since_last_delinq8',\n",
        "                'mths_since_last_delinq9', 'mths_since_last_delinq10', 'mths_since_last_delinq11'\n",
        "                ], axis=1, inplace=True)\n",
        "    my_df.drop(['home_ownership1',  'home_ownership3', 'home_ownership4',\n",
        "                ], axis=1, inplace=True)\n",
        "    my_df.drop(['purpose11',  'purpose14',\n",
        "                ], axis=1, inplace=True)\n",
        "\n",
        "# public 높은것과 final 높은것 차이점 : public은 my_ft30을 제외, ft30같은 경우 feature정보를 뭉뚱그려줘서 정확도는 떨어지지만 overfitting 영향이 덜함"
      ]
    },
    {
      "cell_type": "code",
      "execution_count": null,
      "metadata": {
        "id": "w2-gg9si4NSU"
      },
      "outputs": [],
      "source": [
        "# 전처리 진행\n",
        "pre_proc_data(df)"
      ]
    },
    {
      "cell_type": "markdown",
      "metadata": {},
      "source": [
        "#### 컬럼 삭제 설명"
      ]
    },
    {
      "cell_type": "code",
      "execution_count": null,
      "metadata": {},
      "outputs": [],
      "source": [
        "'''\n",
        "out_prncp_inv = out_prncp와 완전 동일\n",
        "purpose4는 train과 test 둘 다 값 없음\n",
        "funded_amnt_inv는 funded_amnt와 유의미한 차이가 안보임\n",
        "fico_range_high는 low와 유사하고 채무불이행에는 low가 논리적으로 더 중요하다고 생각. ft_imp도 0에 가까워서 제외\n",
        "chargeoff 는 1:2비율에 숫자도 10만개중 850개정도\n",
        "acc_now_delinq는 유의미 데이터가 10개단위임\n",
        "'''\n",
        "# df=df.drop(['out_prncp_inv', 'funded_amnt_inv', 'purpose4', 'fico_range_high','chargeoff_within_12_mths', 'acc_now_delinq'], axis=1)\n",
        "\n",
        "\n",
        "'''total_acc 는 정확히 모든 구간이 1:2 비율, 다른 컬럼과 연계를 해야 의미가 생기는데, 연계되는 컬럼이 안보여서 제외'''\n",
        "# df=df.drop(['total_acc', 'initial_list_status2'], axis=1)\n",
        "\n",
        "''' my_ft29, my_ft30 생성으로 의미없어진 컬럼 삭제 '''\n",
        "# my_df.drop(['emp_length1','emp_length2',  'emp_length3', 'emp_length4',\n",
        "#                 'emp_length5', 'emp_length6', 'emp_length7', 'emp_length8',\n",
        "#                 'emp_length9', 'emp_length10', 'emp_length11', 'emp_length12'\n",
        "#                 ], axis=1, inplace=True)\n",
        "# df=df.drop(['mths_since_last_delinq1',  'mths_since_last_delinq2', 'mths_since_last_delinq3',\n",
        "#             'mths_since_last_delinq4', 'mths_since_last_delinq5', 'mths_since_last_delinq6',\n",
        "#             'mths_since_last_delinq7', 'mths_since_last_delinq8', 'mths_since_last_delinq9',\n",
        "#             'mths_since_last_delinq10'], axis=1)\n",
        "\n",
        "'''home ownership1,3,4 는 100개 이하 존재, feature importance 0'''\n",
        "'''purpose11,14는 ft_imp = 0 '''\n",
        "\n",
        "# my_df.drop(['home_ownership1',  'home_ownership3', 'home_ownership4',\n",
        "#             ], axis=1, inplace=True)\n",
        "# my_df.drop(['purpose11',  'purpose14',\n",
        "#             ], axis=1, inplace=True)"
      ]
    },
    {
      "cell_type": "markdown",
      "metadata": {
        "id": "CbeuYrDO7RsX"
      },
      "source": [
        "## Train - Valid set 분리 (상황에 맞게 비율 조절, ex-제출용은 99%로 학습)"
      ]
    },
    {
      "cell_type": "code",
      "execution_count": null,
      "metadata": {
        "id": "zIzbCw5zlv2q"
      },
      "outputs": [],
      "source": [
        "X = df.drop('depvar', axis=1)\n",
        "y = df['depvar']\n",
        "\n",
        "# data를 training set과 validation set으로 나누기\n",
        "X_train, X_valid, y_train, y_valid = train_test_split(X, y, test_size=0.2, random_state=42)"
      ]
    },
    {
      "cell_type": "markdown",
      "metadata": {
        "id": "mR9HEpxiUlFb"
      },
      "source": [
        "## 정규화 \n",
        "tree기반 machine learning에서는 의미없음"
      ]
    },
    {
      "cell_type": "code",
      "execution_count": null,
      "metadata": {
        "id": "p848PEKjlvsq"
      },
      "outputs": [],
      "source": [
        "# 정규화 // 오히려 정규화하고 점수 더 안좋아지는 경향\n",
        "\n",
        "X_train_sc = StandardScaler().fit_transform(X_train)\n",
        "X_valid_sc = StandardScaler().fit_transform(X_valid)"
      ]
    },
    {
      "cell_type": "markdown",
      "metadata": {
        "id": "u57GyZB1EpaJ"
      },
      "source": [
        "## SMOTE\n",
        "데이터 증강 -> 오히려 학습방해, 사용안함"
      ]
    },
    {
      "cell_type": "code",
      "execution_count": null,
      "metadata": {
        "colab": {
          "base_uri": "https://localhost:8080/"
        },
        "id": "BG1tBc6qK-iT",
        "outputId": "c81e7cd9-7122-499a-9bef-79ba64574aa1"
      },
      "outputs": [
        {
          "name": "stdout",
          "output_type": "stream",
          "text": [
            "Before OverSampling, counts of label '0': 67368\n",
            "Before OverSampling, counts of label '1': 32532\n"
          ]
        }
      ],
      "source": [
        "# Data 증축 전, 결과 값 비율\n",
        "print(\"Before OverSampling, counts of label '0': {}\".format(sum(y_train==0)))\n",
        "print(\"Before OverSampling, counts of label '1': {}\".format(sum(y_train==1)))"
      ]
    },
    {
      "cell_type": "code",
      "execution_count": null,
      "metadata": {
        "id": "KEo0IgiIEr7V"
      },
      "outputs": [],
      "source": [
        "from imblearn.over_sampling import SMOTE\n",
        "\n",
        "sm = SMOTE(random_state=42) \n",
        "X_train, y_train = sm.fit_resample(X_train, y_train)"
      ]
    },
    {
      "cell_type": "code",
      "execution_count": null,
      "metadata": {
        "colab": {
          "base_uri": "https://localhost:8080/"
        },
        "id": "ubdTUKwjE9oa",
        "outputId": "2c513ba5-f6e4-40c3-ccb5-6d9c0a9ca20a"
      },
      "outputs": [
        {
          "name": "stdout",
          "output_type": "stream",
          "text": [
            "After OverSampling, counts of label '0': 67368\n",
            "After OverSampling, counts of label '1': 67368\n"
          ]
        }
      ],
      "source": [
        "print(\"After OverSampling, counts of label '0': {}\".format(sum(y_train==0)))\n",
        "print(\"After OverSampling, counts of label '1': {}\".format(sum(y_train==1)))"
      ]
    },
    {
      "cell_type": "markdown",
      "metadata": {
        "id": "pbGLf1wWUnh5"
      },
      "source": [
        "## 사용할 평가 함수 정의"
      ]
    },
    {
      "cell_type": "code",
      "execution_count": null,
      "metadata": {
        "id": "xv9cNFBZpe9T"
      },
      "outputs": [],
      "source": [
        "def get_clf_eval(y_actual, y_pred):\n",
        "    accuracy = accuracy_score(y_actual, y_pred)\n",
        "    precision = precision_score(y_actual, y_pred)\n",
        "    recall = recall_score(y_actual, y_pred)\n",
        "    AUC = roc_auc_score(y_actual, y_pred)\n",
        "    F1 = f1_score(y_actual, y_pred)\n",
        "    print('\\n정확도: {:.4f}'.format(accuracy))\n",
        "    print('정밀도: {:.4f}'.format(precision))\n",
        "    print('재현율: {:.4f}'.format(recall))\n",
        "    print('AUC: {:.4f}'.format(AUC))\n",
        "    print('F1: {:.4f}'.format(F1))"
      ]
    },
    {
      "cell_type": "code",
      "execution_count": null,
      "metadata": {
        "id": "_aEv1WVky8_A"
      },
      "outputs": [],
      "source": [
        "def get_clf_eval2(y_actual, y_pred):    \n",
        "    sns.heatmap(confusion_matrix(y_actual, y_pred), annot=True, fmt='d', cmap='YlGnBu')"
      ]
    },
    {
      "cell_type": "markdown",
      "metadata": {
        "id": "YbIX8n5YT7jA"
      },
      "source": [
        "## 하이퍼 파라미터 최적화"
      ]
    },
    {
      "cell_type": "code",
      "execution_count": null,
      "metadata": {
        "colab": {
          "base_uri": "https://localhost:8080/"
        },
        "id": "1PbhPqBNWYcD",
        "outputId": "dbd86b0b-c49b-481c-8f2a-6f48e68c0df3"
      },
      "outputs": [
        {
          "data": {
            "text/plain": [
              "{'max_depth': 16,\n",
              " 'min_samples_leaf': 8,\n",
              " 'min_samples_split': 20,\n",
              " 'n_estimators': 250}"
            ]
          },
          "execution_count": 144,
          "metadata": {},
          "output_type": "execute_result"
        }
      ],
      "source": [
        "# 1. Random Forest\n",
        "rnd_clf = RandomForestClassifier(random_state=42)\n",
        "\n",
        "param_grid = { 'n_estimators' : [250],\n",
        "           'max_depth' : [16],          #[16~18] -> 16\n",
        "           'min_samples_leaf' : [8],    # [8~18] -> 8\n",
        "           'min_samples_split' : [30]   # [8~30] -> 20\n",
        "            }\n",
        "\n",
        "cv=RepeatedStratifiedKFold(n_splits=5, n_repeats=2)\n",
        "grid_search = GridSearchCV(estimator=rnd_clf,\n",
        "                           param_grid=param_grid, \n",
        "                           n_jobs=-1,\n",
        "                           cv=cv) \n",
        "\n",
        "results_rnd=grid_search.fit(X_train, y_train)\n",
        "results_rnd.best_params_"
      ]
    },
    {
      "cell_type": "code",
      "execution_count": null,
      "metadata": {
        "colab": {
          "base_uri": "https://localhost:8080/"
        },
        "id": "lDvOY8BLroq7",
        "outputId": "697d9d9e-c722-41db-9b43-a20b52b87e97"
      },
      "outputs": [
        {
          "data": {
            "text/plain": [
              "RandomForestClassifier(max_depth=16, min_samples_leaf=8, min_samples_split=20,\n",
              "                       n_estimators=250)"
            ]
          },
          "execution_count": 149,
          "metadata": {},
          "output_type": "execute_result"
        }
      ],
      "source": [
        "# Random Forest best parameter를 사용하여 prediction 수행\n",
        "rdn_clf = RandomForestClassifier(max_depth = 16,\n",
        "                                n_estimators = 250,\n",
        "                                min_samples_leaf=8,\n",
        "                                min_samples_split=20,\n",
        "                                ) \n",
        "rdn_clf.fit(X_train, y_train)"
      ]
    },
    {
      "cell_type": "code",
      "execution_count": null,
      "metadata": {
        "id": "j6RBWJPeroon"
      },
      "outputs": [],
      "source": [
        "# Random Forest 평가점수\n",
        "threshold_list = [0.3, 0.31, 0.32, 0.33, 0.34, 0.35, 0.36, 0.37, 0.38, 0.39, 0.40, 0.41, 0.42, 0.43, 0.44]\n",
        "for i in threshold_list:\n",
        "    get_clf_eval(y_valid, rdn_clf.predict_proba(X_valid)[:,1]> i)"
      ]
    },
    {
      "cell_type": "code",
      "execution_count": null,
      "metadata": {
        "colab": {
          "base_uri": "https://localhost:8080/"
        },
        "id": "OuN3m0FMWX6h",
        "outputId": "a518bfe4-17fb-4399-91b7-1965d8078111"
      },
      "outputs": [
        {
          "data": {
            "text/plain": [
              "{'max_depth': 6, 'n_estimators': 200}"
            ]
          },
          "execution_count": 12,
          "metadata": {},
          "output_type": "execute_result"
        }
      ],
      "source": [
        "# 2. XGBoost\n",
        "xgb_clf = XGBClassifier(tree_method='gpu_hist', predictor='gpu_predictor',\n",
        "                        objective='binary:logistic', nthread=-1,\n",
        "                        random_state=42)\n",
        "\n",
        "param_grid = {'max_depth':[6],              # [5~10] -> 6\n",
        "              'n_estimators':[200]          # [150~350]-> 200\n",
        "              }\n",
        "\n",
        "cv=RepeatedStratifiedKFold(n_splits=5, n_repeats=2)\n",
        "grid_search = GridSearchCV(estimator=xgb_clf,\n",
        "                           param_grid=param_grid, \n",
        "                          #  n_jobs=-1,\n",
        "                           cv=cv,\n",
        "                           scoring='roc_auc', \n",
        "                           error_score=0) \n",
        "\n",
        "results_xgb=grid_search.fit(X_train, y_train)\n",
        "results_xgb.best_params_"
      ]
    },
    {
      "cell_type": "code",
      "execution_count": null,
      "metadata": {
        "colab": {
          "base_uri": "https://localhost:8080/"
        },
        "id": "_XBL0BlvreoJ",
        "outputId": "3bfc9261-ca8e-4648-9238-52e111a723fb"
      },
      "outputs": [
        {
          "data": {
            "text/plain": [
              "XGBClassifier(eval_metric='logloss', max_depth=6, n_estimators=200, nthread=-1,\n",
              "              predictor='gpu_predictor', random_state=42)"
            ]
          },
          "execution_count": 56,
          "metadata": {},
          "output_type": "execute_result"
        }
      ],
      "source": [
        "# XGB best parameter를 사용하여 prediction 수행\n",
        "xgb_clf = XGBClassifier(max_depth = results_xgb.best_params_['max_depth'],\n",
        "                        n_estimators = 200,\n",
        "                        eval_metric='logloss', predictor='gpu_predictor',\n",
        "                        objective='binary:logistic', nthread=-1,\n",
        "                        random_state=42) \n",
        "\n",
        "xgb_clf.fit(X_train, y_train)"
      ]
    },
    {
      "cell_type": "code",
      "execution_count": null,
      "metadata": {
        "id": "8d-xUkdXremC"
      },
      "outputs": [],
      "source": [
        "# XGB 평가점수\n",
        "threshold_list = [0.3, 0.31, 0.32, 0.33, 0.34, 0.35, 0.36, 0.37, 0.38, 0.39, 0.40, 0.41, 0.42, 0.43, 0.44]\n",
        "for i in threshold_list:\n",
        "    get_clf_eval(y_valid, xgb_clf.predict_proba(X_valid)[:,1]> i)"
      ]
    },
    {
      "cell_type": "code",
      "execution_count": null,
      "metadata": {
        "id": "GNYHf5mGX66c"
      },
      "outputs": [],
      "source": [
        "# 3. Light GBM\n",
        "lgbm_clf = LGBMClassifier()\n",
        "\n",
        "param_grid = {'max_depth':[13],     #[5~17] -> 13\n",
        "              'n_estimators':[280]  #[100~300] -> 280\n",
        "              }\n",
        "\n",
        "cv=RepeatedStratifiedKFold(n_splits=5, n_repeats=2)\n",
        "grid_search = GridSearchCV(estimator=lgbm_clf,\n",
        "                           param_grid=param_grid, \n",
        "                           n_jobs=-1,\n",
        "                           cv=cv,\n",
        "                           scoring='roc_auc', \n",
        "                           error_score=0) \n",
        "\n",
        "results_lgbm = grid_search.fit(X_train, y_train)\n",
        "results_lgbm.best_params_"
      ]
    },
    {
      "cell_type": "code",
      "execution_count": null,
      "metadata": {
        "colab": {
          "base_uri": "https://localhost:8080/"
        },
        "id": "fJOMiJVirJuG",
        "outputId": "209dd127-ba17-4ee0-d41d-5019cba45851"
      },
      "outputs": [
        {
          "data": {
            "text/plain": [
              "LGBMClassifier(eval_metric='logloss', max_depth=15, n_estimators=280,\n",
              "               random_state=42)"
            ]
          },
          "execution_count": 58,
          "metadata": {},
          "output_type": "execute_result"
        }
      ],
      "source": [
        "# LGBM best parameter를 사용하여 prediction 수행\n",
        "lgbm_clf = LGBMClassifier(max_depth = results_lgbm.best_params_['max_depth'],\n",
        "                                n_estimators = results_lgbm.best_params_['n_estimators'],\n",
        "                                eval_metric='logloss', random_state=42)\n",
        "\n",
        "lgbm_clf.fit(X_train, y_train)"
      ]
    },
    {
      "cell_type": "code",
      "execution_count": null,
      "metadata": {
        "id": "vepE1y18rJr9"
      },
      "outputs": [],
      "source": [
        "# LGBM 평가점수\n",
        "threshold_list = [0.3, 0.31, 0.32, 0.33, 0.34, 0.35, 0.36, 0.37, 0.38, 0.39, 0.40, 0.41, 0.42, 0.43, 0.44]\n",
        "for i in threshold_list:\n",
        "    get_clf_eval(y_valid, lgbm_clf.predict_proba(X_valid)[:,1]> i)"
      ]
    },
    {
      "cell_type": "markdown",
      "metadata": {
        "id": "74RD4h3bOXtJ"
      },
      "source": [
        "## 각 classifier의 feature 중요도\n",
        "-새로만든 컬럼이 score상승에 의미가 있는지 판단"
      ]
    },
    {
      "cell_type": "code",
      "execution_count": null,
      "metadata": {
        "id": "s_1Xdh1WK_v2"
      },
      "outputs": [],
      "source": [
        "# Feature 중요도 구하기\n",
        "def feat_importance(model, df):\n",
        "    return pd.DataFrame({'cols':df.columns, 'imp':model.feature_importances_}).sort_values('imp', ascending=False)\n",
        "\n",
        "X_train, X_valid, y_train, y_valid = train_test_split(X, y, test_size=0.001, random_state=42)"
      ]
    },
    {
      "cell_type": "code",
      "execution_count": null,
      "metadata": {
        "colab": {
          "base_uri": "https://localhost:8080/"
        },
        "id": "8Vu61ZClKkFH",
        "outputId": "dd463ef2-8fa4-4d03-f6d0-d2856c68f0a0"
      },
      "outputs": [
        {
          "data": {
            "text/plain": [
              "RandomForestClassifier(max_depth=16, n_estimators=250, n_jobs=-1,\n",
              "                       random_state=42)"
            ]
          },
          "execution_count": 82,
          "metadata": {},
          "output_type": "execute_result"
        }
      ],
      "source": [
        "rnd_clf = RandomForestClassifier(max_depth=16, n_estimators=250, random_state=42, n_jobs=-1)\n",
        "rnd_clf.fit(X_train, y_train)"
      ]
    },
    {
      "cell_type": "code",
      "execution_count": null,
      "metadata": {
        "colab": {
          "base_uri": "https://localhost:8080/",
          "height": 1000
        },
        "id": "fx8ieovrJV96",
        "outputId": "9c83bda7-4825-4573-a5f0-b830480c7cb6"
      },
      "outputs": [],
      "source": [
        "rnd_fi = feat_importance(rnd_clf, df.drop(columns=['depvar']))\n",
        "# Feature importance 시각화\n",
        "idx = np.arange(len(rnd_fi.cols))\n",
        "plt.figure(figsize=(12, 22))\n",
        "plt.barh(idx, rnd_fi.imp, align='center')\n",
        "plt.yticks(idx, rnd_fi.cols)\n",
        "plt.xlabel('feature importance', size=15)\n",
        "plt.ylabel('feature', size=15)\n",
        "plt.show()"
      ]
    },
    {
      "cell_type": "code",
      "execution_count": null,
      "metadata": {
        "colab": {
          "base_uri": "https://localhost:8080/"
        },
        "id": "D0LnWV3vKx0b",
        "outputId": "b7d5a9dc-a6e0-4994-a486-ddd38885cdd9"
      },
      "outputs": [
        {
          "data": {
            "text/plain": [
              "LGBMClassifier(max_depth=6, n_estimators=200, random_state=42)"
            ]
          },
          "execution_count": 85,
          "metadata": {},
          "output_type": "execute_result"
        }
      ],
      "source": [
        "lgbm_clf = LGBMClassifier(max_depth=6, n_estimators=200, random_state=42)\n",
        "lgbm_clf.fit(X_train, y_train)"
      ]
    },
    {
      "cell_type": "code",
      "execution_count": null,
      "metadata": {
        "colab": {
          "base_uri": "https://localhost:8080/"
        },
        "id": "HmPooV00LjfQ",
        "outputId": "71e84a43-2b89-490f-ca5e-caba63637ea8"
      },
      "outputs": [],
      "source": [
        "lgbm_fi = feat_importance(lgbm_clf, df.drop(columns=['depvar']))\n",
        "# Feature importance 시각화\n",
        "idx = np.arange(len(lgbm_fi.cols))\n",
        "plt.figure(figsize=(12, 22))\n",
        "plt.barh(idx, lgbm_fi.imp, align='center')\n",
        "plt.yticks(idx, lgbm_fi.cols)\n",
        "plt.xlabel('feature importance', size=15)\n",
        "plt.ylabel('feature', size=15)\n",
        "plt.show()"
      ]
    },
    {
      "cell_type": "code",
      "execution_count": null,
      "metadata": {
        "colab": {
          "base_uri": "https://localhost:8080/"
        },
        "id": "a1yUee0HK31j",
        "outputId": "9a1d9dc5-2879-4449-a2dd-55836a976a16"
      },
      "outputs": [
        {
          "data": {
            "text/plain": [
              "XGBClassifier(max_depth=7, n_estimators=250, nthread=-1,\n",
              "              predictor='gpu_predictor', random_state=42,\n",
              "              tree_method='gpu_hist')"
            ]
          },
          "execution_count": 87,
          "metadata": {},
          "output_type": "execute_result"
        }
      ],
      "source": [
        "xgb_clf = XGBClassifier(max_depth=7, n_estimators=250, \n",
        "                        objective='binary:logistic', nthread=-1,\n",
        "                        random_state=42, tree_method='gpu_hist', predictor='gpu_predictor')\n",
        "xgb_clf.fit(X_train, y_train, eval_metric='logloss')"
      ]
    },
    {
      "cell_type": "code",
      "execution_count": null,
      "metadata": {
        "colab": {
          "base_uri": "https://localhost:8080/"
        },
        "id": "AnOP-tbDLyxD",
        "outputId": "b5b3f3a3-2584-4ae4-f3dc-1a2f4b8999e6"
      },
      "outputs": [
        {
          "data": {
            "image/png": "[encoded data removed]",
            "text/plain": [
              "<Figure size 864x1584 with 1 Axes>"
            ]
          },
          "metadata": {
            "needs_background": "light"
          },
          "output_type": "display_data"
        }
      ],
      "source": [
        "xgb_fi = feat_importance(xgb_clf, df.drop(columns=['depvar']))\n",
        "# Feature importance 시각화\n",
        "idx = np.arange(len(xgb_fi.cols))\n",
        "plt.figure(figsize=(12, 22))\n",
        "plt.barh(idx, xgb_fi.imp, align='center')\n",
        "plt.yticks(idx, xgb_fi.cols)\n",
        "plt.xlabel('feature importance', size=15)\n",
        "plt.ylabel('feature', size=15)\n",
        "plt.show()"
      ]
    },
    {
      "cell_type": "markdown",
      "metadata": {
        "id": "V5hGqI6AEvKz"
      },
      "source": [
        "Feature 갯수에 따른 accuracy 확인"
      ]
    },
    {
      "cell_type": "code",
      "execution_count": null,
      "metadata": {
        "id": "YIu_Jey_XxpY"
      },
      "outputs": [],
      "source": [
        "min_features_to_select = 20\n",
        "rfecv = RFECV(\n",
        "    estimator=xgb_clf,  #xgb\n",
        "    step=1,\n",
        "    cv=StratifiedKFold(2),\n",
        "    scoring='accuracy',\n",
        "    min_features_to_select=min_features_to_select,\n",
        ")\n",
        "rfecv.fit(X_train, y_train)\n",
        "\n",
        "print(\"최적 feature 갯수 : %d\" % rfecv.n_features_)\n",
        "\n",
        "plt.figure()\n",
        "plt.xlabel(\"feature 수\")\n",
        "plt.ylabel(\"Cross validation score (accuracy)\")\n",
        "plt.plot(\n",
        "    range(min_features_to_select, len(rfecv.grid_scores_) + min_features_to_select),\n",
        "    rfecv.grid_scores_,\n",
        ")\n",
        "plt.show()"
      ]
    },
    {
      "cell_type": "code",
      "execution_count": null,
      "metadata": {
        "id": "nChoegrKcl_o"
      },
      "outputs": [],
      "source": [
        "min_features_to_select = 20\n",
        "rfecv = RFECV(\n",
        "    estimator=lgbm_clf, #lgbm\n",
        "    step=1,\n",
        "    cv=StratifiedKFold(2),\n",
        "    scoring='accuracy',\n",
        "    min_features_to_select=min_features_to_select,\n",
        ")\n",
        "rfecv.fit(X_train, y_train)\n",
        "\n",
        "print(\"Optimal number of features : %d\" % rfecv.n_features_)\n",
        "\n",
        "plt.figure()\n",
        "plt.xlabel(\"Number of features selected\")\n",
        "plt.ylabel(\"Cross validation score (accuracy)\")\n",
        "plt.plot(\n",
        "    range(min_features_to_select, len(rfecv.grid_scores_) + min_features_to_select),\n",
        "    rfecv.grid_scores_,\n",
        ")\n",
        "plt.show()"
      ]
    },
    {
      "cell_type": "markdown",
      "metadata": {
        "id": "EG-1bRP4O9mZ"
      },
      "source": [
        "## 앙상블 fitting"
      ]
    },
    {
      "cell_type": "code",
      "execution_count": null,
      "metadata": {
        "id": "1sieJcyTFSJz"
      },
      "outputs": [],
      "source": [
        "# 최적화 한걸로 ensemble 진행\n",
        "rnd_clf = RandomForestClassifier(max_depth = 16,\n",
        "                                n_estimators = 250,\n",
        "                                min_samples_leaf=8,\n",
        "                                min_samples_split=20)\n",
        "\n",
        "lgbm_clf =  LGBMClassifier(max_depth=15, num_leaves = int(0.7*2**(15)), n_estimators=280, objective='binary', random_state=42)\n",
        "\n",
        "xgb_clf = XGBClassifier(max_depth=6, n_estimators=200, random_state=42,\n",
        "                        objective='binary:logistic',\n",
        "                        tree_method='gpu_hist', predictor='gpu_predictor')\n",
        "\n",
        "xgb_clf2 = XGBClassifier(max_depth=12, objective='binary:logistic',\n",
        "                        tree_method='gpu_hist', predictor='gpu_predictor', random_state=42)\n",
        "\n",
        "stacking_clf = StackingClassifier(estimators = [ ('lgbm', lgbm_clf), ('xgb', xgb_clf)\n",
        "                                                ,('rnd', rnd_clf)\n",
        "                                                ,('xgb2', xgb_clf2)\n",
        "                                                ],\n",
        "                                  cv = StratifiedKFold(n_splits=5, random_state=42, shuffle=True),\n",
        "                                  final_estimator = LGBMClassifier(objective='binary',random_state=42))\n",
        "\n",
        "stacking_clf.fit(X_train, y_train)"
      ]
    },
    {
      "cell_type": "markdown",
      "metadata": {
        "id": "PHDpL-_3sYAZ"
      },
      "source": [
        "## Test / Train 비율 조절"
      ]
    },
    {
      "cell_type": "code",
      "execution_count": null,
      "metadata": {
        "id": "G0CguSRfGmJI"
      },
      "outputs": [],
      "source": [
        "X = df.drop('depvar', axis=1)\n",
        "y = df['depvar']\n",
        "\n",
        "X_train, X_valid, y_train, y_valid = train_test_split(X, y, test_size=0.2, random_state=42)"
      ]
    },
    {
      "cell_type": "code",
      "execution_count": null,
      "metadata": {
        "id": "TvXLYonyscvK"
      },
      "outputs": [],
      "source": [
        "X = df.drop('depvar', axis=1)\n",
        "y = df['depvar']\n",
        "\n",
        "X_train, X_valid, y_train, y_valid = train_test_split(X, y, test_size=0.001, random_state=42)"
      ]
    },
    {
      "cell_type": "code",
      "execution_count": null,
      "metadata": {
        "id": "tIW2IiuvsbD1"
      },
      "outputs": [],
      "source": [
        "X = df.drop('depvar', axis=1)\n",
        "y = df['depvar']\n",
        "\n",
        "X_train, X_valid, y_train, y_valid = train_test_split(X, y, test_size=0.36, random_state=42)"
      ]
    },
    {
      "cell_type": "markdown",
      "metadata": {
        "id": "Zha5R9V6OcZH"
      },
      "source": [
        "## validation 진행"
      ]
    },
    {
      "cell_type": "code",
      "execution_count": null,
      "metadata": {
        "id": "wLXDYcsD0G_0"
      },
      "outputs": [],
      "source": [
        "threshold_list = [0.3, 0.31, 0.32, 0.33, 0.34, 0.35, 0.36, 0.37, 0.38, 0.39, 0.40]\n",
        "for i in threshold_list:\n",
        "    get_clf_eval(y_valid, stacking_clf.predict_proba(X_valid)[:,1]> i)\n",
        "\n",
        "\n",
        "heatmap_list = [0.38]\n",
        "for i in heatmap_list:\n",
        "    get_clf_eval2(y_valid, stacking_clf.predict_proba(X_valid)[:,1]> i)"
      ]
    },
    {
      "cell_type": "markdown",
      "metadata": {
        "id": "atMIP9SjXzV_"
      },
      "source": [
        "## 제출"
      ]
    },
    {
      "cell_type": "code",
      "execution_count": null,
      "metadata": {
        "id": "2MLQtyJ2GbPB"
      },
      "outputs": [],
      "source": [
        "def submission(df, sub, th):\n",
        "    threshold = th\n",
        "    submit = sub\n",
        "    submit['answer'] = stacking_clf.predict_proba(df_test.drop(columns=['ID']))[:,1]> threshold\n",
        "    change = {True:1, False:0}\n",
        "    submit.answer = submit.answer.map(change)\n",
        "    return submit"
      ]
    },
    {
      "cell_type": "code",
      "execution_count": null,
      "metadata": {
        "id": "mPnPuECMGYGG"
      },
      "outputs": [],
      "source": [
        "# 제출 양식 다운로드\n",
        "df_test = pd.read_csv('/content/drive/MyDrive/competition_1st/test.csv')\n",
        "submit = pd.read_csv('/content/drive/MyDrive/competition_1st/sample_submission.csv')\n",
        "\n",
        "# test파일에도 위에서 했던 전처리 진행\n",
        "pre_proc_data(df_test)\n",
        "\n",
        "# 제출 답안 작성 (predict)\n",
        "submit = submission(df_test, submit, 0.39)"
      ]
    },
    {
      "cell_type": "code",
      "execution_count": null,
      "metadata": {
        "colab": {
          "base_uri": "https://localhost:8080/"
        },
        "id": "4g631yTQHXhW",
        "outputId": "2c0fbbce-8cad-4cd5-e267-fa88fbf2adb0"
      },
      "outputs": [
        {
          "data": {
            "text/plain": [
              "0    21343\n",
              "1    14473\n",
              "Name: answer, dtype: int64"
            ]
          },
          "execution_count": 12,
          "metadata": {},
          "output_type": "execute_result"
        }
      ],
      "source": [
        "submit.answer.value_counts()"
      ]
    },
    {
      "cell_type": "code",
      "execution_count": null,
      "metadata": {
        "id": "UTXN4QY-GfY7"
      },
      "outputs": [],
      "source": [
        "# 제출 파일 저장\n",
        "submit.to_csv('/content/drive/MyDrive/competition_1st/submission_X.csv', index=False)"
      ]
    }
  ],
  "metadata": {
    "accelerator": "GPU",
    "colab": {
      "collapsed_sections": [
        "mR9HEpxiUlFb",
        "u57GyZB1EpaJ",
        "DpHs22g27bqN",
        "f3B9b4Xi6Vcp"
      ],
      "machine_shape": "hm",
      "name": "my_test77.ipynb",
      "provenance": []
    },
    "kernelspec": {
      "display_name": "Python 3 (ipykernel)",
      "language": "python",
      "name": "python3"
    },
    "language_info": {
      "codemirror_mode": {
        "name": "ipython",
        "version": 3
      },
      "file_extension": ".py",
      "mimetype": "text/x-python",
      "name": "python",
      "nbconvert_exporter": "python",
      "pygments_lexer": "ipython3",
      "version": "3.8.5"
    }
  },
  "nbformat": 4,
  "nbformat_minor": 0
}
