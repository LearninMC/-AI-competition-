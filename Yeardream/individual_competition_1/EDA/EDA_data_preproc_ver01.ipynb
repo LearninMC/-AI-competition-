{
  "cells": [
    {
      "cell_type": "code",
      "execution_count": 83,
      "metadata": {
        "colab": {
          "base_uri": "https://localhost:8080/"
        },
        "id": "89YysxjHlM-w",
        "outputId": "c61d4562-0e78-44bb-9626-59a2e1eb8a62"
      },
      "outputs": [
        {
          "output_type": "stream",
          "name": "stdout",
          "text": [
            "Drive already mounted at /content/drive; to attempt to forcibly remount, call drive.mount(\"/content/drive\", force_remount=True).\n"
          ]
        }
      ],
      "source": [
        "# 라이브러리 임포트\n",
        "import pandas as pd\n",
        "import numpy as np\n",
        "\n",
        "import seaborn as sns\n",
        "import matplotlib\n",
        "import matplotlib.pyplot as plt\n",
        "%matplotlib inline\n",
        "\n",
        "import xgboost\n",
        "from xgboost import XGBClassifier\n",
        "from lightgbm import LGBMClassifier\n",
        "\n",
        "from sklearn.svm import SVC\n",
        "from sklearn.tree import DecisionTreeClassifier\n",
        "from sklearn.neighbors import KNeighborsClassifier\n",
        "from sklearn.ensemble import RandomForestClassifier, AdaBoostClassifier, ExtraTreesClassifier, BaggingClassifier, GradientBoostingClassifier, VotingClassifier, StackingClassifier\n",
        "from sklearn.linear_model import LogisticRegression, LinearRegression, Ridge, RidgeCV, RidgeClassifier\n",
        "from sklearn.model_selection import train_test_split, RepeatedStratifiedKFold, GridSearchCV\n",
        "import sklearn.metrics as metrics\n",
        "from sklearn.metrics import accuracy_score, precision_score, recall_score, f1_score, roc_auc_score, roc_curve, auc, confusion_matrix\n",
        "from sklearn.preprocessing import StandardScaler\n",
        "\n",
        "from torch import Tensor\n",
        "import torch\n",
        "import torch.nn as nn\n",
        "DEVICE = torch.device('cuda' if torch.cuda.is_available() else 'cpu')\n",
        "from torch.utils.data import Dataset\n",
        "from torch.utils.data import DataLoader\n",
        "\n",
        "import warnings\n",
        "warnings.filterwarnings('ignore')\n",
        "\n",
        "from google.colab import drive\n",
        "drive.mount('/content/drive')"
      ]
    },
    {
      "cell_type": "code",
      "source": [
        "# !unzip '/content/drive/MyDrive/competition_1st/data.zip'"
      ],
      "metadata": {
        "id": "DnqAAbQp8AVY"
      },
      "execution_count": null,
      "outputs": []
    },
    {
      "cell_type": "markdown",
      "metadata": {
        "id": "8IUXKgjWG-rB"
      },
      "source": [
        "# EDA"
      ]
    },
    {
      "cell_type": "markdown",
      "metadata": {
        "id": "gETbIfKttNXq"
      },
      "source": [
        "## 변수 설명\n",
        "  - **int_rate** : 대출자에 부여된 이자율 (Interest rate of the loan the applicant received)\n",
        "  - **annual_inc** : 연 소득 (annual income)\n",
        "  - **dti** : 소득 대비 부채 비율 (Debt-to-income ratio)\n",
        "  - **delinq_2yrs** : 지난 2년 간 체납 발생 횟수 (Delinquencies on lines of credit in the last 2 years)\n",
        "  - **inq_last_6mths** : 지난 6개월 간 신용 조회 수 (Inquiries into the applicant's credit during the last 6 months)\n",
        "  - **pub_rec** : 파산 횟수 (Number of bankruptcies listed in the public record)\n",
        "  - **revol_bal** : 리볼빙 잔액 (Total credit revolving balance)\n",
        "  - **total_acc** : 지금까지 소유했던 신용카드 개수 (num_total_cc_accounts : Total number of credit card accounts in the applicant's history)\n",
        "  - **collections_12_mths_ex_med** : 의료부문을 제외한 지난 12개월 간 추심 발생 횟수 (num_collections_last_12m : Number of collections in the last 12 months. This excludes medical collections)\n",
        "  - **acc_now_delinq** : 대출자가 체납 상태에 있지 않은 계좌의 수 (The number of accounts on which the borrower is now delinquent)\n",
        "  - **tot_coll_amt** : 대출자에 대한 현재까지의 총 추심액 (total_collection_amount_ever : The total amount that the applicant has had against them in collections)\n",
        "  - **tot_cur_bal** : 전 계좌의 현재 통합 잔고 (Total current balance of all accounts)\n",
        "  - **chargeoff_within_12_mths** : 대출 부 신청인의 대출 신청 직전 12개월 간 세금 공제 횟수 (Number of charge-offs within last 12 months at time of application for the secondary applicant)\n",
        "  - **delinq_amnt** : 체납 금액 (delinquency amount)\n",
        "  - **tax_liens** : 세금 저당권의 수 (Number of tax liens)\n",
        "  - **emp_length1 ~ 12** : 고용 연수 (Number of years in the job)\n",
        "  - **home_ownership1 ~ 6** : 대출 신청자의 주거 소유 형태 (The ownership status of the applicant's residence)\n",
        "  - **verification_status1 ~ 3** : 공동 소득 발생 여부 및 형태 (verification_income_joint : Type of verification of the joint income)\n",
        "  - **purpose1 ~ 14** : 대출 목적 (The purpose of the loan)\n",
        "  - **initial_list_status1 ~ 2** : 최초 대출 상태 (Initial listing status of the loan)\n",
        "  - **mths_since_last_delinq1 ~ 11** : 마지막 체납이 지금으로부터 몇개월 전에 있었는지를 나타내는 변수 (Months since the last delinquency)\n",
        "  \n",
        "  - **funded_amnt** : 대출액 (Funded amount)\n",
        "  - **funded_amnt_inv** : 사채 대출액 (Funded amount by investors)\n",
        "  - **total_rec_late_fee** : 총 연체료 중 납부액 (Late fees received to date)\n",
        "  - **term1** : 상환 기간 (The number of payments on the loan. Values are in months and can be either 36 or 60)\n",
        "  - **open_acc** : 개설 개좌 수 (The number of open credit lines in the borrower's credit file)\n",
        "  - **installment** : 대출 발생 시 월 상환액 (The monthly payment owed by the borrower if the loan originates)\n",
        "  - **revol_util** : 리볼빙 한도 대비 리볼빙 사용 비율 (Revolving line utilization rate, or the amount of credit the borrower is using relative to all available revolving credit)\n",
        "  - **out_prncp** : 대출액 중 원리금 잔액 (Remaining outstanding principal for total amount funded)\n",
        "  - **out_prncp_inv** : 사채 대출액 중 원리금 잔액 (Remaining outstanding principal for total amount funded by investors)\n",
        "  - **total_rec_int** : 이자 상환액 (Interest received to date)\n",
        "  - **fico_range_low** : FICO(일종의 신용점수) 최저값 (The lower boundary range the borrower’s FICO at loan origination belongs to)\n",
        "  - **fico_range_high** : FICO(일종의 신용점수) 최고값 (The upper boundary range the borrower’s FICO at loan origination belongs to)\n",
        "  \n",
        "  - **depvar** : 고객의 부도 여부 (dependent variable)"
      ]
    },
    {
      "cell_type": "code",
      "execution_count": 2,
      "metadata": {
        "id": "d99i4isHtNXr"
      },
      "outputs": [],
      "source": [
        "df = pd.read_csv('/content/drive/MyDrive/competition_1st/train.csv')"
      ]
    },
    {
      "cell_type": "code",
      "execution_count": 3,
      "metadata": {
        "id": "eiimcNADlPRg",
        "tags": []
      },
      "outputs": [],
      "source": [
        "# df.info()"
      ]
    },
    {
      "cell_type": "code",
      "execution_count": 4,
      "metadata": {
        "id": "nnVGUuUElPUA"
      },
      "outputs": [],
      "source": [
        "# df.describe()"
      ]
    },
    {
      "cell_type": "code",
      "execution_count": 6,
      "metadata": {
        "id": "Pxj9WeWvKFnf"
      },
      "outputs": [],
      "source": [
        "# 결측치 확인\n",
        "# pd.DataFrame(df.isnull().sum()).rename(columns={0:'Non-Null Count'}).T"
      ]
    },
    {
      "cell_type": "code",
      "execution_count": 5,
      "metadata": {
        "colab": {
          "base_uri": "https://localhost:8080/"
        },
        "id": "OgE0JYkytNXw",
        "outputId": "bfbd756b-888b-48d1-8698-c6d6559c72a8"
      },
      "outputs": [
        {
          "output_type": "stream",
          "name": "stdout",
          "text": [
            "y=1 ratio : 0.32569\n"
          ]
        }
      ],
      "source": [
        "# 라벨(depvar) 비율 확인\n",
        "print('y=1 ratio :', df.depvar.sum()/len(df))"
      ]
    },
    {
      "cell_type": "markdown",
      "source": [
        "### 의사결정나무 특징 중요도 파악"
      ],
      "metadata": {
        "id": "2ocEwlA9M8Fj"
      }
    },
    {
      "cell_type": "code",
      "source": [
        "dcs_tree_clf = DecisionTreeClassifier(random_state=0)\n",
        "dcs_tree_clf.fit(df.drop(columns=['depvar']), df['depvar'])\n",
        "dcs_tree_clf.score(df.drop(columns=['depvar']), df['depvar'])"
      ],
      "metadata": {
        "colab": {
          "base_uri": "https://localhost:8080/"
        },
        "id": "4aFtwWKB3TG6",
        "outputId": "e738df9c-ce7c-4a9a-e508-77e16531cfa5"
      },
      "execution_count": 7,
      "outputs": [
        {
          "output_type": "execute_result",
          "data": {
            "text/plain": [
              "1.0"
            ]
          },
          "metadata": {},
          "execution_count": 7
        }
      ]
    },
    {
      "cell_type": "code",
      "source": [
        "feature_imp = dcs_tree_clf.feature_importances_\n",
        "idx = np.arange(len(df.drop(columns=['depvar']).columns))\n",
        "\n",
        "plt.figure(figsize=(12, 50))\n",
        "plt.barh(idx, feature_imp, align='center')\n",
        "plt.yticks(idx, df.drop(columns=['depvar']).columns)\n",
        "plt.xlabel('feature importance', size=15)\n",
        "plt.ylabel('feature', size=15)\n",
        "plt.show()"
      ],
      "metadata": {
        "colab": {
          "base_uri": "https://localhost:8080/",
          "height": 1000
        },
        "id": "7kr9ySrz3TjO",
        "outputId": "1e30d20a-59b8-4971-f89a-98fce9270aac"
      },
      "execution_count": 10,
      "outputs": [
        {
          "output_type": "display_data",
          "data": {
            "image/png": "[encoded data removed]",
            "text/plain": [
              "<Figure size 864x3600 with 1 Axes>"
            ]
          },
          "metadata": {
            "needs_background": "light"
          }
        }
      ]
    },
    {
      "cell_type": "code",
      "source": [
        "print(len(feature_imp)) # 특징 갯수\n",
        "print(type(feature_imp))\n",
        "print(sum(feature_imp))\n",
        "print(1/75) # 0.015 이하는 버릴 예정"
      ],
      "metadata": {
        "colab": {
          "base_uri": "https://localhost:8080/"
        },
        "id": "Q3xfn6HU3TqF",
        "outputId": "becb1d7f-17df-4a1f-ca26-7e6de752f7a8"
      },
      "execution_count": 75,
      "outputs": [
        {
          "output_type": "stream",
          "name": "stdout",
          "text": [
            "75\n",
            "<class 'numpy.ndarray'>\n",
            "1.0000000000000004\n",
            "0.013333333333333334\n"
          ]
        }
      ]
    },
    {
      "cell_type": "code",
      "source": [
        "for_del_idx = [i if (_<0.015) else None for i, _ in enumerate(feature_imp)]\n",
        "print(for_del_idx)\n",
        "extract_del_idx = list()\n",
        "for i in for_del_idx:\n",
        "  if i is not None:\n",
        "    extract_del_idx.append(i)\n",
        "print(extract_del_idx)"
      ],
      "metadata": {
        "colab": {
          "base_uri": "https://localhost:8080/"
        },
        "id": "P63q-e6Z3Tul",
        "outputId": "9d8d6607-1384-4c2b-ece9-abf3c0ec1c05"
      },
      "execution_count": 76,
      "outputs": [
        {
          "output_type": "stream",
          "name": "stdout",
          "text": [
            "[None, None, None, 3, None, 5, None, None, 8, 9, 10, None, 12, 13, 14, 15, 16, 17, 18, 19, 20, 21, 22, 23, 24, 25, 26, 27, 28, 29, 30, 31, 32, 33, 34, 35, 36, 37, 38, 39, 40, 41, 42, 43, 44, 45, 46, 47, 48, 49, 50, 51, 52, 53, 54, 55, 56, 57, 58, 59, 60, 61, 62, None, None, None, 66, None, None, None, 70, 71, None, None, None]\n",
            "[3, 5, 8, 9, 10, 12, 13, 14, 15, 16, 17, 18, 19, 20, 21, 22, 23, 24, 25, 26, 27, 28, 29, 30, 31, 32, 33, 34, 35, 36, 37, 38, 39, 40, 41, 42, 43, 44, 45, 46, 47, 48, 49, 50, 51, 52, 53, 54, 55, 56, 57, 58, 59, 60, 61, 62, 66, 70, 71]\n"
          ]
        }
      ]
    },
    {
      "cell_type": "code",
      "source": [
        "# col_list = df.drop(columns=['depvar']).columns\n",
        "# print(col_list)\n",
        "# print(type(col_list))"
      ],
      "metadata": {
        "id": "feX9GchL3Tyl"
      },
      "execution_count": 101,
      "outputs": []
    },
    {
      "cell_type": "code",
      "source": [
        "# columns가 pandas타입이라서 list형태로 바꿔준다\n",
        "col_list = list(df.drop(columns=['depvar']).columns)"
      ],
      "metadata": {
        "id": "hd9bwrywR3jE"
      },
      "execution_count": 77,
      "outputs": []
    },
    {
      "cell_type": "code",
      "source": [
        "extract_del_idx.reverse()\n",
        "print(extract_del_idx)"
      ],
      "metadata": {
        "colab": {
          "base_uri": "https://localhost:8080/"
        },
        "id": "uYBb2bpwSY9U",
        "outputId": "99a61c39-1a74-4454-8151-a1fdbc971626"
      },
      "execution_count": 78,
      "outputs": [
        {
          "output_type": "stream",
          "name": "stdout",
          "text": [
            "[71, 70, 66, 62, 61, 60, 59, 58, 57, 56, 55, 54, 53, 52, 51, 50, 49, 48, 47, 46, 45, 44, 43, 42, 41, 40, 39, 38, 37, 36, 35, 34, 33, 32, 31, 30, 29, 28, 27, 26, 25, 24, 23, 22, 21, 20, 19, 18, 17, 16, 15, 14, 13, 12, 10, 9, 8, 5, 3]\n"
          ]
        }
      ]
    },
    {
      "cell_type": "code",
      "source": [
        "proc_col = list()\n",
        "for i in extract_del_idx:\n",
        "  del col_list[i]\n",
        "  \n",
        "proc_col = col_list\n",
        "print(proc_col)  # 관리할 columns들"
      ],
      "metadata": {
        "colab": {
          "base_uri": "https://localhost:8080/"
        },
        "id": "-IxVYnrM3T2t",
        "outputId": "81618bed-8a64-45e6-f571-47f4496e5cee"
      },
      "execution_count": 79,
      "outputs": [
        {
          "output_type": "stream",
          "name": "stdout",
          "text": [
            "['int_rate', 'annual_inc', 'dti', 'inq_last_6mths', 'revol_bal', 'total_acc', 'tot_cur_bal', 'funded_amnt', 'funded_amnt_inv', 'total_rec_late_fee', 'open_acc', 'installment', 'revol_util', 'total_rec_int', 'fico_range_low', 'fico_range_high']\n"
          ]
        }
      ]
    },
    {
      "cell_type": "code",
      "source": [
        "df2 = df[proc_col]\n",
        "df2.head()"
      ],
      "metadata": {
        "colab": {
          "base_uri": "https://localhost:8080/",
          "height": 270
        },
        "id": "MfWMxLku3T61",
        "outputId": "732e75b9-fcfd-4f47-c4f0-f921bd40dc1f"
      },
      "execution_count": 80,
      "outputs": [
        {
          "output_type": "execute_result",
          "data": {
            "text/html": [
              "\n",
              "  <div id=\"df-1a807de5-da4a-4a65-8d98-6bb4a71a0618\">\n",
              "    <div class=\"colab-df-container\">\n",
              "      <div>\n",
              "<style scoped>\n",
              "    .dataframe tbody tr th:only-of-type {\n",
              "        vertical-align: middle;\n",
              "    }\n",
              "\n",
              "    .dataframe tbody tr th {\n",
              "        vertical-align: top;\n",
              "    }\n",
              "\n",
              "    .dataframe thead th {\n",
              "        text-align: right;\n",
              "    }\n",
              "</style>\n",
              "<table border=\"1\" class=\"dataframe\">\n",
              "  <thead>\n",
              "    <tr style=\"text-align: right;\">\n",
              "      <th></th>\n",
              "      <th>int_rate</th>\n",
              "      <th>annual_inc</th>\n",
              "      <th>dti</th>\n",
              "      <th>inq_last_6mths</th>\n",
              "      <th>revol_bal</th>\n",
              "      <th>total_acc</th>\n",
              "      <th>tot_cur_bal</th>\n",
              "      <th>funded_amnt</th>\n",
              "      <th>funded_amnt_inv</th>\n",
              "      <th>total_rec_late_fee</th>\n",
              "      <th>open_acc</th>\n",
              "      <th>installment</th>\n",
              "      <th>revol_util</th>\n",
              "      <th>total_rec_int</th>\n",
              "      <th>fico_range_low</th>\n",
              "      <th>fico_range_high</th>\n",
              "    </tr>\n",
              "  </thead>\n",
              "  <tbody>\n",
              "    <tr>\n",
              "      <th>0</th>\n",
              "      <td>0.0824</td>\n",
              "      <td>21000.0</td>\n",
              "      <td>29.19</td>\n",
              "      <td>1</td>\n",
              "      <td>3016</td>\n",
              "      <td>26</td>\n",
              "      <td>11773</td>\n",
              "      <td>1200</td>\n",
              "      <td>1200.0</td>\n",
              "      <td>0.0</td>\n",
              "      <td>18</td>\n",
              "      <td>37.74</td>\n",
              "      <td>0.076</td>\n",
              "      <td>157.94</td>\n",
              "      <td>765</td>\n",
              "      <td>769</td>\n",
              "    </tr>\n",
              "    <tr>\n",
              "      <th>1</th>\n",
              "      <td>0.1299</td>\n",
              "      <td>80000.0</td>\n",
              "      <td>4.82</td>\n",
              "      <td>1</td>\n",
              "      <td>5722</td>\n",
              "      <td>24</td>\n",
              "      <td>21875</td>\n",
              "      <td>8000</td>\n",
              "      <td>8000.0</td>\n",
              "      <td>0.0</td>\n",
              "      <td>8</td>\n",
              "      <td>269.52</td>\n",
              "      <td>0.447</td>\n",
              "      <td>1702.42</td>\n",
              "      <td>665</td>\n",
              "      <td>669</td>\n",
              "    </tr>\n",
              "    <tr>\n",
              "      <th>2</th>\n",
              "      <td>0.1299</td>\n",
              "      <td>38000.0</td>\n",
              "      <td>23.66</td>\n",
              "      <td>3</td>\n",
              "      <td>6511</td>\n",
              "      <td>18</td>\n",
              "      <td>31868</td>\n",
              "      <td>5000</td>\n",
              "      <td>5000.0</td>\n",
              "      <td>0.0</td>\n",
              "      <td>7</td>\n",
              "      <td>168.45</td>\n",
              "      <td>0.880</td>\n",
              "      <td>1066.64</td>\n",
              "      <td>670</td>\n",
              "      <td>674</td>\n",
              "    </tr>\n",
              "    <tr>\n",
              "      <th>3</th>\n",
              "      <td>0.1367</td>\n",
              "      <td>100000.0</td>\n",
              "      <td>16.27</td>\n",
              "      <td>2</td>\n",
              "      <td>6849</td>\n",
              "      <td>30</td>\n",
              "      <td>326049</td>\n",
              "      <td>15000</td>\n",
              "      <td>15000.0</td>\n",
              "      <td>0.0</td>\n",
              "      <td>12</td>\n",
              "      <td>510.27</td>\n",
              "      <td>0.457</td>\n",
              "      <td>1256.24</td>\n",
              "      <td>680</td>\n",
              "      <td>684</td>\n",
              "    </tr>\n",
              "    <tr>\n",
              "      <th>4</th>\n",
              "      <td>0.1269</td>\n",
              "      <td>30000.0</td>\n",
              "      <td>25.28</td>\n",
              "      <td>1</td>\n",
              "      <td>8197</td>\n",
              "      <td>12</td>\n",
              "      <td>8840</td>\n",
              "      <td>10000</td>\n",
              "      <td>10000.0</td>\n",
              "      <td>0.0</td>\n",
              "      <td>8</td>\n",
              "      <td>335.45</td>\n",
              "      <td>0.416</td>\n",
              "      <td>871.04</td>\n",
              "      <td>660</td>\n",
              "      <td>664</td>\n",
              "    </tr>\n",
              "  </tbody>\n",
              "</table>\n",
              "</div>\n",
              "      <button class=\"colab-df-convert\" onclick=\"convertToInteractive('df-1a807de5-da4a-4a65-8d98-6bb4a71a0618')\"\n",
              "              title=\"Convert this dataframe to an interactive table.\"\n",
              "              style=\"display:none;\">\n",
              "        \n",
              "  <svg xmlns=\"http://www.w3.org/2000/svg\" height=\"24px\"viewBox=\"0 0 24 24\"\n",
              "       width=\"24px\">\n",
              "    <path d=\"M0 0h24v24H0V0z\" fill=\"none\"/>\n",
              "    <path d=\"M18.56 5.44l.94 2.06.94-2.06 2.06-.94-2.06-.94-.94-2.06-.94 2.06-2.06.94zm-11 1L8.5 8.5l.94-2.06 2.06-.94-2.06-.94L8.5 2.5l-.94 2.06-2.06.94zm10 10l.94 2.06.94-2.06 2.06-.94-2.06-.94-.94-2.06-.94 2.06-2.06.94z\"/><path d=\"M17.41 7.96l-1.37-1.37c-.4-.4-.92-.59-1.43-.59-.52 0-1.04.2-1.43.59L10.3 9.45l-7.72 7.72c-.78.78-.78 2.05 0 2.83L4 21.41c.39.39.9.59 1.41.59.51 0 1.02-.2 1.41-.59l7.78-7.78 2.81-2.81c.8-.78.8-2.07 0-2.86zM5.41 20L4 18.59l7.72-7.72 1.47 1.35L5.41 20z\"/>\n",
              "  </svg>\n",
              "      </button>\n",
              "      \n",
              "  <style>\n",
              "    .colab-df-container {\n",
              "      display:flex;\n",
              "      flex-wrap:wrap;\n",
              "      gap: 12px;\n",
              "    }\n",
              "\n",
              "    .colab-df-convert {\n",
              "      background-color: #E8F0FE;\n",
              "      border: none;\n",
              "      border-radius: 50%;\n",
              "      cursor: pointer;\n",
              "      display: none;\n",
              "      fill: #1967D2;\n",
              "      height: 32px;\n",
              "      padding: 0 0 0 0;\n",
              "      width: 32px;\n",
              "    }\n",
              "\n",
              "    .colab-df-convert:hover {\n",
              "      background-color: #E2EBFA;\n",
              "      box-shadow: 0px 1px 2px rgba(60, 64, 67, 0.3), 0px 1px 3px 1px rgba(60, 64, 67, 0.15);\n",
              "      fill: #174EA6;\n",
              "    }\n",
              "\n",
              "    [theme=dark] .colab-df-convert {\n",
              "      background-color: #3B4455;\n",
              "      fill: #D2E3FC;\n",
              "    }\n",
              "\n",
              "    [theme=dark] .colab-df-convert:hover {\n",
              "      background-color: #434B5C;\n",
              "      box-shadow: 0px 1px 3px 1px rgba(0, 0, 0, 0.15);\n",
              "      filter: drop-shadow(0px 1px 2px rgba(0, 0, 0, 0.3));\n",
              "      fill: #FFFFFF;\n",
              "    }\n",
              "  </style>\n",
              "\n",
              "      <script>\n",
              "        const buttonEl =\n",
              "          document.querySelector('#df-1a807de5-da4a-4a65-8d98-6bb4a71a0618 button.colab-df-convert');\n",
              "        buttonEl.style.display =\n",
              "          google.colab.kernel.accessAllowed ? 'block' : 'none';\n",
              "\n",
              "        async function convertToInteractive(key) {\n",
              "          const element = document.querySelector('#df-1a807de5-da4a-4a65-8d98-6bb4a71a0618');\n",
              "          const dataTable =\n",
              "            await google.colab.kernel.invokeFunction('convertToInteractive',\n",
              "                                                     [key], {});\n",
              "          if (!dataTable) return;\n",
              "\n",
              "          const docLinkHtml = 'Like what you see? Visit the ' +\n",
              "            '<a target=\"_blank\" href=https://colab.research.google.com/notebooks/data_table.ipynb>data table notebook</a>'\n",
              "            + ' to learn more about interactive tables.';\n",
              "          element.innerHTML = '';\n",
              "          dataTable['output_type'] = 'display_data';\n",
              "          await google.colab.output.renderOutput(dataTable, element);\n",
              "          const docLink = document.createElement('div');\n",
              "          docLink.innerHTML = docLinkHtml;\n",
              "          element.appendChild(docLink);\n",
              "        }\n",
              "      </script>\n",
              "    </div>\n",
              "  </div>\n",
              "  "
            ],
            "text/plain": [
              "   int_rate  annual_inc    dti  ...  total_rec_int  fico_range_low  fico_range_high\n",
              "0    0.0824     21000.0  29.19  ...         157.94             765              769\n",
              "1    0.1299     80000.0   4.82  ...        1702.42             665              669\n",
              "2    0.1299     38000.0  23.66  ...        1066.64             670              674\n",
              "3    0.1367    100000.0  16.27  ...        1256.24             680              684\n",
              "4    0.1269     30000.0  25.28  ...         871.04             660              664\n",
              "\n",
              "[5 rows x 16 columns]"
            ]
          },
          "metadata": {},
          "execution_count": 80
        }
      ]
    },
    {
      "cell_type": "markdown",
      "source": [
        "### 추출된 features\n",
        "- **int_rate** : 대출자에 부여된 이자율\n",
        "- **annual_inc** : 연 소득 (annual income)\n",
        "- **dti** : 소득 대비 부채 비율\n",
        "- **inq_last_6mths** : 지난 6개월 간 신용 조회 수 X\n",
        "- **revol_bal** : 리볼빙 잔액\n",
        "- **total_acc** : 지금까지 소유했던 신용카드 개수\n",
        "- **tot_cur_bal** : 전 계좌의 현재 통합 잔고\n",
        "- **funded_amnt** : 대출액 (Funded amount)\n",
        "- **funded_amnt_inv** : 사채 대출액\n",
        "- **total_rec_late_fee** : 총 연체료 중 납부액\n",
        "- **open_acc** : 개설 개좌 수\n",
        "- **installment** : 대출 발생 시 월 상환액\n",
        "- **revol_util** : 리볼빙 한도 대비 리볼빙 사용 비율\n",
        "- **total_rec_int** : 이자 상환액\n",
        "- **fico_range_low** : FICO(일종의 신용점수) 최저값 \n",
        "- **fico_range_high** : FICO(일종의 신용점수) 최고값\n",
        "\n"
      ],
      "metadata": {
        "id": "LOHyzZsEXQ1-"
      }
    },
    {
      "cell_type": "markdown",
      "metadata": {
        "id": "U9jw-pcptNXy"
      },
      "source": [
        "# Train Valid Split"
      ]
    },
    {
      "cell_type": "code",
      "execution_count": 88,
      "metadata": {
        "id": "o3n8rlBFtNXy"
      },
      "outputs": [],
      "source": [
        "X = df.drop('depvar', axis=1)\n",
        "y = df['depvar']"
      ]
    },
    {
      "cell_type": "code",
      "execution_count": 98,
      "metadata": {
        "id": "j0yMaESktNXz"
      },
      "outputs": [],
      "source": [
        "# data를 training set과 validation set으로 나누기\n",
        "X_train, X_valid, y_train, y_valid = train_test_split(X, y, test_size=0.2)"
      ]
    },
    {
      "cell_type": "code",
      "execution_count": 90,
      "metadata": {
        "colab": {
          "base_uri": "https://localhost:8080/"
        },
        "id": "cfEJdRgHtNXz",
        "outputId": "c9fc1114-3dba-4586-b9f2-00718710971f"
      },
      "outputs": [
        {
          "output_type": "stream",
          "name": "stdout",
          "text": [
            "training set length : 80000\n",
            "validation set length : 20000\n"
          ]
        }
      ],
      "source": [
        "# training set과 validation set의 데이터 수 확인\n",
        "print('training set length :', len(X_train))\n",
        "print('validation set length :', len(X_valid))"
      ]
    },
    {
      "cell_type": "code",
      "execution_count": 91,
      "metadata": {
        "colab": {
          "base_uri": "https://localhost:8080/"
        },
        "id": "OFeX02z6tNXz",
        "outputId": "b0697823-5a83-47d0-9a35-2b87658df4f9"
      },
      "outputs": [
        {
          "output_type": "execute_result",
          "data": {
            "text/plain": [
              "0.32525"
            ]
          },
          "metadata": {},
          "execution_count": 91
        }
      ],
      "source": [
        "# validation set의 라벨 비율 확인\n",
        "y_valid.sum()/len(y_valid)"
      ]
    },
    {
      "cell_type": "code",
      "source": [
        "# 정규화합니다\n",
        "scaler = StandardScaler()\n",
        "X_train = torch.FloatTensor(scaler.fit_transform(X_train.to_numpy()))\n",
        "y_train = torch.LongTensor(y_train.to_numpy())"
      ],
      "metadata": {
        "id": "NZqkW5As3T-1"
      },
      "execution_count": 99,
      "outputs": []
    },
    {
      "cell_type": "code",
      "source": [
        ""
      ],
      "metadata": {
        "id": "3aDZVuPS3UCt",
        "colab": {
          "base_uri": "https://localhost:8080/"
        },
        "outputId": "6cdc5395-0855-4552-c74b-480b505da48d"
      },
      "execution_count": 100,
      "outputs": [
        {
          "output_type": "execute_result",
          "data": {
            "text/plain": [
              "tensor([[ 0.2016,  0.0494,  0.4906,  ...,  2.1001, -0.9319, -0.9319],\n",
              "        [ 0.1993,  0.0100, -1.9555,  ...,  0.0969, -0.5941, -0.5941],\n",
              "        [ 0.4966, -0.3319,  0.8114,  ..., -0.5851, -0.7630, -0.7630],\n",
              "        ...,\n",
              "        [ 0.2016, -0.4840,  0.8684,  ..., -0.7505, -0.9319, -0.9319],\n",
              "        [-0.1337,  0.9963, -0.7081,  ...,  0.5435, -0.5941, -0.5941],\n",
              "        [ 0.5592, -0.4503,  1.7558,  ..., -0.5230, -0.9319, -0.9319]])"
            ]
          },
          "metadata": {},
          "execution_count": 100
        }
      ]
    },
    {
      "cell_type": "code",
      "source": [
        ""
      ],
      "metadata": {
        "colab": {
          "base_uri": "https://localhost:8080/"
        },
        "id": "25lRZFCAe9tK",
        "outputId": "26a8bd55-9b8b-4faf-f0b9-07d8fa2d1f85"
      },
      "execution_count": 97,
      "outputs": [
        {
          "output_type": "execute_result",
          "data": {
            "text/plain": [
              "80000"
            ]
          },
          "metadata": {},
          "execution_count": 97
        }
      ]
    },
    {
      "cell_type": "code",
      "source": [
        ""
      ],
      "metadata": {
        "id": "p6Pz76-Pi8px"
      },
      "execution_count": null,
      "outputs": []
    }
  ],
  "metadata": {
    "colab": {
      "name": "data_preproc_EDA_ver01.ipynb",
      "provenance": [],
      "collapsed_sections": []
    },
    "kernelspec": {
      "display_name": "Python 3 (ipykernel)",
      "language": "python",
      "name": "python3"
    },
    "language_info": {
      "codemirror_mode": {
        "name": "ipython",
        "version": 3
      },
      "file_extension": ".py",
      "mimetype": "text/x-python",
      "name": "python",
      "nbconvert_exporter": "python",
      "pygments_lexer": "ipython3",
      "version": "3.8.5"
    }
  },
  "nbformat": 4,
  "nbformat_minor": 0
}