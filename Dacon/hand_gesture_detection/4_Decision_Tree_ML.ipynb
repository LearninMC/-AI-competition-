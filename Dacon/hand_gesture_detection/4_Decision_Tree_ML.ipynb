{
  "nbformat": 4,
  "nbformat_minor": 0,
  "metadata": {
    "colab": {
      "name": "4_Decision_Tree_ML.ipynb",
      "provenance": [],
      "collapsed_sections": []
    },
    "kernelspec": {
      "name": "python3",
      "display_name": "Python 3"
    },
    "language_info": {
      "name": "python"
    }
  },
  "cells": [
    {
      "cell_type": "code",
      "execution_count": null,
      "metadata": {
        "id": "JL4vY78VnHyk"
      },
      "outputs": [],
      "source": [
        "import seaborn as sns\n",
        "import matplotlib\n",
        "import matplotlib.pyplot as plt\n",
        "import pandas as pd\n",
        "import numpy as np\n",
        "import torch\n",
        "import random\n",
        "%matplotlib inline\n",
        "\n",
        "import xgboost\n",
        "from sklearn.tree import DecisionTreeClassifier\n",
        "from xgboost import XGBClassifier\n",
        "from lightgbm import LGBMClassifier\n",
        "from sklearn.ensemble import RandomForestClassifier,StackingClassifier\n",
        "from sklearn.model_selection import train_test_split, RepeatedStratifiedKFold, GridSearchCV, StratifiedKFold\n",
        "import sklearn.metrics as metrics\n",
        "from sklearn.metrics import accuracy_score, precision_score, recall_score, f1_score, roc_auc_score, roc_curve, auc, confusion_matrix, classification_report\n",
        "from sklearn.preprocessing import StandardScaler\n",
        "from sklearn.feature_selection import RFECV"
      ]
    },
    {
      "cell_type": "code",
      "source": [
        "# Seed 고정\n",
        "import torch\n",
        "import random\n",
        "\n",
        "def seed_everything(seed):\n",
        "    torch.manual_seed(seed)\n",
        "    torch.cuda.manual_seed(seed)\n",
        "    torch.cuda.manual_seed_all(seed)  # if use multi-GPU\n",
        "    torch.backends.cudnn.deterministic = True\n",
        "    torch.backends.cudnn.benchmark = False\n",
        "    np.random.seed(seed)\n",
        "    random.seed(seed)\n",
        "seed_everything(2022)"
      ],
      "metadata": {
        "id": "9FF9B6UOnMuN"
      },
      "execution_count": null,
      "outputs": []
    },
    {
      "cell_type": "code",
      "source": [
        "train = pd.read_csv('/content/drive/MyDrive/AI_individual/Dacon_hand_gesture/data/train.csv')\n",
        "train_X = train.drop(['id','target'],axis=1)\n",
        "train_y = train.target\n",
        "\n",
        "test = pd.read_csv('/content/drive/MyDrive/AI_individual/Dacon_hand_gesture/data/test.csv')\n",
        "test_X = test.drop(['id'], axis=1)"
      ],
      "metadata": {
        "id": "8f1OAWmnnasz"
      },
      "execution_count": null,
      "outputs": []
    },
    {
      "cell_type": "code",
      "source": [
        "skf = StratifiedKFold(n_splits = 10, random_state = 2022, shuffle = True) "
      ],
      "metadata": {
        "id": "6-1WU3ubxGYV"
      },
      "execution_count": null,
      "outputs": []
    },
    {
      "cell_type": "code",
      "source": [
        "rnd_clf = RandomForestClassifier(random_state=2022) # RandomForest #모델을 객체에 할당\n",
        "lgbm_clf = LGBMClassifier(random_state=2022)\n",
        "xgb_clf = XGBClassifier(random_state=2022)\n",
        "stacking_clf = StackingClassifier(estimators = [('rnd', rnd_clf),\n",
        "                                                ('lgbm', lgbm_clf), \n",
        "                                                ('xgb', xgb_clf)\n",
        "                                                ],\n",
        "                                  cv = StratifiedKFold(n_splits=5, random_state=2022, shuffle=True),\n",
        "                                  final_estimator = XGBClassifier(random_state=2022)\n",
        "                                  )"
      ],
      "metadata": {
        "id": "aaFMGFJlxGWg"
      },
      "execution_count": null,
      "outputs": []
    },
    {
      "cell_type": "code",
      "source": [
        "# pandas를 np 로 바꿔주는 작업\n",
        "train_X = np.array(train_X)\n",
        "train_y = np.array(train_y)\n",
        "\n",
        "test_X = np.array(test_X)"
      ],
      "metadata": {
        "id": "mClurfgyxGUJ"
      },
      "execution_count": null,
      "outputs": []
    },
    {
      "cell_type": "code",
      "source": [
        "acc_mean = 0.0\n",
        "pred_ensemble = np.zeros([9343, 4])\n",
        "\n",
        "for i, (train_idx, valid_idx) in enumerate(skf.split(train_X, train_y)):\n",
        "    print(f'{i+1} Fold Trainign...')\n",
        "    tr_x, tr_y = train_X[train_idx], train_y[train_idx]\n",
        "    val_x, val_y = train_X[valid_idx], train_y[valid_idx]\n",
        "\n",
        "    stacking_clf.fit(tr_x, tr_y)\n",
        "    val_pred = stacking_clf.predict(val_x)\n",
        "    acc_tmp = accuracy_score(val_y, val_pred)\n",
        "    print(f'{i+1} Fold Acc : {acc_tmp}')\n",
        "\n",
        "    pred = stacking_clf.predict_proba(test_X)\n",
        "    acc_mean += (acc_tmp / skf.n_splits)\n",
        "    pred_ensemble += (pred / skf.n_splits)"
      ],
      "metadata": {
        "id": "6byRGgYGxGR3"
      },
      "execution_count": null,
      "outputs": []
    },
    {
      "cell_type": "code",
      "source": [
        "# 결과 확인\n",
        "print(np.argmax(pred_ensemble, axis = 1))\n",
        "print(acc_mean)\n",
        "pred_ensemble"
      ],
      "metadata": {
        "id": "vUpKtkADxGPj"
      },
      "execution_count": null,
      "outputs": []
    },
    {
      "cell_type": "code",
      "source": [
        "# 결과확인\n",
        "submission['target'] = np.argmax(pred_ensemble, axis = 1)\n",
        "submission.target.value_counts()"
      ],
      "metadata": {
        "id": "o4naHkHsxOaV"
      },
      "execution_count": null,
      "outputs": []
    }
  ]
}