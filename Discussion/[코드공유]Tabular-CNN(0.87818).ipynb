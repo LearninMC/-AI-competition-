{
 "cells": [
  {
   "cell_type": "code",
   "execution_count": 1,
   "id": "b5eb3e58",
   "metadata": {
    "executionInfo": {
     "elapsed": 2,
     "status": "ok",
     "timestamp": 1646629310378,
     "user": {
      "displayName": "기세현",
      "photoUrl": "https://lh3.googleusercontent.com/a/default-user=s64",
      "userId": "06743460080794396829"
     },
     "user_tz": -540
    },
    "id": "MqLBHpAamW7t"
   },
   "outputs": [],
   "source": [
    "import pandas as pd\n",
    "import numpy as np\n",
    "\n",
    "import warnings\n",
    "warnings.filterwarnings('ignore')\n",
    "\n",
    "import matplotlib.pyplot as plt\n",
    "%matplotlib inline\n",
    "\n",
    "\n",
    "from sklearn.preprocessing import OneHotEncoder\n",
    "from sklearn.model_selection import StratifiedKFold\n",
    "from sklearn.metrics import accuracy_score\n",
    "\n",
    "from tensorflow.keras.layers import *\n",
    "from tensorflow.keras.models import *\n",
    "from tensorflow.keras.optimizers import *\n",
    "from tensorflow.keras.callbacks import *"
   ]
  },
  {
   "cell_type": "code",
   "execution_count": 2,
   "id": "b8807454",
   "metadata": {
    "executionInfo": {
     "elapsed": 537,
     "status": "ok",
     "timestamp": 1646629110635,
     "user": {
      "displayName": "기세현",
      "photoUrl": "https://lh3.googleusercontent.com/a/default-user=s64",
      "userId": "06743460080794396829"
     },
     "user_tz": -540
    },
    "id": "b8807454"
   },
   "outputs": [],
   "source": [
    "train = pd.read_csv('train.csv')\n",
    "test = pd.read_csv('test.csv')\n",
    "submission = pd.read_csv('sample_submission.csv')"
   ]
  },
  {
   "cell_type": "markdown",
   "id": "a4847dc1",
   "metadata": {},
   "source": [
    "target 별 특징을 생각해보던 중 Image 변환을 시도해 보았습니다. groupby 후 센서마다 mean 값(32개 센서)을 8 by 4 이미지로 변환해서 살펴봤습니다."
   ]
  },
  {
   "cell_type": "code",
   "execution_count": 3,
   "id": "Hb12oXYgtZ0f",
   "metadata": {
    "colab": {
     "base_uri": "https://localhost:8080/",
     "height": 297
    },
    "executionInfo": {
     "elapsed": 408,
     "status": "ok",
     "timestamp": 1646629117239,
     "user": {
      "displayName": "기세현",
      "photoUrl": "https://lh3.googleusercontent.com/a/default-user=s64",
      "userId": "06743460080794396829"
     },
     "user_tz": -540
    },
    "id": "Hb12oXYgtZ0f",
    "outputId": "701cfc09-3209-4ff9-a188-7e8dd2b483cf",
    "scrolled": true
   },
   "outputs": [
    {
     "data": {
      "text/html": [
       "<div>\n",
       "<style scoped>\n",
       "    .dataframe tbody tr th:only-of-type {\n",
       "        vertical-align: middle;\n",
       "    }\n",
       "\n",
       "    .dataframe tbody tr th {\n",
       "        vertical-align: top;\n",
       "    }\n",
       "\n",
       "    .dataframe thead th {\n",
       "        text-align: right;\n",
       "    }\n",
       "</style>\n",
       "<table border=\"1\" class=\"dataframe\">\n",
       "  <thead>\n",
       "    <tr style=\"text-align: right;\">\n",
       "      <th></th>\n",
       "      <th>sensor_1</th>\n",
       "      <th>sensor_2</th>\n",
       "      <th>sensor_3</th>\n",
       "      <th>sensor_4</th>\n",
       "      <th>sensor_5</th>\n",
       "      <th>sensor_6</th>\n",
       "      <th>sensor_7</th>\n",
       "      <th>sensor_8</th>\n",
       "      <th>sensor_9</th>\n",
       "      <th>sensor_10</th>\n",
       "      <th>...</th>\n",
       "      <th>sensor_23</th>\n",
       "      <th>sensor_24</th>\n",
       "      <th>sensor_25</th>\n",
       "      <th>sensor_26</th>\n",
       "      <th>sensor_27</th>\n",
       "      <th>sensor_28</th>\n",
       "      <th>sensor_29</th>\n",
       "      <th>sensor_30</th>\n",
       "      <th>sensor_31</th>\n",
       "      <th>sensor_32</th>\n",
       "    </tr>\n",
       "    <tr>\n",
       "      <th>target</th>\n",
       "      <th></th>\n",
       "      <th></th>\n",
       "      <th></th>\n",
       "      <th></th>\n",
       "      <th></th>\n",
       "      <th></th>\n",
       "      <th></th>\n",
       "      <th></th>\n",
       "      <th></th>\n",
       "      <th></th>\n",
       "      <th></th>\n",
       "      <th></th>\n",
       "      <th></th>\n",
       "      <th></th>\n",
       "      <th></th>\n",
       "      <th></th>\n",
       "      <th></th>\n",
       "      <th></th>\n",
       "      <th></th>\n",
       "      <th></th>\n",
       "      <th></th>\n",
       "    </tr>\n",
       "  </thead>\n",
       "  <tbody>\n",
       "    <tr>\n",
       "      <th>0</th>\n",
       "      <td>-0.425433</td>\n",
       "      <td>-0.922978</td>\n",
       "      <td>1.389976</td>\n",
       "      <td>0.559473</td>\n",
       "      <td>-0.694207</td>\n",
       "      <td>0.015784</td>\n",
       "      <td>0.793226</td>\n",
       "      <td>-0.913523</td>\n",
       "      <td>-0.561867</td>\n",
       "      <td>-0.802052</td>\n",
       "      <td>...</td>\n",
       "      <td>0.022476</td>\n",
       "      <td>-0.056393</td>\n",
       "      <td>-1.587852</td>\n",
       "      <td>-0.420015</td>\n",
       "      <td>0.905688</td>\n",
       "      <td>0.151944</td>\n",
       "      <td>-0.626062</td>\n",
       "      <td>-0.822711</td>\n",
       "      <td>-0.621473</td>\n",
       "      <td>-1.962038</td>\n",
       "    </tr>\n",
       "    <tr>\n",
       "      <th>1</th>\n",
       "      <td>-0.692796</td>\n",
       "      <td>-0.776260</td>\n",
       "      <td>-1.040046</td>\n",
       "      <td>-0.796645</td>\n",
       "      <td>-0.716867</td>\n",
       "      <td>-0.864049</td>\n",
       "      <td>0.217547</td>\n",
       "      <td>-0.588134</td>\n",
       "      <td>-0.795507</td>\n",
       "      <td>-0.470282</td>\n",
       "      <td>...</td>\n",
       "      <td>-0.727154</td>\n",
       "      <td>-0.841780</td>\n",
       "      <td>-0.605011</td>\n",
       "      <td>-0.622476</td>\n",
       "      <td>0.257340</td>\n",
       "      <td>-0.515845</td>\n",
       "      <td>-0.883002</td>\n",
       "      <td>-0.682358</td>\n",
       "      <td>0.154507</td>\n",
       "      <td>-0.607232</td>\n",
       "    </tr>\n",
       "    <tr>\n",
       "      <th>2</th>\n",
       "      <td>-2.346430</td>\n",
       "      <td>-0.822219</td>\n",
       "      <td>1.015480</td>\n",
       "      <td>0.079543</td>\n",
       "      <td>0.805130</td>\n",
       "      <td>-0.322211</td>\n",
       "      <td>-1.559588</td>\n",
       "      <td>-1.354339</td>\n",
       "      <td>-1.188115</td>\n",
       "      <td>-1.084991</td>\n",
       "      <td>...</td>\n",
       "      <td>0.926393</td>\n",
       "      <td>-0.561614</td>\n",
       "      <td>-0.598858</td>\n",
       "      <td>-0.591853</td>\n",
       "      <td>-2.619469</td>\n",
       "      <td>-0.660750</td>\n",
       "      <td>-0.706551</td>\n",
       "      <td>-0.714254</td>\n",
       "      <td>-0.997320</td>\n",
       "      <td>-0.504212</td>\n",
       "    </tr>\n",
       "    <tr>\n",
       "      <th>3</th>\n",
       "      <td>-0.983485</td>\n",
       "      <td>-1.559744</td>\n",
       "      <td>-3.951593</td>\n",
       "      <td>-0.422654</td>\n",
       "      <td>-0.727304</td>\n",
       "      <td>-0.518749</td>\n",
       "      <td>3.218229</td>\n",
       "      <td>-0.876624</td>\n",
       "      <td>-0.636275</td>\n",
       "      <td>-0.459929</td>\n",
       "      <td>...</td>\n",
       "      <td>-0.134662</td>\n",
       "      <td>0.026740</td>\n",
       "      <td>-0.935549</td>\n",
       "      <td>-0.714854</td>\n",
       "      <td>1.169092</td>\n",
       "      <td>-0.441372</td>\n",
       "      <td>-0.693405</td>\n",
       "      <td>-1.013212</td>\n",
       "      <td>-0.500214</td>\n",
       "      <td>0.046207</td>\n",
       "    </tr>\n",
       "  </tbody>\n",
       "</table>\n",
       "<p>4 rows × 32 columns</p>\n",
       "</div>"
      ],
      "text/plain": [
       "        sensor_1  sensor_2  sensor_3  sensor_4  sensor_5  sensor_6  sensor_7  \\\n",
       "target                                                                         \n",
       "0      -0.425433 -0.922978  1.389976  0.559473 -0.694207  0.015784  0.793226   \n",
       "1      -0.692796 -0.776260 -1.040046 -0.796645 -0.716867 -0.864049  0.217547   \n",
       "2      -2.346430 -0.822219  1.015480  0.079543  0.805130 -0.322211 -1.559588   \n",
       "3      -0.983485 -1.559744 -3.951593 -0.422654 -0.727304 -0.518749  3.218229   \n",
       "\n",
       "        sensor_8  sensor_9  sensor_10  ...  sensor_23  sensor_24  sensor_25  \\\n",
       "target                                 ...                                    \n",
       "0      -0.913523 -0.561867  -0.802052  ...   0.022476  -0.056393  -1.587852   \n",
       "1      -0.588134 -0.795507  -0.470282  ...  -0.727154  -0.841780  -0.605011   \n",
       "2      -1.354339 -1.188115  -1.084991  ...   0.926393  -0.561614  -0.598858   \n",
       "3      -0.876624 -0.636275  -0.459929  ...  -0.134662   0.026740  -0.935549   \n",
       "\n",
       "        sensor_26  sensor_27  sensor_28  sensor_29  sensor_30  sensor_31  \\\n",
       "target                                                                     \n",
       "0       -0.420015   0.905688   0.151944  -0.626062  -0.822711  -0.621473   \n",
       "1       -0.622476   0.257340  -0.515845  -0.883002  -0.682358   0.154507   \n",
       "2       -0.591853  -2.619469  -0.660750  -0.706551  -0.714254  -0.997320   \n",
       "3       -0.714854   1.169092  -0.441372  -0.693405  -1.013212  -0.500214   \n",
       "\n",
       "        sensor_32  \n",
       "target             \n",
       "0       -1.962038  \n",
       "1       -0.607232  \n",
       "2       -0.504212  \n",
       "3        0.046207  \n",
       "\n",
       "[4 rows x 32 columns]"
      ]
     },
     "execution_count": 3,
     "metadata": {},
     "output_type": "execute_result"
    }
   ],
   "source": [
    "gr_mu = train.groupby('target').mean().iloc[:, 1 :]\n",
    "gr_mu"
   ]
  },
  {
   "cell_type": "code",
   "execution_count": 4,
   "id": "09ec215e",
   "metadata": {},
   "outputs": [
    {
     "data": {
      "image/png": "[encoded data removed]",
      "text/plain": [
       "<Figure size 864x432 with 4 Axes>"
      ]
     },
     "metadata": {
      "needs_background": "light"
     },
     "output_type": "display_data"
    }
   ],
   "source": [
    "f, a = plt.subplots(1, 4, figsize = (12, 6))\n",
    "for i in range(4) :\n",
    "    a[i].set_title(f'target {i} Image')\n",
    "    a[i].imshow(np.array(gr_mu.iloc[i]).reshape(8, 4))"
   ]
  },
  {
   "cell_type": "markdown",
   "id": "4a193f7d",
   "metadata": {},
   "source": [
    "비록 통계량을 통해 봤지만 target별로 어느 정도 다른 형태를 띈다고 볼 수 있을 것 같습니다."
   ]
  },
  {
   "cell_type": "code",
   "execution_count": 5,
   "id": "f912ba58",
   "metadata": {
    "executionInfo": {
     "elapsed": 507,
     "status": "ok",
     "timestamp": 1646629320384,
     "user": {
      "displayName": "기세현",
      "photoUrl": "https://lh3.googleusercontent.com/a/default-user=s64",
      "userId": "06743460080794396829"
     },
     "user_tz": -540
    },
    "id": "f912ba58"
   },
   "outputs": [],
   "source": [
    "X = train.iloc[:, 1:-1]\n",
    "target = test.iloc[:, 1:]"
   ]
  },
  {
   "cell_type": "markdown",
   "id": "e21c8de0",
   "metadata": {},
   "source": [
    "sensor1 ~ 32이기 때문에 8 * 4형태로 바꾸어줍니다."
   ]
  },
  {
   "cell_type": "code",
   "execution_count": 8,
   "id": "8e621000",
   "metadata": {
    "executionInfo": {
     "elapsed": 3,
     "status": "ok",
     "timestamp": 1646628234646,
     "user": {
      "displayName": "기세현",
      "photoUrl": "https://lh3.googleusercontent.com/a/default-user=s64",
      "userId": "06743460080794396829"
     },
     "user_tz": -540
    },
    "id": "uhyp8C-mmfT2"
   },
   "outputs": [],
   "source": [
    "X = np.array(X).reshape(-1, 8, 4, 1)\n",
    "target = np.array(target).reshape(-1, 8, 4, 1)"
   ]
  },
  {
   "cell_type": "markdown",
   "id": "4018f95b",
   "metadata": {},
   "source": [
    "MultiClass를 위해 target 값에 One-Hot 인코딩을 취해줍니다."
   ]
  },
  {
   "cell_type": "code",
   "execution_count": 6,
   "id": "j1j8n4gBwXnd",
   "metadata": {
    "executionInfo": {
     "elapsed": 6,
     "status": "ok",
     "timestamp": 1646629336775,
     "user": {
      "displayName": "기세현",
      "photoUrl": "https://lh3.googleusercontent.com/a/default-user=s64",
      "userId": "06743460080794396829"
     },
     "user_tz": -540
    },
    "id": "j1j8n4gBwXnd"
   },
   "outputs": [],
   "source": [
    "ohe = OneHotEncoder(sparse = False)"
   ]
  },
  {
   "cell_type": "code",
   "execution_count": 7,
   "id": "oMj0FX0pwbCr",
   "metadata": {
    "executionInfo": {
     "elapsed": 383,
     "status": "ok",
     "timestamp": 1646629360807,
     "user": {
      "displayName": "기세현",
      "photoUrl": "https://lh3.googleusercontent.com/a/default-user=s64",
      "userId": "06743460080794396829"
     },
     "user_tz": -540
    },
    "id": "oMj0FX0pwbCr"
   },
   "outputs": [],
   "source": [
    "y = ohe.fit_transform(train[['target']])"
   ]
  },
  {
   "cell_type": "code",
   "execution_count": 10,
   "id": "_7hvPUputJdI",
   "metadata": {
    "id": "_7hvPUputJdI"
   },
   "outputs": [],
   "source": [
    "skf = StratifiedKFold(n_splits = 10, random_state = 42, shuffle = True)"
   ]
  },
  {
   "cell_type": "code",
   "execution_count": 122,
   "id": "BgPJqt17qsc7",
   "metadata": {
    "executionInfo": {
     "elapsed": 461,
     "status": "ok",
     "timestamp": 1646628145656,
     "user": {
      "displayName": "기세현",
      "photoUrl": "https://lh3.googleusercontent.com/a/default-user=s64",
      "userId": "06743460080794396829"
     },
     "user_tz": -540
    },
    "id": "BgPJqt17qsc7"
   },
   "outputs": [],
   "source": [
    "es = EarlyStopping(monitor = 'val_acc', patience = 5, mode = 'max', verbose = 0)"
   ]
  },
  {
   "cell_type": "code",
   "execution_count": 139,
   "id": "NlyGVapqqZOE",
   "metadata": {
    "colab": {
     "base_uri": "https://localhost:8080/"
    },
    "executionInfo": {
     "elapsed": 113653,
     "status": "ok",
     "timestamp": 1646628482208,
     "user": {
      "displayName": "기세현",
      "photoUrl": "https://lh3.googleusercontent.com/a/default-user=s64",
      "userId": "06743460080794396829"
     },
     "user_tz": -540
    },
    "id": "NlyGVapqqZOE",
    "outputId": "72fa347f-d20c-4dc2-9234-74bfe3a143fa"
   },
   "outputs": [
    {
     "name": "stdout",
     "output_type": "stream",
     "text": [
      "1 Fold Training.....\n",
      "1 Fold ACC of CNN = 0.8034188034188035\n",
      "2 Fold Training.....\n",
      "2 Fold ACC of CNN = 0.8205128205128205\n",
      "3 Fold Training.....\n",
      "3 Fold ACC of CNN = 0.8376068376068376\n",
      "4 Fold Training.....\n",
      "4 Fold ACC of CNN = 0.8760683760683761\n",
      "5 Fold Training.....\n",
      "5 Fold ACC of CNN = 0.8076923076923077\n",
      "6 Fold Training.....\n",
      "6 Fold ACC of CNN = 0.8197424892703863\n",
      "7 Fold Training.....\n",
      "7 Fold ACC of CNN = 0.8068669527896996\n",
      "8 Fold Training.....\n",
      "8 Fold ACC of CNN = 0.8197424892703863\n",
      "9 Fold Training.....\n",
      "9 Fold ACC of CNN = 0.8497854077253219\n",
      "10 Fold Training.....\n",
      "10 Fold ACC of CNN = 0.8412017167381974\n"
     ]
    }
   ],
   "source": [
    "cnn_acc = []\n",
    "cnn_pred = np.zeros((target.shape[0], 4))\n",
    "for i, (tr_idx, val_idx) in enumerate(skf.split(X, train.target)) :\n",
    "    print(f'{i + 1} Fold Training.....')\n",
    "    tr_x, tr_y = X[tr_idx], y[tr_idx]\n",
    "    val_x, val_y = X[val_idx], y[val_idx]\n",
    "    \n",
    "    ### CNN 모델\n",
    "    cnn = Sequential()\n",
    "    cnn.add(Conv2D(8, (2, 2), padding = \"same\", activation = 'elu', input_shape = (8, 4, 1)))\n",
    "    cnn.add(BatchNormalization())\n",
    "    cnn.add(Conv2D(16, (2, 2), padding = \"same\", activation = 'elu'))\n",
    "    cnn.add(MaxPooling2D(2, 2))\n",
    "    cnn.add(Conv2D(32, (3, 3), padding = \"same\", activation = 'elu'))\n",
    "    cnn.add(BatchNormalization())\n",
    "    cnn.add(Conv2D(32, (3, 3), padding = \"same\", activation = 'elu'))\n",
    "    cnn.add(BatchNormalization())\n",
    "    cnn.add(GlobalAveragePooling2D())\n",
    "    cnn.add(Dense(16, activation = 'relu'))\n",
    "    cnn.add(Dense(4, activation = 'softmax'))\n",
    "\n",
    "    ### ModelCheckPoint Fold마다 갱신\n",
    "    mc = ModelCheckpoint(f'model_{i + 1}.h5', save_best_only = True, monitor = 'val_acc', mode = 'max', verbose = 0)\n",
    "    \n",
    "    ### 모델 compile\n",
    "    cnn.compile(optimizer = RMSprop(learning_rate = 0.04), loss = 'categorical_crossentropy', metrics = ['acc'])\n",
    "\n",
    "    cnn.fit(tr_x, tr_y, validation_data = (val_x, val_y), epochs = 100, batch_size = 32, callbacks = [es, mc], verbose = 0)\n",
    "\n",
    "    ### 최고 성능 기록 모델 Load\n",
    "    best = load_model(f'model_{i + 1}.h5')\n",
    "    ### validation predict\n",
    "    val_pred = best.predict(val_x)\n",
    "    ### 확률값 중 최대값을 클래스로 매칭\n",
    "    val_cls = np.argmax(val_pred, axis = 1)\n",
    "    ### Fold별 정확도 산출\n",
    "    fold_cnn_acc = accuracy_score(np.argmax(val_y, axis = 1), val_cls)\n",
    "    cnn_acc.append(fold_cnn_acc)\n",
    "    print(f'{i + 1} Fold ACC of CNN = {fold_cnn_acc}\\n')\n",
    "\n",
    "    ### Fold별 test 데이터에 대한 예측값 생성 및 앙상블\n",
    "    fold_pred = best.predict(target) / skf.n_splits\n",
    "    cnn_pred += fold_pred"
   ]
  },
  {
   "cell_type": "code",
   "execution_count": 140,
   "id": "AspK0xses90C",
   "metadata": {
    "colab": {
     "base_uri": "https://localhost:8080/"
    },
    "executionInfo": {
     "elapsed": 9,
     "status": "ok",
     "timestamp": 1646628483549,
     "user": {
      "displayName": "기세현",
      "photoUrl": "https://lh3.googleusercontent.com/a/default-user=s64",
      "userId": "06743460080794396829"
     },
     "user_tz": -540
    },
    "id": "AspK0xses90C",
    "outputId": "66736b63-770d-4e73-964e-149ea4c09e1f"
   },
   "outputs": [
    {
     "data": {
      "text/plain": [
       "0.8282638201093135"
      ]
     },
     "execution_count": 140,
     "metadata": {},
     "output_type": "execute_result"
    }
   ],
   "source": [
    "np.mean(cnn_acc)"
   ]
  },
  {
   "cell_type": "code",
   "execution_count": 144,
   "id": "7f153e89",
   "metadata": {
    "executionInfo": {
     "elapsed": 685,
     "status": "ok",
     "timestamp": 1646628854525,
     "user": {
      "displayName": "기세현",
      "photoUrl": "https://lh3.googleusercontent.com/a/default-user=s64",
      "userId": "06743460080794396829"
     },
     "user_tz": -540
    },
    "id": "7f153e89"
   },
   "outputs": [],
   "source": [
    "submission['target'] = np.argmax(cnn_pred, axis = 1)"
   ]
  },
  {
   "cell_type": "code",
   "execution_count": 145,
   "id": "b394fd5b",
   "metadata": {
    "executionInfo": {
     "elapsed": 8,
     "status": "ok",
     "timestamp": 1646628857313,
     "user": {
      "displayName": "기세현",
      "photoUrl": "https://lh3.googleusercontent.com/a/default-user=s64",
      "userId": "06743460080794396829"
     },
     "user_tz": -540
    },
    "id": "b394fd5b"
   },
   "outputs": [],
   "source": [
    "submission.to_csv('1st.csv', index = False)"
   ]
  },
  {
   "cell_type": "code",
   "execution_count": 146,
   "id": "543d3167",
   "metadata": {
    "colab": {
     "base_uri": "https://localhost:8080/"
    },
    "executionInfo": {
     "elapsed": 5,
     "status": "ok",
     "timestamp": 1646628859270,
     "user": {
      "displayName": "기세현",
      "photoUrl": "https://lh3.googleusercontent.com/a/default-user=s64",
      "userId": "06743460080794396829"
     },
     "user_tz": -540
    },
    "id": "543d3167",
    "outputId": "394a832f-e1e5-4eb6-a71d-3bdadb3eb225"
   },
   "outputs": [
    {
     "data": {
      "text/plain": [
       "1    2471\n",
       "2    2367\n",
       "0    2272\n",
       "3    2233\n",
       "Name: target, dtype: int64"
      ]
     },
     "execution_count": 146,
     "metadata": {},
     "output_type": "execute_result"
    }
   ],
   "source": [
    "submission.target.value_counts()"
   ]
  }
 ],
 "metadata": {
  "colab": {
   "collapsed_sections": [],
   "name": "PB84542-Copy1.ipynb",
   "provenance": []
  },
  "kernelspec": {
   "display_name": "Python 3",
   "language": "python",
   "name": "python3"
  },
  "language_info": {
   "codemirror_mode": {
    "name": "ipython",
    "version": 3
   },
   "file_extension": ".py",
   "mimetype": "text/x-python",
   "name": "python",
   "nbconvert_exporter": "python",
   "pygments_lexer": "ipython3",
   "version": "3.8.8"
  }
 },
 "nbformat": 4,
 "nbformat_minor": 5
}
